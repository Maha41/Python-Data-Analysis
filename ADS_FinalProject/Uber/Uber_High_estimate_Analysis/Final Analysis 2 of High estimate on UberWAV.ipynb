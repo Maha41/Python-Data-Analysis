{
 "cells": [
  {
   "cell_type": "code",
   "execution_count": 2,
   "metadata": {},
   "outputs": [
    {
     "name": "stderr",
     "output_type": "stream",
     "text": [
      "C:\\Users\\amaha\\Anaconda3\\envs\\py35\\lib\\site-packages\\sklearn\\cross_validation.py:41: DeprecationWarning: This module was deprecated in version 0.18 in favor of the model_selection module into which all the refactored classes and functions are moved. Also note that the interface of the new CV iterators are different from that of this module. This module will be removed in 0.20.\n",
      "  \"This module will be removed in 0.20.\", DeprecationWarning)\n"
     ]
    }
   ],
   "source": [
    "import json\n",
    "import pandas as pd\n",
    "%matplotlib inline \n",
    "import matplotlib.pyplot as plt\n",
    "import numpy as np\n",
    "import pandas as pd\n",
    "from scipy import stats\n",
    "import seaborn as sns\n",
    "import warnings\n",
    "import random\n",
    "from sklearn import cross_validation # used to test classifier\n",
    "from sklearn.cross_validation import KFold, cross_val_score, train_test_split\n",
    "from sklearn import metrics\n",
    "from datetime import datetime\n",
    "random.seed(datetime.now())\n",
    "warnings.filterwarnings('ignore')\n",
    "\n",
    "\n",
    "plt.rcParams['figure.figsize'] = (20, 10) #Defining size of plots\n",
    "from sklearn import metrics\n",
    "from sklearn.preprocessing import StandardScaler\n",
    "from sklearn.neighbors import KNeighborsClassifier \n",
    "from sklearn.metrics import roc_curve # ROC Curves\n",
    "from sklearn.metrics import auc # Calculating AUC for ROC's!\n",
    "import warnings\n",
    "\n",
    "warnings.filterwarnings('ignore')"
   ]
  },
  {
   "cell_type": "code",
   "execution_count": 3,
   "metadata": {
    "collapsed": true
   },
   "outputs": [],
   "source": [
    "dj = pd.read_json('uber.json') # Reading the json file\n",
    "df_main = pd.DataFrame(dj)"
   ]
  },
  {
   "cell_type": "code",
   "execution_count": 4,
   "metadata": {},
   "outputs": [
    {
     "data": {
      "text/plain": [
       "(51212, 15)"
      ]
     },
     "execution_count": 4,
     "metadata": {},
     "output_type": "execute_result"
    }
   ],
   "source": [
    "df_main.shape # Determining the size of the dataset"
   ]
  },
  {
   "cell_type": "code",
   "execution_count": 5,
   "metadata": {
    "collapsed": true
   },
   "outputs": [],
   "source": [
    "df_uber=df_main # Creating a copy of dataset"
   ]
  },
  {
   "cell_type": "code",
   "execution_count": 6,
   "metadata": {},
   "outputs": [
    {
     "data": {
      "text/html": [
       "<div>\n",
       "<style>\n",
       "    .dataframe thead tr:only-child th {\n",
       "        text-align: right;\n",
       "    }\n",
       "\n",
       "    .dataframe thead th {\n",
       "        text-align: left;\n",
       "    }\n",
       "\n",
       "    .dataframe tbody tr th {\n",
       "        vertical-align: top;\n",
       "    }\n",
       "</style>\n",
       "<table border=\"1\" class=\"dataframe\">\n",
       "  <thead>\n",
       "    <tr style=\"text-align: right;\">\n",
       "      <th></th>\n",
       "      <th>Date-time</th>\n",
       "      <th>currency_code</th>\n",
       "      <th>display_name</th>\n",
       "      <th>distance</th>\n",
       "      <th>duration</th>\n",
       "      <th>end_latitude</th>\n",
       "      <th>end_longitude</th>\n",
       "      <th>estimate</th>\n",
       "      <th>high_estimate</th>\n",
       "      <th>localized_display_name</th>\n",
       "      <th>low_estimate</th>\n",
       "      <th>product_id</th>\n",
       "      <th>start_latitude</th>\n",
       "      <th>start_longitude</th>\n",
       "      <th>time</th>\n",
       "    </tr>\n",
       "  </thead>\n",
       "  <tbody>\n",
       "    <tr>\n",
       "      <th>0</th>\n",
       "      <td>2017-12-05 22:47:56</td>\n",
       "      <td>USD</td>\n",
       "      <td>uberPOOL</td>\n",
       "      <td>8.24</td>\n",
       "      <td>1080</td>\n",
       "      <td>42.314857</td>\n",
       "      <td>-71.056782</td>\n",
       "      <td>$8-11</td>\n",
       "      <td>12.0</td>\n",
       "      <td>uberPOOL</td>\n",
       "      <td>8.0</td>\n",
       "      <td>997acbb5-e102-41e1-b155-9df7de0a73f2</td>\n",
       "      <td>42.342588</td>\n",
       "      <td>-71.122463</td>\n",
       "      <td>22:47:56</td>\n",
       "    </tr>\n",
       "    <tr>\n",
       "      <th>1</th>\n",
       "      <td>2017-12-05 22:47:56</td>\n",
       "      <td>USD</td>\n",
       "      <td>uberX</td>\n",
       "      <td>8.24</td>\n",
       "      <td>1080</td>\n",
       "      <td>42.314857</td>\n",
       "      <td>-71.056782</td>\n",
       "      <td>$18-23</td>\n",
       "      <td>23.0</td>\n",
       "      <td>uberX</td>\n",
       "      <td>18.0</td>\n",
       "      <td>55c66225-fbe7-4fd5-9072-eab1ece5e23e</td>\n",
       "      <td>42.342588</td>\n",
       "      <td>-71.122463</td>\n",
       "      <td>22:47:56</td>\n",
       "    </tr>\n",
       "    <tr>\n",
       "      <th>2</th>\n",
       "      <td>2017-12-05 22:47:56</td>\n",
       "      <td>USD</td>\n",
       "      <td>uberSUV</td>\n",
       "      <td>8.24</td>\n",
       "      <td>1080</td>\n",
       "      <td>42.314857</td>\n",
       "      <td>-71.056782</td>\n",
       "      <td>$50-63</td>\n",
       "      <td>63.0</td>\n",
       "      <td>uberSUV</td>\n",
       "      <td>50.0</td>\n",
       "      <td>6d318bcc-22a3-4af6-bddd-b409bfce1546</td>\n",
       "      <td>42.342588</td>\n",
       "      <td>-71.122463</td>\n",
       "      <td>22:47:56</td>\n",
       "    </tr>\n",
       "    <tr>\n",
       "      <th>3</th>\n",
       "      <td>2017-12-05 22:47:56</td>\n",
       "      <td>USD</td>\n",
       "      <td>uberXL</td>\n",
       "      <td>8.24</td>\n",
       "      <td>1080</td>\n",
       "      <td>42.314857</td>\n",
       "      <td>-71.056782</td>\n",
       "      <td>$28-35</td>\n",
       "      <td>35.0</td>\n",
       "      <td>uberXL</td>\n",
       "      <td>28.0</td>\n",
       "      <td>6f72dfc5-27f1-42e8-84db-ccc7a75f6969</td>\n",
       "      <td>42.342588</td>\n",
       "      <td>-71.122463</td>\n",
       "      <td>22:47:56</td>\n",
       "    </tr>\n",
       "    <tr>\n",
       "      <th>4</th>\n",
       "      <td>2017-12-05 22:47:56</td>\n",
       "      <td>USD</td>\n",
       "      <td>UberBLACK</td>\n",
       "      <td>8.24</td>\n",
       "      <td>1080</td>\n",
       "      <td>42.314857</td>\n",
       "      <td>-71.056782</td>\n",
       "      <td>$41-51</td>\n",
       "      <td>51.0</td>\n",
       "      <td>UberBLACK</td>\n",
       "      <td>41.0</td>\n",
       "      <td>6c84fd89-3f11-4782-9b50-97c468b19529</td>\n",
       "      <td>42.342588</td>\n",
       "      <td>-71.122463</td>\n",
       "      <td>22:47:56</td>\n",
       "    </tr>\n",
       "  </tbody>\n",
       "</table>\n",
       "</div>"
      ],
      "text/plain": [
       "             Date-time currency_code display_name  distance  duration  \\\n",
       "0  2017-12-05 22:47:56           USD     uberPOOL      8.24      1080   \n",
       "1  2017-12-05 22:47:56           USD        uberX      8.24      1080   \n",
       "2  2017-12-05 22:47:56           USD      uberSUV      8.24      1080   \n",
       "3  2017-12-05 22:47:56           USD       uberXL      8.24      1080   \n",
       "4  2017-12-05 22:47:56           USD    UberBLACK      8.24      1080   \n",
       "\n",
       "   end_latitude  end_longitude estimate  high_estimate localized_display_name  \\\n",
       "0     42.314857     -71.056782    $8-11           12.0               uberPOOL   \n",
       "1     42.314857     -71.056782   $18-23           23.0                  uberX   \n",
       "2     42.314857     -71.056782   $50-63           63.0                uberSUV   \n",
       "3     42.314857     -71.056782   $28-35           35.0                 uberXL   \n",
       "4     42.314857     -71.056782   $41-51           51.0              UberBLACK   \n",
       "\n",
       "   low_estimate                            product_id  start_latitude  \\\n",
       "0           8.0  997acbb5-e102-41e1-b155-9df7de0a73f2       42.342588   \n",
       "1          18.0  55c66225-fbe7-4fd5-9072-eab1ece5e23e       42.342588   \n",
       "2          50.0  6d318bcc-22a3-4af6-bddd-b409bfce1546       42.342588   \n",
       "3          28.0  6f72dfc5-27f1-42e8-84db-ccc7a75f6969       42.342588   \n",
       "4          41.0  6c84fd89-3f11-4782-9b50-97c468b19529       42.342588   \n",
       "\n",
       "   start_longitude      time  \n",
       "0       -71.122463  22:47:56  \n",
       "1       -71.122463  22:47:56  \n",
       "2       -71.122463  22:47:56  \n",
       "3       -71.122463  22:47:56  \n",
       "4       -71.122463  22:47:56  "
      ]
     },
     "execution_count": 6,
     "metadata": {},
     "output_type": "execute_result"
    }
   ],
   "source": [
    "df_uber.head() # view dataset"
   ]
  },
  {
   "cell_type": "code",
   "execution_count": 7,
   "metadata": {
    "collapsed": true
   },
   "outputs": [],
   "source": [
    "uber = df_uber[df_main.display_name != 'TAXI'] # Removing all records of Taxi because aim is to focus on trends on Uber"
   ]
  },
  {
   "cell_type": "code",
   "execution_count": 8,
   "metadata": {},
   "outputs": [
    {
     "data": {
      "text/html": [
       "<div>\n",
       "<style>\n",
       "    .dataframe thead tr:only-child th {\n",
       "        text-align: right;\n",
       "    }\n",
       "\n",
       "    .dataframe thead th {\n",
       "        text-align: left;\n",
       "    }\n",
       "\n",
       "    .dataframe tbody tr th {\n",
       "        vertical-align: top;\n",
       "    }\n",
       "</style>\n",
       "<table border=\"1\" class=\"dataframe\">\n",
       "  <thead>\n",
       "    <tr style=\"text-align: right;\">\n",
       "      <th></th>\n",
       "      <th>Date-time</th>\n",
       "      <th>currency_code</th>\n",
       "      <th>display_name</th>\n",
       "      <th>distance</th>\n",
       "      <th>duration</th>\n",
       "      <th>end_latitude</th>\n",
       "      <th>end_longitude</th>\n",
       "      <th>estimate</th>\n",
       "      <th>high_estimate</th>\n",
       "      <th>localized_display_name</th>\n",
       "      <th>low_estimate</th>\n",
       "      <th>product_id</th>\n",
       "      <th>start_latitude</th>\n",
       "      <th>start_longitude</th>\n",
       "      <th>time</th>\n",
       "    </tr>\n",
       "  </thead>\n",
       "  <tbody>\n",
       "    <tr>\n",
       "      <th>0</th>\n",
       "      <td>2017-12-05 22:47:56</td>\n",
       "      <td>USD</td>\n",
       "      <td>uberPOOL</td>\n",
       "      <td>8.24</td>\n",
       "      <td>1080</td>\n",
       "      <td>42.314857</td>\n",
       "      <td>-71.056782</td>\n",
       "      <td>$8-11</td>\n",
       "      <td>12.0</td>\n",
       "      <td>uberPOOL</td>\n",
       "      <td>8.0</td>\n",
       "      <td>997acbb5-e102-41e1-b155-9df7de0a73f2</td>\n",
       "      <td>42.342588</td>\n",
       "      <td>-71.122463</td>\n",
       "      <td>22:47:56</td>\n",
       "    </tr>\n",
       "    <tr>\n",
       "      <th>1</th>\n",
       "      <td>2017-12-05 22:47:56</td>\n",
       "      <td>USD</td>\n",
       "      <td>uberX</td>\n",
       "      <td>8.24</td>\n",
       "      <td>1080</td>\n",
       "      <td>42.314857</td>\n",
       "      <td>-71.056782</td>\n",
       "      <td>$18-23</td>\n",
       "      <td>23.0</td>\n",
       "      <td>uberX</td>\n",
       "      <td>18.0</td>\n",
       "      <td>55c66225-fbe7-4fd5-9072-eab1ece5e23e</td>\n",
       "      <td>42.342588</td>\n",
       "      <td>-71.122463</td>\n",
       "      <td>22:47:56</td>\n",
       "    </tr>\n",
       "    <tr>\n",
       "      <th>2</th>\n",
       "      <td>2017-12-05 22:47:56</td>\n",
       "      <td>USD</td>\n",
       "      <td>uberSUV</td>\n",
       "      <td>8.24</td>\n",
       "      <td>1080</td>\n",
       "      <td>42.314857</td>\n",
       "      <td>-71.056782</td>\n",
       "      <td>$50-63</td>\n",
       "      <td>63.0</td>\n",
       "      <td>uberSUV</td>\n",
       "      <td>50.0</td>\n",
       "      <td>6d318bcc-22a3-4af6-bddd-b409bfce1546</td>\n",
       "      <td>42.342588</td>\n",
       "      <td>-71.122463</td>\n",
       "      <td>22:47:56</td>\n",
       "    </tr>\n",
       "    <tr>\n",
       "      <th>3</th>\n",
       "      <td>2017-12-05 22:47:56</td>\n",
       "      <td>USD</td>\n",
       "      <td>uberXL</td>\n",
       "      <td>8.24</td>\n",
       "      <td>1080</td>\n",
       "      <td>42.314857</td>\n",
       "      <td>-71.056782</td>\n",
       "      <td>$28-35</td>\n",
       "      <td>35.0</td>\n",
       "      <td>uberXL</td>\n",
       "      <td>28.0</td>\n",
       "      <td>6f72dfc5-27f1-42e8-84db-ccc7a75f6969</td>\n",
       "      <td>42.342588</td>\n",
       "      <td>-71.122463</td>\n",
       "      <td>22:47:56</td>\n",
       "    </tr>\n",
       "    <tr>\n",
       "      <th>4</th>\n",
       "      <td>2017-12-05 22:47:56</td>\n",
       "      <td>USD</td>\n",
       "      <td>UberBLACK</td>\n",
       "      <td>8.24</td>\n",
       "      <td>1080</td>\n",
       "      <td>42.314857</td>\n",
       "      <td>-71.056782</td>\n",
       "      <td>$41-51</td>\n",
       "      <td>51.0</td>\n",
       "      <td>UberBLACK</td>\n",
       "      <td>41.0</td>\n",
       "      <td>6c84fd89-3f11-4782-9b50-97c468b19529</td>\n",
       "      <td>42.342588</td>\n",
       "      <td>-71.122463</td>\n",
       "      <td>22:47:56</td>\n",
       "    </tr>\n",
       "  </tbody>\n",
       "</table>\n",
       "</div>"
      ],
      "text/plain": [
       "             Date-time currency_code display_name  distance  duration  \\\n",
       "0  2017-12-05 22:47:56           USD     uberPOOL      8.24      1080   \n",
       "1  2017-12-05 22:47:56           USD        uberX      8.24      1080   \n",
       "2  2017-12-05 22:47:56           USD      uberSUV      8.24      1080   \n",
       "3  2017-12-05 22:47:56           USD       uberXL      8.24      1080   \n",
       "4  2017-12-05 22:47:56           USD    UberBLACK      8.24      1080   \n",
       "\n",
       "   end_latitude  end_longitude estimate  high_estimate localized_display_name  \\\n",
       "0     42.314857     -71.056782    $8-11           12.0               uberPOOL   \n",
       "1     42.314857     -71.056782   $18-23           23.0                  uberX   \n",
       "2     42.314857     -71.056782   $50-63           63.0                uberSUV   \n",
       "3     42.314857     -71.056782   $28-35           35.0                 uberXL   \n",
       "4     42.314857     -71.056782   $41-51           51.0              UberBLACK   \n",
       "\n",
       "   low_estimate                            product_id  start_latitude  \\\n",
       "0           8.0  997acbb5-e102-41e1-b155-9df7de0a73f2       42.342588   \n",
       "1          18.0  55c66225-fbe7-4fd5-9072-eab1ece5e23e       42.342588   \n",
       "2          50.0  6d318bcc-22a3-4af6-bddd-b409bfce1546       42.342588   \n",
       "3          28.0  6f72dfc5-27f1-42e8-84db-ccc7a75f6969       42.342588   \n",
       "4          41.0  6c84fd89-3f11-4782-9b50-97c468b19529       42.342588   \n",
       "\n",
       "   start_longitude      time  \n",
       "0       -71.122463  22:47:56  \n",
       "1       -71.122463  22:47:56  \n",
       "2       -71.122463  22:47:56  \n",
       "3       -71.122463  22:47:56  \n",
       "4       -71.122463  22:47:56  "
      ]
     },
     "execution_count": 8,
     "metadata": {},
     "output_type": "execute_result"
    }
   ],
   "source": [
    "uber.head() # Loding dataset"
   ]
  },
  {
   "cell_type": "code",
   "execution_count": 9,
   "metadata": {
    "collapsed": true
   },
   "outputs": [],
   "source": [
    "import datetime # import to use the date time functiuons"
   ]
  },
  {
   "cell_type": "code",
   "execution_count": 10,
   "metadata": {},
   "outputs": [
    {
     "data": {
      "text/plain": [
       "Date-time                  object\n",
       "currency_code              object\n",
       "display_name               object\n",
       "distance                  float64\n",
       "duration                    int64\n",
       "end_latitude              float64\n",
       "end_longitude             float64\n",
       "estimate                   object\n",
       "high_estimate             float64\n",
       "localized_display_name     object\n",
       "low_estimate              float64\n",
       "product_id                 object\n",
       "start_latitude            float64\n",
       "start_longitude           float64\n",
       "time                       object\n",
       "dtype: object"
      ]
     },
     "execution_count": 10,
     "metadata": {},
     "output_type": "execute_result"
    }
   ],
   "source": [
    "uber.dtypes # checking type of each column"
   ]
  },
  {
   "cell_type": "code",
   "execution_count": 11,
   "metadata": {
    "collapsed": true
   },
   "outputs": [],
   "source": [
    "uber = uber.rename(columns = {'Date-time':'date_time'}) # Renaming Column"
   ]
  },
  {
   "cell_type": "code",
   "execution_count": 12,
   "metadata": {},
   "outputs": [
    {
     "data": {
      "text/html": [
       "<div>\n",
       "<style>\n",
       "    .dataframe thead tr:only-child th {\n",
       "        text-align: right;\n",
       "    }\n",
       "\n",
       "    .dataframe thead th {\n",
       "        text-align: left;\n",
       "    }\n",
       "\n",
       "    .dataframe tbody tr th {\n",
       "        vertical-align: top;\n",
       "    }\n",
       "</style>\n",
       "<table border=\"1\" class=\"dataframe\">\n",
       "  <thead>\n",
       "    <tr style=\"text-align: right;\">\n",
       "      <th></th>\n",
       "      <th>date_time</th>\n",
       "      <th>currency_code</th>\n",
       "      <th>display_name</th>\n",
       "      <th>distance</th>\n",
       "      <th>duration</th>\n",
       "      <th>end_latitude</th>\n",
       "      <th>end_longitude</th>\n",
       "      <th>estimate</th>\n",
       "      <th>high_estimate</th>\n",
       "      <th>localized_display_name</th>\n",
       "      <th>low_estimate</th>\n",
       "      <th>product_id</th>\n",
       "      <th>start_latitude</th>\n",
       "      <th>start_longitude</th>\n",
       "      <th>time</th>\n",
       "    </tr>\n",
       "  </thead>\n",
       "  <tbody>\n",
       "    <tr>\n",
       "      <th>0</th>\n",
       "      <td>2017-12-05 22:47:56</td>\n",
       "      <td>USD</td>\n",
       "      <td>uberPOOL</td>\n",
       "      <td>8.24</td>\n",
       "      <td>1080</td>\n",
       "      <td>42.314857</td>\n",
       "      <td>-71.056782</td>\n",
       "      <td>$8-11</td>\n",
       "      <td>12.0</td>\n",
       "      <td>uberPOOL</td>\n",
       "      <td>8.0</td>\n",
       "      <td>997acbb5-e102-41e1-b155-9df7de0a73f2</td>\n",
       "      <td>42.342588</td>\n",
       "      <td>-71.122463</td>\n",
       "      <td>22:47:56</td>\n",
       "    </tr>\n",
       "    <tr>\n",
       "      <th>1</th>\n",
       "      <td>2017-12-05 22:47:56</td>\n",
       "      <td>USD</td>\n",
       "      <td>uberX</td>\n",
       "      <td>8.24</td>\n",
       "      <td>1080</td>\n",
       "      <td>42.314857</td>\n",
       "      <td>-71.056782</td>\n",
       "      <td>$18-23</td>\n",
       "      <td>23.0</td>\n",
       "      <td>uberX</td>\n",
       "      <td>18.0</td>\n",
       "      <td>55c66225-fbe7-4fd5-9072-eab1ece5e23e</td>\n",
       "      <td>42.342588</td>\n",
       "      <td>-71.122463</td>\n",
       "      <td>22:47:56</td>\n",
       "    </tr>\n",
       "    <tr>\n",
       "      <th>2</th>\n",
       "      <td>2017-12-05 22:47:56</td>\n",
       "      <td>USD</td>\n",
       "      <td>uberSUV</td>\n",
       "      <td>8.24</td>\n",
       "      <td>1080</td>\n",
       "      <td>42.314857</td>\n",
       "      <td>-71.056782</td>\n",
       "      <td>$50-63</td>\n",
       "      <td>63.0</td>\n",
       "      <td>uberSUV</td>\n",
       "      <td>50.0</td>\n",
       "      <td>6d318bcc-22a3-4af6-bddd-b409bfce1546</td>\n",
       "      <td>42.342588</td>\n",
       "      <td>-71.122463</td>\n",
       "      <td>22:47:56</td>\n",
       "    </tr>\n",
       "    <tr>\n",
       "      <th>3</th>\n",
       "      <td>2017-12-05 22:47:56</td>\n",
       "      <td>USD</td>\n",
       "      <td>uberXL</td>\n",
       "      <td>8.24</td>\n",
       "      <td>1080</td>\n",
       "      <td>42.314857</td>\n",
       "      <td>-71.056782</td>\n",
       "      <td>$28-35</td>\n",
       "      <td>35.0</td>\n",
       "      <td>uberXL</td>\n",
       "      <td>28.0</td>\n",
       "      <td>6f72dfc5-27f1-42e8-84db-ccc7a75f6969</td>\n",
       "      <td>42.342588</td>\n",
       "      <td>-71.122463</td>\n",
       "      <td>22:47:56</td>\n",
       "    </tr>\n",
       "    <tr>\n",
       "      <th>4</th>\n",
       "      <td>2017-12-05 22:47:56</td>\n",
       "      <td>USD</td>\n",
       "      <td>UberBLACK</td>\n",
       "      <td>8.24</td>\n",
       "      <td>1080</td>\n",
       "      <td>42.314857</td>\n",
       "      <td>-71.056782</td>\n",
       "      <td>$41-51</td>\n",
       "      <td>51.0</td>\n",
       "      <td>UberBLACK</td>\n",
       "      <td>41.0</td>\n",
       "      <td>6c84fd89-3f11-4782-9b50-97c468b19529</td>\n",
       "      <td>42.342588</td>\n",
       "      <td>-71.122463</td>\n",
       "      <td>22:47:56</td>\n",
       "    </tr>\n",
       "  </tbody>\n",
       "</table>\n",
       "</div>"
      ],
      "text/plain": [
       "             date_time currency_code display_name  distance  duration  \\\n",
       "0  2017-12-05 22:47:56           USD     uberPOOL      8.24      1080   \n",
       "1  2017-12-05 22:47:56           USD        uberX      8.24      1080   \n",
       "2  2017-12-05 22:47:56           USD      uberSUV      8.24      1080   \n",
       "3  2017-12-05 22:47:56           USD       uberXL      8.24      1080   \n",
       "4  2017-12-05 22:47:56           USD    UberBLACK      8.24      1080   \n",
       "\n",
       "   end_latitude  end_longitude estimate  high_estimate localized_display_name  \\\n",
       "0     42.314857     -71.056782    $8-11           12.0               uberPOOL   \n",
       "1     42.314857     -71.056782   $18-23           23.0                  uberX   \n",
       "2     42.314857     -71.056782   $50-63           63.0                uberSUV   \n",
       "3     42.314857     -71.056782   $28-35           35.0                 uberXL   \n",
       "4     42.314857     -71.056782   $41-51           51.0              UberBLACK   \n",
       "\n",
       "   low_estimate                            product_id  start_latitude  \\\n",
       "0           8.0  997acbb5-e102-41e1-b155-9df7de0a73f2       42.342588   \n",
       "1          18.0  55c66225-fbe7-4fd5-9072-eab1ece5e23e       42.342588   \n",
       "2          50.0  6d318bcc-22a3-4af6-bddd-b409bfce1546       42.342588   \n",
       "3          28.0  6f72dfc5-27f1-42e8-84db-ccc7a75f6969       42.342588   \n",
       "4          41.0  6c84fd89-3f11-4782-9b50-97c468b19529       42.342588   \n",
       "\n",
       "   start_longitude      time  \n",
       "0       -71.122463  22:47:56  \n",
       "1       -71.122463  22:47:56  \n",
       "2       -71.122463  22:47:56  \n",
       "3       -71.122463  22:47:56  \n",
       "4       -71.122463  22:47:56  "
      ]
     },
     "execution_count": 12,
     "metadata": {},
     "output_type": "execute_result"
    }
   ],
   "source": [
    "uber.head() # Viewing the table"
   ]
  },
  {
   "cell_type": "code",
   "execution_count": 13,
   "metadata": {},
   "outputs": [
    {
     "data": {
      "text/html": [
       "<div>\n",
       "<style>\n",
       "    .dataframe thead tr:only-child th {\n",
       "        text-align: right;\n",
       "    }\n",
       "\n",
       "    .dataframe thead th {\n",
       "        text-align: left;\n",
       "    }\n",
       "\n",
       "    .dataframe tbody tr th {\n",
       "        vertical-align: top;\n",
       "    }\n",
       "</style>\n",
       "<table border=\"1\" class=\"dataframe\">\n",
       "  <thead>\n",
       "    <tr style=\"text-align: right;\">\n",
       "      <th></th>\n",
       "      <th>Date</th>\n",
       "      <th>Time</th>\n",
       "    </tr>\n",
       "  </thead>\n",
       "  <tbody>\n",
       "    <tr>\n",
       "      <th>0</th>\n",
       "      <td>2017-12-05</td>\n",
       "      <td>22:47:56</td>\n",
       "    </tr>\n",
       "    <tr>\n",
       "      <th>1</th>\n",
       "      <td>2017-12-05</td>\n",
       "      <td>22:47:56</td>\n",
       "    </tr>\n",
       "    <tr>\n",
       "      <th>2</th>\n",
       "      <td>2017-12-05</td>\n",
       "      <td>22:47:56</td>\n",
       "    </tr>\n",
       "    <tr>\n",
       "      <th>3</th>\n",
       "      <td>2017-12-05</td>\n",
       "      <td>22:47:56</td>\n",
       "    </tr>\n",
       "    <tr>\n",
       "      <th>4</th>\n",
       "      <td>2017-12-05</td>\n",
       "      <td>22:47:56</td>\n",
       "    </tr>\n",
       "  </tbody>\n",
       "</table>\n",
       "</div>"
      ],
      "text/plain": [
       "         Date      Time\n",
       "0  2017-12-05  22:47:56\n",
       "1  2017-12-05  22:47:56\n",
       "2  2017-12-05  22:47:56\n",
       "3  2017-12-05  22:47:56\n",
       "4  2017-12-05  22:47:56"
      ]
     },
     "execution_count": 13,
     "metadata": {},
     "output_type": "execute_result"
    }
   ],
   "source": [
    "df = pd.DataFrame(uber.date_time.str.split(' ',1).tolist(),\n",
    "                                   columns = ['Date','Time'])\n",
    "df.head() #to check the range of date in the file"
   ]
  },
  {
   "cell_type": "code",
   "execution_count": 14,
   "metadata": {
    "scrolled": true
   },
   "outputs": [
    {
     "name": "stdout",
     "output_type": "stream",
     "text": [
      "2017-12-05\n",
      "2017-12-13\n"
     ]
    }
   ],
   "source": [
    "print(min(df.Date)) # Display of date range\n",
    "print(max(df.Date))"
   ]
  },
  {
   "cell_type": "code",
   "execution_count": 15,
   "metadata": {},
   "outputs": [
    {
     "data": {
      "text/html": [
       "<div>\n",
       "<style>\n",
       "    .dataframe thead tr:only-child th {\n",
       "        text-align: right;\n",
       "    }\n",
       "\n",
       "    .dataframe thead th {\n",
       "        text-align: left;\n",
       "    }\n",
       "\n",
       "    .dataframe tbody tr th {\n",
       "        vertical-align: top;\n",
       "    }\n",
       "</style>\n",
       "<table border=\"1\" class=\"dataframe\">\n",
       "  <thead>\n",
       "    <tr style=\"text-align: right;\">\n",
       "      <th></th>\n",
       "      <th>Date</th>\n",
       "      <th>Time</th>\n",
       "    </tr>\n",
       "  </thead>\n",
       "  <tbody>\n",
       "    <tr>\n",
       "      <th>0</th>\n",
       "      <td>2017-12-05</td>\n",
       "      <td>22:47:56</td>\n",
       "    </tr>\n",
       "    <tr>\n",
       "      <th>1</th>\n",
       "      <td>2017-12-05</td>\n",
       "      <td>22:47:56</td>\n",
       "    </tr>\n",
       "    <tr>\n",
       "      <th>2</th>\n",
       "      <td>2017-12-05</td>\n",
       "      <td>22:47:56</td>\n",
       "    </tr>\n",
       "    <tr>\n",
       "      <th>3</th>\n",
       "      <td>2017-12-05</td>\n",
       "      <td>22:47:56</td>\n",
       "    </tr>\n",
       "    <tr>\n",
       "      <th>4</th>\n",
       "      <td>2017-12-05</td>\n",
       "      <td>22:47:56</td>\n",
       "    </tr>\n",
       "  </tbody>\n",
       "</table>\n",
       "</div>"
      ],
      "text/plain": [
       "         Date      Time\n",
       "0  2017-12-05  22:47:56\n",
       "1  2017-12-05  22:47:56\n",
       "2  2017-12-05  22:47:56\n",
       "3  2017-12-05  22:47:56\n",
       "4  2017-12-05  22:47:56"
      ]
     },
     "execution_count": 15,
     "metadata": {},
     "output_type": "execute_result"
    }
   ],
   "source": [
    "df.head() # Display of dataframe"
   ]
  },
  {
   "cell_type": "code",
   "execution_count": 16,
   "metadata": {},
   "outputs": [
    {
     "data": {
      "text/html": [
       "<div>\n",
       "<style>\n",
       "    .dataframe thead tr:only-child th {\n",
       "        text-align: right;\n",
       "    }\n",
       "\n",
       "    .dataframe thead th {\n",
       "        text-align: left;\n",
       "    }\n",
       "\n",
       "    .dataframe tbody tr th {\n",
       "        vertical-align: top;\n",
       "    }\n",
       "</style>\n",
       "<table border=\"1\" class=\"dataframe\">\n",
       "  <thead>\n",
       "    <tr style=\"text-align: right;\">\n",
       "      <th></th>\n",
       "      <th>date_time</th>\n",
       "      <th>currency_code</th>\n",
       "      <th>display_name</th>\n",
       "      <th>distance</th>\n",
       "      <th>duration</th>\n",
       "      <th>end_latitude</th>\n",
       "      <th>end_longitude</th>\n",
       "      <th>estimate</th>\n",
       "      <th>high_estimate</th>\n",
       "      <th>localized_display_name</th>\n",
       "      <th>low_estimate</th>\n",
       "      <th>product_id</th>\n",
       "      <th>start_latitude</th>\n",
       "      <th>start_longitude</th>\n",
       "      <th>time</th>\n",
       "    </tr>\n",
       "  </thead>\n",
       "  <tbody>\n",
       "    <tr>\n",
       "      <th>0</th>\n",
       "      <td>2017-12-05 22:47:56</td>\n",
       "      <td>USD</td>\n",
       "      <td>uberPOOL</td>\n",
       "      <td>8.24</td>\n",
       "      <td>1080</td>\n",
       "      <td>42.314857</td>\n",
       "      <td>-71.056782</td>\n",
       "      <td>$8-11</td>\n",
       "      <td>12.0</td>\n",
       "      <td>uberPOOL</td>\n",
       "      <td>8.0</td>\n",
       "      <td>997acbb5-e102-41e1-b155-9df7de0a73f2</td>\n",
       "      <td>42.342588</td>\n",
       "      <td>-71.122463</td>\n",
       "      <td>22:47:56</td>\n",
       "    </tr>\n",
       "    <tr>\n",
       "      <th>1</th>\n",
       "      <td>2017-12-05 22:47:56</td>\n",
       "      <td>USD</td>\n",
       "      <td>uberX</td>\n",
       "      <td>8.24</td>\n",
       "      <td>1080</td>\n",
       "      <td>42.314857</td>\n",
       "      <td>-71.056782</td>\n",
       "      <td>$18-23</td>\n",
       "      <td>23.0</td>\n",
       "      <td>uberX</td>\n",
       "      <td>18.0</td>\n",
       "      <td>55c66225-fbe7-4fd5-9072-eab1ece5e23e</td>\n",
       "      <td>42.342588</td>\n",
       "      <td>-71.122463</td>\n",
       "      <td>22:47:56</td>\n",
       "    </tr>\n",
       "    <tr>\n",
       "      <th>2</th>\n",
       "      <td>2017-12-05 22:47:56</td>\n",
       "      <td>USD</td>\n",
       "      <td>uberSUV</td>\n",
       "      <td>8.24</td>\n",
       "      <td>1080</td>\n",
       "      <td>42.314857</td>\n",
       "      <td>-71.056782</td>\n",
       "      <td>$50-63</td>\n",
       "      <td>63.0</td>\n",
       "      <td>uberSUV</td>\n",
       "      <td>50.0</td>\n",
       "      <td>6d318bcc-22a3-4af6-bddd-b409bfce1546</td>\n",
       "      <td>42.342588</td>\n",
       "      <td>-71.122463</td>\n",
       "      <td>22:47:56</td>\n",
       "    </tr>\n",
       "    <tr>\n",
       "      <th>3</th>\n",
       "      <td>2017-12-05 22:47:56</td>\n",
       "      <td>USD</td>\n",
       "      <td>uberXL</td>\n",
       "      <td>8.24</td>\n",
       "      <td>1080</td>\n",
       "      <td>42.314857</td>\n",
       "      <td>-71.056782</td>\n",
       "      <td>$28-35</td>\n",
       "      <td>35.0</td>\n",
       "      <td>uberXL</td>\n",
       "      <td>28.0</td>\n",
       "      <td>6f72dfc5-27f1-42e8-84db-ccc7a75f6969</td>\n",
       "      <td>42.342588</td>\n",
       "      <td>-71.122463</td>\n",
       "      <td>22:47:56</td>\n",
       "    </tr>\n",
       "    <tr>\n",
       "      <th>4</th>\n",
       "      <td>2017-12-05 22:47:56</td>\n",
       "      <td>USD</td>\n",
       "      <td>UberBLACK</td>\n",
       "      <td>8.24</td>\n",
       "      <td>1080</td>\n",
       "      <td>42.314857</td>\n",
       "      <td>-71.056782</td>\n",
       "      <td>$41-51</td>\n",
       "      <td>51.0</td>\n",
       "      <td>UberBLACK</td>\n",
       "      <td>41.0</td>\n",
       "      <td>6c84fd89-3f11-4782-9b50-97c468b19529</td>\n",
       "      <td>42.342588</td>\n",
       "      <td>-71.122463</td>\n",
       "      <td>22:47:56</td>\n",
       "    </tr>\n",
       "  </tbody>\n",
       "</table>\n",
       "</div>"
      ],
      "text/plain": [
       "             date_time currency_code display_name  distance  duration  \\\n",
       "0  2017-12-05 22:47:56           USD     uberPOOL      8.24      1080   \n",
       "1  2017-12-05 22:47:56           USD        uberX      8.24      1080   \n",
       "2  2017-12-05 22:47:56           USD      uberSUV      8.24      1080   \n",
       "3  2017-12-05 22:47:56           USD       uberXL      8.24      1080   \n",
       "4  2017-12-05 22:47:56           USD    UberBLACK      8.24      1080   \n",
       "\n",
       "   end_latitude  end_longitude estimate  high_estimate localized_display_name  \\\n",
       "0     42.314857     -71.056782    $8-11           12.0               uberPOOL   \n",
       "1     42.314857     -71.056782   $18-23           23.0                  uberX   \n",
       "2     42.314857     -71.056782   $50-63           63.0                uberSUV   \n",
       "3     42.314857     -71.056782   $28-35           35.0                 uberXL   \n",
       "4     42.314857     -71.056782   $41-51           51.0              UberBLACK   \n",
       "\n",
       "   low_estimate                            product_id  start_latitude  \\\n",
       "0           8.0  997acbb5-e102-41e1-b155-9df7de0a73f2       42.342588   \n",
       "1          18.0  55c66225-fbe7-4fd5-9072-eab1ece5e23e       42.342588   \n",
       "2          50.0  6d318bcc-22a3-4af6-bddd-b409bfce1546       42.342588   \n",
       "3          28.0  6f72dfc5-27f1-42e8-84db-ccc7a75f6969       42.342588   \n",
       "4          41.0  6c84fd89-3f11-4782-9b50-97c468b19529       42.342588   \n",
       "\n",
       "   start_longitude      time  \n",
       "0       -71.122463  22:47:56  \n",
       "1       -71.122463  22:47:56  \n",
       "2       -71.122463  22:47:56  \n",
       "3       -71.122463  22:47:56  \n",
       "4       -71.122463  22:47:56  "
      ]
     },
     "execution_count": 16,
     "metadata": {},
     "output_type": "execute_result"
    }
   ],
   "source": [
    "uber.head()"
   ]
  },
  {
   "cell_type": "code",
   "execution_count": 17,
   "metadata": {
    "collapsed": true
   },
   "outputs": [],
   "source": [
    "uber['date_time'] = pd.to_datetime(uber['date_time']) #Converting to date time format"
   ]
  },
  {
   "cell_type": "code",
   "execution_count": 18,
   "metadata": {},
   "outputs": [
    {
     "data": {
      "text/html": [
       "<div>\n",
       "<style>\n",
       "    .dataframe thead tr:only-child th {\n",
       "        text-align: right;\n",
       "    }\n",
       "\n",
       "    .dataframe thead th {\n",
       "        text-align: left;\n",
       "    }\n",
       "\n",
       "    .dataframe tbody tr th {\n",
       "        vertical-align: top;\n",
       "    }\n",
       "</style>\n",
       "<table border=\"1\" class=\"dataframe\">\n",
       "  <thead>\n",
       "    <tr style=\"text-align: right;\">\n",
       "      <th></th>\n",
       "      <th>date_time</th>\n",
       "      <th>currency_code</th>\n",
       "      <th>display_name</th>\n",
       "      <th>distance</th>\n",
       "      <th>duration</th>\n",
       "      <th>end_latitude</th>\n",
       "      <th>end_longitude</th>\n",
       "      <th>estimate</th>\n",
       "      <th>high_estimate</th>\n",
       "      <th>localized_display_name</th>\n",
       "      <th>low_estimate</th>\n",
       "      <th>product_id</th>\n",
       "      <th>start_latitude</th>\n",
       "      <th>start_longitude</th>\n",
       "      <th>time</th>\n",
       "    </tr>\n",
       "  </thead>\n",
       "  <tbody>\n",
       "    <tr>\n",
       "      <th>0</th>\n",
       "      <td>2017-12-05 22:47:56</td>\n",
       "      <td>USD</td>\n",
       "      <td>uberPOOL</td>\n",
       "      <td>8.24</td>\n",
       "      <td>1080</td>\n",
       "      <td>42.314857</td>\n",
       "      <td>-71.056782</td>\n",
       "      <td>$8-11</td>\n",
       "      <td>12.0</td>\n",
       "      <td>uberPOOL</td>\n",
       "      <td>8.0</td>\n",
       "      <td>997acbb5-e102-41e1-b155-9df7de0a73f2</td>\n",
       "      <td>42.342588</td>\n",
       "      <td>-71.122463</td>\n",
       "      <td>22:47:56</td>\n",
       "    </tr>\n",
       "    <tr>\n",
       "      <th>1</th>\n",
       "      <td>2017-12-05 22:47:56</td>\n",
       "      <td>USD</td>\n",
       "      <td>uberX</td>\n",
       "      <td>8.24</td>\n",
       "      <td>1080</td>\n",
       "      <td>42.314857</td>\n",
       "      <td>-71.056782</td>\n",
       "      <td>$18-23</td>\n",
       "      <td>23.0</td>\n",
       "      <td>uberX</td>\n",
       "      <td>18.0</td>\n",
       "      <td>55c66225-fbe7-4fd5-9072-eab1ece5e23e</td>\n",
       "      <td>42.342588</td>\n",
       "      <td>-71.122463</td>\n",
       "      <td>22:47:56</td>\n",
       "    </tr>\n",
       "    <tr>\n",
       "      <th>2</th>\n",
       "      <td>2017-12-05 22:47:56</td>\n",
       "      <td>USD</td>\n",
       "      <td>uberSUV</td>\n",
       "      <td>8.24</td>\n",
       "      <td>1080</td>\n",
       "      <td>42.314857</td>\n",
       "      <td>-71.056782</td>\n",
       "      <td>$50-63</td>\n",
       "      <td>63.0</td>\n",
       "      <td>uberSUV</td>\n",
       "      <td>50.0</td>\n",
       "      <td>6d318bcc-22a3-4af6-bddd-b409bfce1546</td>\n",
       "      <td>42.342588</td>\n",
       "      <td>-71.122463</td>\n",
       "      <td>22:47:56</td>\n",
       "    </tr>\n",
       "    <tr>\n",
       "      <th>3</th>\n",
       "      <td>2017-12-05 22:47:56</td>\n",
       "      <td>USD</td>\n",
       "      <td>uberXL</td>\n",
       "      <td>8.24</td>\n",
       "      <td>1080</td>\n",
       "      <td>42.314857</td>\n",
       "      <td>-71.056782</td>\n",
       "      <td>$28-35</td>\n",
       "      <td>35.0</td>\n",
       "      <td>uberXL</td>\n",
       "      <td>28.0</td>\n",
       "      <td>6f72dfc5-27f1-42e8-84db-ccc7a75f6969</td>\n",
       "      <td>42.342588</td>\n",
       "      <td>-71.122463</td>\n",
       "      <td>22:47:56</td>\n",
       "    </tr>\n",
       "    <tr>\n",
       "      <th>4</th>\n",
       "      <td>2017-12-05 22:47:56</td>\n",
       "      <td>USD</td>\n",
       "      <td>UberBLACK</td>\n",
       "      <td>8.24</td>\n",
       "      <td>1080</td>\n",
       "      <td>42.314857</td>\n",
       "      <td>-71.056782</td>\n",
       "      <td>$41-51</td>\n",
       "      <td>51.0</td>\n",
       "      <td>UberBLACK</td>\n",
       "      <td>41.0</td>\n",
       "      <td>6c84fd89-3f11-4782-9b50-97c468b19529</td>\n",
       "      <td>42.342588</td>\n",
       "      <td>-71.122463</td>\n",
       "      <td>22:47:56</td>\n",
       "    </tr>\n",
       "  </tbody>\n",
       "</table>\n",
       "</div>"
      ],
      "text/plain": [
       "            date_time currency_code display_name  distance  duration  \\\n",
       "0 2017-12-05 22:47:56           USD     uberPOOL      8.24      1080   \n",
       "1 2017-12-05 22:47:56           USD        uberX      8.24      1080   \n",
       "2 2017-12-05 22:47:56           USD      uberSUV      8.24      1080   \n",
       "3 2017-12-05 22:47:56           USD       uberXL      8.24      1080   \n",
       "4 2017-12-05 22:47:56           USD    UberBLACK      8.24      1080   \n",
       "\n",
       "   end_latitude  end_longitude estimate  high_estimate localized_display_name  \\\n",
       "0     42.314857     -71.056782    $8-11           12.0               uberPOOL   \n",
       "1     42.314857     -71.056782   $18-23           23.0                  uberX   \n",
       "2     42.314857     -71.056782   $50-63           63.0                uberSUV   \n",
       "3     42.314857     -71.056782   $28-35           35.0                 uberXL   \n",
       "4     42.314857     -71.056782   $41-51           51.0              UberBLACK   \n",
       "\n",
       "   low_estimate                            product_id  start_latitude  \\\n",
       "0           8.0  997acbb5-e102-41e1-b155-9df7de0a73f2       42.342588   \n",
       "1          18.0  55c66225-fbe7-4fd5-9072-eab1ece5e23e       42.342588   \n",
       "2          50.0  6d318bcc-22a3-4af6-bddd-b409bfce1546       42.342588   \n",
       "3          28.0  6f72dfc5-27f1-42e8-84db-ccc7a75f6969       42.342588   \n",
       "4          41.0  6c84fd89-3f11-4782-9b50-97c468b19529       42.342588   \n",
       "\n",
       "   start_longitude      time  \n",
       "0       -71.122463  22:47:56  \n",
       "1       -71.122463  22:47:56  \n",
       "2       -71.122463  22:47:56  \n",
       "3       -71.122463  22:47:56  \n",
       "4       -71.122463  22:47:56  "
      ]
     },
     "execution_count": 18,
     "metadata": {},
     "output_type": "execute_result"
    }
   ],
   "source": [
    "uber.head()"
   ]
  },
  {
   "cell_type": "code",
   "execution_count": 19,
   "metadata": {
    "collapsed": true
   },
   "outputs": [],
   "source": [
    "def weather(x):\n",
    "    x = x.strftime('%Y-%m-%d')\n",
    "    if x in ['2017-12-05', '2017-12-06']:\n",
    "        return 'Rainy'\n",
    "    elif x in ['2017-12-09']:\n",
    "        return 'Snowy'\n",
    "    elif x in ['2017-12-07', '2017-12-10', '2017-12-13']:\n",
    "        return 'Sunny'\n",
    "    else:\n",
    "        return 'Cloudy'\n",
    "    \n",
    "# Function to define weather on the day of ride"
   ]
  },
  {
   "cell_type": "code",
   "execution_count": 20,
   "metadata": {
    "collapsed": true
   },
   "outputs": [],
   "source": [
    " # Inserting new columns for date and Week day\n",
    "uber['date'] = uber['date_time'].dt.date\n",
    "uber['day_of_week'] = uber['date_time'].dt.weekday_name"
   ]
  },
  {
   "cell_type": "code",
   "execution_count": 21,
   "metadata": {
    "collapsed": true
   },
   "outputs": [],
   "source": [
    "uber['Weather'] = uber['date'].apply(weather) # inserting new column to predict the weather"
   ]
  },
  {
   "cell_type": "code",
   "execution_count": 22,
   "metadata": {},
   "outputs": [
    {
     "data": {
      "text/html": [
       "<div>\n",
       "<style>\n",
       "    .dataframe thead tr:only-child th {\n",
       "        text-align: right;\n",
       "    }\n",
       "\n",
       "    .dataframe thead th {\n",
       "        text-align: left;\n",
       "    }\n",
       "\n",
       "    .dataframe tbody tr th {\n",
       "        vertical-align: top;\n",
       "    }\n",
       "</style>\n",
       "<table border=\"1\" class=\"dataframe\">\n",
       "  <thead>\n",
       "    <tr style=\"text-align: right;\">\n",
       "      <th></th>\n",
       "      <th>date_time</th>\n",
       "      <th>currency_code</th>\n",
       "      <th>display_name</th>\n",
       "      <th>distance</th>\n",
       "      <th>duration</th>\n",
       "      <th>end_latitude</th>\n",
       "      <th>end_longitude</th>\n",
       "      <th>estimate</th>\n",
       "      <th>high_estimate</th>\n",
       "      <th>localized_display_name</th>\n",
       "      <th>low_estimate</th>\n",
       "      <th>product_id</th>\n",
       "      <th>start_latitude</th>\n",
       "      <th>start_longitude</th>\n",
       "      <th>time</th>\n",
       "      <th>date</th>\n",
       "      <th>day_of_week</th>\n",
       "      <th>Weather</th>\n",
       "    </tr>\n",
       "  </thead>\n",
       "  <tbody>\n",
       "    <tr>\n",
       "      <th>0</th>\n",
       "      <td>2017-12-05 22:47:56</td>\n",
       "      <td>USD</td>\n",
       "      <td>uberPOOL</td>\n",
       "      <td>8.24</td>\n",
       "      <td>1080</td>\n",
       "      <td>42.314857</td>\n",
       "      <td>-71.056782</td>\n",
       "      <td>$8-11</td>\n",
       "      <td>12.0</td>\n",
       "      <td>uberPOOL</td>\n",
       "      <td>8.0</td>\n",
       "      <td>997acbb5-e102-41e1-b155-9df7de0a73f2</td>\n",
       "      <td>42.342588</td>\n",
       "      <td>-71.122463</td>\n",
       "      <td>22:47:56</td>\n",
       "      <td>2017-12-05</td>\n",
       "      <td>Tuesday</td>\n",
       "      <td>Rainy</td>\n",
       "    </tr>\n",
       "    <tr>\n",
       "      <th>1</th>\n",
       "      <td>2017-12-05 22:47:56</td>\n",
       "      <td>USD</td>\n",
       "      <td>uberX</td>\n",
       "      <td>8.24</td>\n",
       "      <td>1080</td>\n",
       "      <td>42.314857</td>\n",
       "      <td>-71.056782</td>\n",
       "      <td>$18-23</td>\n",
       "      <td>23.0</td>\n",
       "      <td>uberX</td>\n",
       "      <td>18.0</td>\n",
       "      <td>55c66225-fbe7-4fd5-9072-eab1ece5e23e</td>\n",
       "      <td>42.342588</td>\n",
       "      <td>-71.122463</td>\n",
       "      <td>22:47:56</td>\n",
       "      <td>2017-12-05</td>\n",
       "      <td>Tuesday</td>\n",
       "      <td>Rainy</td>\n",
       "    </tr>\n",
       "    <tr>\n",
       "      <th>2</th>\n",
       "      <td>2017-12-05 22:47:56</td>\n",
       "      <td>USD</td>\n",
       "      <td>uberSUV</td>\n",
       "      <td>8.24</td>\n",
       "      <td>1080</td>\n",
       "      <td>42.314857</td>\n",
       "      <td>-71.056782</td>\n",
       "      <td>$50-63</td>\n",
       "      <td>63.0</td>\n",
       "      <td>uberSUV</td>\n",
       "      <td>50.0</td>\n",
       "      <td>6d318bcc-22a3-4af6-bddd-b409bfce1546</td>\n",
       "      <td>42.342588</td>\n",
       "      <td>-71.122463</td>\n",
       "      <td>22:47:56</td>\n",
       "      <td>2017-12-05</td>\n",
       "      <td>Tuesday</td>\n",
       "      <td>Rainy</td>\n",
       "    </tr>\n",
       "    <tr>\n",
       "      <th>3</th>\n",
       "      <td>2017-12-05 22:47:56</td>\n",
       "      <td>USD</td>\n",
       "      <td>uberXL</td>\n",
       "      <td>8.24</td>\n",
       "      <td>1080</td>\n",
       "      <td>42.314857</td>\n",
       "      <td>-71.056782</td>\n",
       "      <td>$28-35</td>\n",
       "      <td>35.0</td>\n",
       "      <td>uberXL</td>\n",
       "      <td>28.0</td>\n",
       "      <td>6f72dfc5-27f1-42e8-84db-ccc7a75f6969</td>\n",
       "      <td>42.342588</td>\n",
       "      <td>-71.122463</td>\n",
       "      <td>22:47:56</td>\n",
       "      <td>2017-12-05</td>\n",
       "      <td>Tuesday</td>\n",
       "      <td>Rainy</td>\n",
       "    </tr>\n",
       "    <tr>\n",
       "      <th>4</th>\n",
       "      <td>2017-12-05 22:47:56</td>\n",
       "      <td>USD</td>\n",
       "      <td>UberBLACK</td>\n",
       "      <td>8.24</td>\n",
       "      <td>1080</td>\n",
       "      <td>42.314857</td>\n",
       "      <td>-71.056782</td>\n",
       "      <td>$41-51</td>\n",
       "      <td>51.0</td>\n",
       "      <td>UberBLACK</td>\n",
       "      <td>41.0</td>\n",
       "      <td>6c84fd89-3f11-4782-9b50-97c468b19529</td>\n",
       "      <td>42.342588</td>\n",
       "      <td>-71.122463</td>\n",
       "      <td>22:47:56</td>\n",
       "      <td>2017-12-05</td>\n",
       "      <td>Tuesday</td>\n",
       "      <td>Rainy</td>\n",
       "    </tr>\n",
       "  </tbody>\n",
       "</table>\n",
       "</div>"
      ],
      "text/plain": [
       "            date_time currency_code display_name  distance  duration  \\\n",
       "0 2017-12-05 22:47:56           USD     uberPOOL      8.24      1080   \n",
       "1 2017-12-05 22:47:56           USD        uberX      8.24      1080   \n",
       "2 2017-12-05 22:47:56           USD      uberSUV      8.24      1080   \n",
       "3 2017-12-05 22:47:56           USD       uberXL      8.24      1080   \n",
       "4 2017-12-05 22:47:56           USD    UberBLACK      8.24      1080   \n",
       "\n",
       "   end_latitude  end_longitude estimate  high_estimate localized_display_name  \\\n",
       "0     42.314857     -71.056782    $8-11           12.0               uberPOOL   \n",
       "1     42.314857     -71.056782   $18-23           23.0                  uberX   \n",
       "2     42.314857     -71.056782   $50-63           63.0                uberSUV   \n",
       "3     42.314857     -71.056782   $28-35           35.0                 uberXL   \n",
       "4     42.314857     -71.056782   $41-51           51.0              UberBLACK   \n",
       "\n",
       "   low_estimate                            product_id  start_latitude  \\\n",
       "0           8.0  997acbb5-e102-41e1-b155-9df7de0a73f2       42.342588   \n",
       "1          18.0  55c66225-fbe7-4fd5-9072-eab1ece5e23e       42.342588   \n",
       "2          50.0  6d318bcc-22a3-4af6-bddd-b409bfce1546       42.342588   \n",
       "3          28.0  6f72dfc5-27f1-42e8-84db-ccc7a75f6969       42.342588   \n",
       "4          41.0  6c84fd89-3f11-4782-9b50-97c468b19529       42.342588   \n",
       "\n",
       "   start_longitude      time        date day_of_week Weather  \n",
       "0       -71.122463  22:47:56  2017-12-05     Tuesday   Rainy  \n",
       "1       -71.122463  22:47:56  2017-12-05     Tuesday   Rainy  \n",
       "2       -71.122463  22:47:56  2017-12-05     Tuesday   Rainy  \n",
       "3       -71.122463  22:47:56  2017-12-05     Tuesday   Rainy  \n",
       "4       -71.122463  22:47:56  2017-12-05     Tuesday   Rainy  "
      ]
     },
     "execution_count": 22,
     "metadata": {},
     "output_type": "execute_result"
    }
   ],
   "source": [
    "\n",
    "uber.head()"
   ]
  },
  {
   "cell_type": "code",
   "execution_count": 23,
   "metadata": {},
   "outputs": [
    {
     "data": {
      "text/plain": [
       "date_time                 datetime64[ns]\n",
       "currency_code                     object\n",
       "display_name                      object\n",
       "distance                         float64\n",
       "duration                           int64\n",
       "end_latitude                     float64\n",
       "end_longitude                    float64\n",
       "estimate                          object\n",
       "high_estimate                    float64\n",
       "localized_display_name            object\n",
       "low_estimate                     float64\n",
       "product_id                        object\n",
       "start_latitude                   float64\n",
       "start_longitude                  float64\n",
       "time                              object\n",
       "date                              object\n",
       "day_of_week                       object\n",
       "Weather                           object\n",
       "dtype: object"
      ]
     },
     "execution_count": 23,
     "metadata": {},
     "output_type": "execute_result"
    }
   ],
   "source": [
    "uber.dtypes # to determin type of column in table"
   ]
  },
  {
   "cell_type": "code",
   "execution_count": 24,
   "metadata": {},
   "outputs": [
    {
     "data": {
      "text/html": [
       "<div>\n",
       "<style>\n",
       "    .dataframe thead tr:only-child th {\n",
       "        text-align: right;\n",
       "    }\n",
       "\n",
       "    .dataframe thead th {\n",
       "        text-align: left;\n",
       "    }\n",
       "\n",
       "    .dataframe tbody tr th {\n",
       "        vertical-align: top;\n",
       "    }\n",
       "</style>\n",
       "<table border=\"1\" class=\"dataframe\">\n",
       "  <thead>\n",
       "    <tr style=\"text-align: right;\">\n",
       "      <th></th>\n",
       "      <th>date_time</th>\n",
       "      <th>currency_code</th>\n",
       "      <th>display_name</th>\n",
       "      <th>distance</th>\n",
       "      <th>duration</th>\n",
       "      <th>end_latitude</th>\n",
       "      <th>end_longitude</th>\n",
       "      <th>estimate</th>\n",
       "      <th>high_estimate</th>\n",
       "      <th>localized_display_name</th>\n",
       "      <th>low_estimate</th>\n",
       "      <th>product_id</th>\n",
       "      <th>start_latitude</th>\n",
       "      <th>start_longitude</th>\n",
       "      <th>time</th>\n",
       "      <th>date</th>\n",
       "      <th>day_of_week</th>\n",
       "      <th>Weather</th>\n",
       "    </tr>\n",
       "  </thead>\n",
       "  <tbody>\n",
       "    <tr>\n",
       "      <th>5</th>\n",
       "      <td>2017-12-05 22:47:56</td>\n",
       "      <td>USD</td>\n",
       "      <td>uberWAV</td>\n",
       "      <td>8.24</td>\n",
       "      <td>1080</td>\n",
       "      <td>42.314857</td>\n",
       "      <td>-71.056782</td>\n",
       "      <td>$18-23</td>\n",
       "      <td>23.0</td>\n",
       "      <td>uberWAV</td>\n",
       "      <td>18.0</td>\n",
       "      <td>9a0e7b09-b92b-4c41-9779-2ad22b4d779d</td>\n",
       "      <td>42.342588</td>\n",
       "      <td>-71.122463</td>\n",
       "      <td>22:47:56</td>\n",
       "      <td>2017-12-05</td>\n",
       "      <td>Tuesday</td>\n",
       "      <td>Rainy</td>\n",
       "    </tr>\n",
       "    <tr>\n",
       "      <th>12</th>\n",
       "      <td>2017-12-05 22:47:56</td>\n",
       "      <td>USD</td>\n",
       "      <td>uberWAV</td>\n",
       "      <td>8.24</td>\n",
       "      <td>1080</td>\n",
       "      <td>42.314857</td>\n",
       "      <td>-71.056782</td>\n",
       "      <td>$18-23</td>\n",
       "      <td>23.0</td>\n",
       "      <td>uberWAV</td>\n",
       "      <td>18.0</td>\n",
       "      <td>9a0e7b09-b92b-4c41-9779-2ad22b4d779d</td>\n",
       "      <td>42.342588</td>\n",
       "      <td>-71.122463</td>\n",
       "      <td>22:47:56</td>\n",
       "      <td>2017-12-05</td>\n",
       "      <td>Tuesday</td>\n",
       "      <td>Rainy</td>\n",
       "    </tr>\n",
       "    <tr>\n",
       "      <th>19</th>\n",
       "      <td>2017-12-05 22:48:51</td>\n",
       "      <td>USD</td>\n",
       "      <td>uberWAV</td>\n",
       "      <td>6.18</td>\n",
       "      <td>1140</td>\n",
       "      <td>42.272678</td>\n",
       "      <td>-71.093765</td>\n",
       "      <td>$15-19</td>\n",
       "      <td>19.0</td>\n",
       "      <td>uberWAV</td>\n",
       "      <td>15.0</td>\n",
       "      <td>9a0e7b09-b92b-4c41-9779-2ad22b4d779d</td>\n",
       "      <td>42.342588</td>\n",
       "      <td>-71.122463</td>\n",
       "      <td>22:48:51</td>\n",
       "      <td>2017-12-05</td>\n",
       "      <td>Tuesday</td>\n",
       "      <td>Rainy</td>\n",
       "    </tr>\n",
       "    <tr>\n",
       "      <th>26</th>\n",
       "      <td>2017-12-05 22:48:51</td>\n",
       "      <td>USD</td>\n",
       "      <td>uberWAV</td>\n",
       "      <td>6.18</td>\n",
       "      <td>1140</td>\n",
       "      <td>42.272678</td>\n",
       "      <td>-71.093765</td>\n",
       "      <td>$15-19</td>\n",
       "      <td>19.0</td>\n",
       "      <td>uberWAV</td>\n",
       "      <td>15.0</td>\n",
       "      <td>9a0e7b09-b92b-4c41-9779-2ad22b4d779d</td>\n",
       "      <td>42.342588</td>\n",
       "      <td>-71.122463</td>\n",
       "      <td>22:48:51</td>\n",
       "      <td>2017-12-05</td>\n",
       "      <td>Tuesday</td>\n",
       "      <td>Rainy</td>\n",
       "    </tr>\n",
       "    <tr>\n",
       "      <th>33</th>\n",
       "      <td>2017-12-05 22:51:50</td>\n",
       "      <td>USD</td>\n",
       "      <td>uberWAV</td>\n",
       "      <td>8.53</td>\n",
       "      <td>1320</td>\n",
       "      <td>42.247948</td>\n",
       "      <td>-71.173050</td>\n",
       "      <td>$20-25</td>\n",
       "      <td>25.0</td>\n",
       "      <td>uberWAV</td>\n",
       "      <td>20.0</td>\n",
       "      <td>9a0e7b09-b92b-4c41-9779-2ad22b4d779d</td>\n",
       "      <td>42.342588</td>\n",
       "      <td>-71.122463</td>\n",
       "      <td>22:51:50</td>\n",
       "      <td>2017-12-05</td>\n",
       "      <td>Tuesday</td>\n",
       "      <td>Rainy</td>\n",
       "    </tr>\n",
       "  </tbody>\n",
       "</table>\n",
       "</div>"
      ],
      "text/plain": [
       "             date_time currency_code display_name  distance  duration  \\\n",
       "5  2017-12-05 22:47:56           USD      uberWAV      8.24      1080   \n",
       "12 2017-12-05 22:47:56           USD      uberWAV      8.24      1080   \n",
       "19 2017-12-05 22:48:51           USD      uberWAV      6.18      1140   \n",
       "26 2017-12-05 22:48:51           USD      uberWAV      6.18      1140   \n",
       "33 2017-12-05 22:51:50           USD      uberWAV      8.53      1320   \n",
       "\n",
       "    end_latitude  end_longitude estimate  high_estimate  \\\n",
       "5      42.314857     -71.056782   $18-23           23.0   \n",
       "12     42.314857     -71.056782   $18-23           23.0   \n",
       "19     42.272678     -71.093765   $15-19           19.0   \n",
       "26     42.272678     -71.093765   $15-19           19.0   \n",
       "33     42.247948     -71.173050   $20-25           25.0   \n",
       "\n",
       "   localized_display_name  low_estimate                            product_id  \\\n",
       "5                 uberWAV          18.0  9a0e7b09-b92b-4c41-9779-2ad22b4d779d   \n",
       "12                uberWAV          18.0  9a0e7b09-b92b-4c41-9779-2ad22b4d779d   \n",
       "19                uberWAV          15.0  9a0e7b09-b92b-4c41-9779-2ad22b4d779d   \n",
       "26                uberWAV          15.0  9a0e7b09-b92b-4c41-9779-2ad22b4d779d   \n",
       "33                uberWAV          20.0  9a0e7b09-b92b-4c41-9779-2ad22b4d779d   \n",
       "\n",
       "    start_latitude  start_longitude      time        date day_of_week Weather  \n",
       "5        42.342588       -71.122463  22:47:56  2017-12-05     Tuesday   Rainy  \n",
       "12       42.342588       -71.122463  22:47:56  2017-12-05     Tuesday   Rainy  \n",
       "19       42.342588       -71.122463  22:48:51  2017-12-05     Tuesday   Rainy  \n",
       "26       42.342588       -71.122463  22:48:51  2017-12-05     Tuesday   Rainy  \n",
       "33       42.342588       -71.122463  22:51:50  2017-12-05     Tuesday   Rainy  "
      ]
     },
     "execution_count": 24,
     "metadata": {},
     "output_type": "execute_result"
    }
   ],
   "source": [
    "#here we will separate the 6 different types of uber services into their own dataframes\n",
    "uberWAV = uber[uber.display_name == 'uberWAV'] # Filtering by uber ride type\n",
    "uberWAV.head()"
   ]
  },
  {
   "cell_type": "code",
   "execution_count": 25,
   "metadata": {},
   "outputs": [
    {
     "data": {
      "text/html": [
       "<div>\n",
       "<style>\n",
       "    .dataframe thead tr:only-child th {\n",
       "        text-align: right;\n",
       "    }\n",
       "\n",
       "    .dataframe thead th {\n",
       "        text-align: left;\n",
       "    }\n",
       "\n",
       "    .dataframe tbody tr th {\n",
       "        vertical-align: top;\n",
       "    }\n",
       "</style>\n",
       "<table border=\"1\" class=\"dataframe\">\n",
       "  <thead>\n",
       "    <tr style=\"text-align: right;\">\n",
       "      <th></th>\n",
       "      <th>date_time</th>\n",
       "      <th>currency_code</th>\n",
       "      <th>display_name</th>\n",
       "      <th>distance</th>\n",
       "      <th>duration</th>\n",
       "      <th>end_latitude</th>\n",
       "      <th>end_longitude</th>\n",
       "      <th>estimate</th>\n",
       "      <th>high_estimate</th>\n",
       "      <th>localized_display_name</th>\n",
       "      <th>low_estimate</th>\n",
       "      <th>product_id</th>\n",
       "      <th>start_latitude</th>\n",
       "      <th>start_longitude</th>\n",
       "      <th>time</th>\n",
       "      <th>date</th>\n",
       "      <th>day_of_week</th>\n",
       "      <th>Weather</th>\n",
       "    </tr>\n",
       "  </thead>\n",
       "  <tbody>\n",
       "    <tr>\n",
       "      <th>5</th>\n",
       "      <td>2017-12-05 22:47:56</td>\n",
       "      <td>USD</td>\n",
       "      <td>uberWAV</td>\n",
       "      <td>8.24</td>\n",
       "      <td>1080</td>\n",
       "      <td>42.314857</td>\n",
       "      <td>-71.056782</td>\n",
       "      <td>$18-23</td>\n",
       "      <td>23.0</td>\n",
       "      <td>uberWAV</td>\n",
       "      <td>18.0</td>\n",
       "      <td>9a0e7b09-b92b-4c41-9779-2ad22b4d779d</td>\n",
       "      <td>42.342588</td>\n",
       "      <td>-71.122463</td>\n",
       "      <td>22:47:56</td>\n",
       "      <td>2017-12-05</td>\n",
       "      <td>Tuesday</td>\n",
       "      <td>Rainy</td>\n",
       "    </tr>\n",
       "    <tr>\n",
       "      <th>19</th>\n",
       "      <td>2017-12-05 22:48:51</td>\n",
       "      <td>USD</td>\n",
       "      <td>uberWAV</td>\n",
       "      <td>6.18</td>\n",
       "      <td>1140</td>\n",
       "      <td>42.272678</td>\n",
       "      <td>-71.093765</td>\n",
       "      <td>$15-19</td>\n",
       "      <td>19.0</td>\n",
       "      <td>uberWAV</td>\n",
       "      <td>15.0</td>\n",
       "      <td>9a0e7b09-b92b-4c41-9779-2ad22b4d779d</td>\n",
       "      <td>42.342588</td>\n",
       "      <td>-71.122463</td>\n",
       "      <td>22:48:51</td>\n",
       "      <td>2017-12-05</td>\n",
       "      <td>Tuesday</td>\n",
       "      <td>Rainy</td>\n",
       "    </tr>\n",
       "    <tr>\n",
       "      <th>33</th>\n",
       "      <td>2017-12-05 22:51:50</td>\n",
       "      <td>USD</td>\n",
       "      <td>uberWAV</td>\n",
       "      <td>8.53</td>\n",
       "      <td>1320</td>\n",
       "      <td>42.247948</td>\n",
       "      <td>-71.173050</td>\n",
       "      <td>$20-25</td>\n",
       "      <td>25.0</td>\n",
       "      <td>uberWAV</td>\n",
       "      <td>20.0</td>\n",
       "      <td>9a0e7b09-b92b-4c41-9779-2ad22b4d779d</td>\n",
       "      <td>42.342588</td>\n",
       "      <td>-71.122463</td>\n",
       "      <td>22:51:50</td>\n",
       "      <td>2017-12-05</td>\n",
       "      <td>Tuesday</td>\n",
       "      <td>Rainy</td>\n",
       "    </tr>\n",
       "    <tr>\n",
       "      <th>47</th>\n",
       "      <td>2017-12-05 22:54:57</td>\n",
       "      <td>USD</td>\n",
       "      <td>uberWAV</td>\n",
       "      <td>3.24</td>\n",
       "      <td>840</td>\n",
       "      <td>42.338443</td>\n",
       "      <td>-71.074548</td>\n",
       "      <td>$10-14</td>\n",
       "      <td>14.0</td>\n",
       "      <td>uberWAV</td>\n",
       "      <td>10.0</td>\n",
       "      <td>9a0e7b09-b92b-4c41-9779-2ad22b4d779d</td>\n",
       "      <td>42.342588</td>\n",
       "      <td>-71.122463</td>\n",
       "      <td>22:54:57</td>\n",
       "      <td>2017-12-05</td>\n",
       "      <td>Tuesday</td>\n",
       "      <td>Rainy</td>\n",
       "    </tr>\n",
       "    <tr>\n",
       "      <th>61</th>\n",
       "      <td>2017-12-05 22:57:49</td>\n",
       "      <td>USD</td>\n",
       "      <td>uberWAV</td>\n",
       "      <td>4.14</td>\n",
       "      <td>720</td>\n",
       "      <td>42.360958</td>\n",
       "      <td>-71.065895</td>\n",
       "      <td>$12-15</td>\n",
       "      <td>15.0</td>\n",
       "      <td>uberWAV</td>\n",
       "      <td>12.0</td>\n",
       "      <td>9a0e7b09-b92b-4c41-9779-2ad22b4d779d</td>\n",
       "      <td>42.342588</td>\n",
       "      <td>-71.122463</td>\n",
       "      <td>22:57:49</td>\n",
       "      <td>2017-12-05</td>\n",
       "      <td>Tuesday</td>\n",
       "      <td>Rainy</td>\n",
       "    </tr>\n",
       "  </tbody>\n",
       "</table>\n",
       "</div>"
      ],
      "text/plain": [
       "             date_time currency_code display_name  distance  duration  \\\n",
       "5  2017-12-05 22:47:56           USD      uberWAV      8.24      1080   \n",
       "19 2017-12-05 22:48:51           USD      uberWAV      6.18      1140   \n",
       "33 2017-12-05 22:51:50           USD      uberWAV      8.53      1320   \n",
       "47 2017-12-05 22:54:57           USD      uberWAV      3.24       840   \n",
       "61 2017-12-05 22:57:49           USD      uberWAV      4.14       720   \n",
       "\n",
       "    end_latitude  end_longitude estimate  high_estimate  \\\n",
       "5      42.314857     -71.056782   $18-23           23.0   \n",
       "19     42.272678     -71.093765   $15-19           19.0   \n",
       "33     42.247948     -71.173050   $20-25           25.0   \n",
       "47     42.338443     -71.074548   $10-14           14.0   \n",
       "61     42.360958     -71.065895   $12-15           15.0   \n",
       "\n",
       "   localized_display_name  low_estimate                            product_id  \\\n",
       "5                 uberWAV          18.0  9a0e7b09-b92b-4c41-9779-2ad22b4d779d   \n",
       "19                uberWAV          15.0  9a0e7b09-b92b-4c41-9779-2ad22b4d779d   \n",
       "33                uberWAV          20.0  9a0e7b09-b92b-4c41-9779-2ad22b4d779d   \n",
       "47                uberWAV          10.0  9a0e7b09-b92b-4c41-9779-2ad22b4d779d   \n",
       "61                uberWAV          12.0  9a0e7b09-b92b-4c41-9779-2ad22b4d779d   \n",
       "\n",
       "    start_latitude  start_longitude      time        date day_of_week Weather  \n",
       "5        42.342588       -71.122463  22:47:56  2017-12-05     Tuesday   Rainy  \n",
       "19       42.342588       -71.122463  22:48:51  2017-12-05     Tuesday   Rainy  \n",
       "33       42.342588       -71.122463  22:51:50  2017-12-05     Tuesday   Rainy  \n",
       "47       42.342588       -71.122463  22:54:57  2017-12-05     Tuesday   Rainy  \n",
       "61       42.342588       -71.122463  22:57:49  2017-12-05     Tuesday   Rainy  "
      ]
     },
     "execution_count": 25,
     "metadata": {},
     "output_type": "execute_result"
    }
   ],
   "source": [
    "#remove duplicated datetimeindex\n",
    "uberWAV = uberWAV[~uberWAV.date_time.duplicated(keep = 'first')] \n",
    "uberWAV.head()"
   ]
  },
  {
   "cell_type": "code",
   "execution_count": 26,
   "metadata": {},
   "outputs": [
    {
     "data": {
      "image/png": "[encoded data removed]",
      "text/plain": [
       "<matplotlib.figure.Figure at 0x2422328dc50>"
      ]
     },
     "metadata": {},
     "output_type": "display_data"
    }
   ],
   "source": [
    "import numpy as np # low estimate trend based on week day\n",
    "uber_by_day = uberWAV[[\"day_of_week\",\"low_estimate\"]].groupby(\"day_of_week\").aggregate(np.sum)\n",
    "uber_by_day.plot();"
   ]
  },
  {
   "cell_type": "code",
   "execution_count": 27,
   "metadata": {},
   "outputs": [
    {
     "data": {
      "image/png": "[encoded data removed]",
      "text/plain": [
       "<matplotlib.figure.Figure at 0x242234a7710>"
      ]
     },
     "metadata": {},
     "output_type": "display_data"
    }
   ],
   "source": [
    "import numpy as np #Duration trend based on weekday\n",
    "uber_by_day = uberWAV[[\"day_of_week\",\"duration\"]].groupby(\"day_of_week\").aggregate(np.sum)\n",
    "uber_by_day.plot();"
   ]
  },
  {
   "cell_type": "code",
   "execution_count": 28,
   "metadata": {},
   "outputs": [
    {
     "data": {
      "image/png": "[encoded data removed]",
      "text/plain": [
       "<matplotlib.figure.Figure at 0x24223739128>"
      ]
     },
     "metadata": {},
     "output_type": "display_data"
    }
   ],
   "source": [
    "import numpy as np #low estimate trend based on weather\n",
    "uber_by_weather = uberWAV[[\"Weather\",\"low_estimate\"]].groupby(\"Weather\").aggregate(np.sum)\n",
    "uber_by_weather.plot();"
   ]
  },
  {
   "cell_type": "code",
   "execution_count": 29,
   "metadata": {},
   "outputs": [
    {
     "data": {
      "image/png": "[encoded data removed]",
      "text/plain": [
       "<matplotlib.figure.Figure at 0x2422331d668>"
      ]
     },
     "metadata": {},
     "output_type": "display_data"
    }
   ],
   "source": [
    "import numpy as np #High estimate trend based on weather\n",
    "uber_by_weather = uberWAV[[\"Weather\",\"high_estimate\"]].groupby(\"Weather\").aggregate(np.sum)\n",
    "uber_by_weather.plot();"
   ]
  },
  {
   "cell_type": "code",
   "execution_count": 30,
   "metadata": {},
   "outputs": [
    {
     "data": {
      "image/png": "[encoded data removed]",
      "text/plain": [
       "<matplotlib.figure.Figure at 0x242237e6f60>"
      ]
     },
     "metadata": {},
     "output_type": "display_data"
    }
   ],
   "source": [
    "import numpy as np #high estimate trend based on week day\n",
    "uber_by_day = uberWAV[[\"day_of_week\",\"high_estimate\"]].groupby(\"day_of_week\").aggregate(np.sum)\n",
    "uber_by_day.plot();"
   ]
  },
  {
   "cell_type": "code",
   "execution_count": 31,
   "metadata": {},
   "outputs": [
    {
     "data": {
      "image/png": "[encoded data removed]",
      "text/plain": [
       "<matplotlib.figure.Figure at 0x24223a32470>"
      ]
     },
     "metadata": {},
     "output_type": "display_data"
    }
   ],
   "source": [
    "import numpy as np #distance trend based on weekday\n",
    "uber_by_day = uberWAV[[\"day_of_week\",\"distance\"]].groupby(\"day_of_week\").aggregate(np.sum) # to find the day on which distance travelled is the most\n",
    "uber_by_day.plot();"
   ]
  },
  {
   "cell_type": "code",
   "execution_count": 32,
   "metadata": {
    "collapsed": true
   },
   "outputs": [],
   "source": [
    "# Dropping columns of least significance for further analysis\n",
    "uber.drop(['currency_code', 'estimate', 'localized_display_name', 'product_id', 'time', 'date', 'start_latitude', 'start_longitude'  ], axis =1, inplace = True) # Dropping cells as data is insignificant"
   ]
  },
  {
   "cell_type": "code",
   "execution_count": 33,
   "metadata": {},
   "outputs": [
    {
     "data": {
      "text/plain": [
       "date_time        datetime64[ns]\n",
       "display_name             object\n",
       "distance                float64\n",
       "duration                  int64\n",
       "end_latitude            float64\n",
       "end_longitude           float64\n",
       "high_estimate           float64\n",
       "low_estimate            float64\n",
       "day_of_week              object\n",
       "Weather                  object\n",
       "dtype: object"
      ]
     },
     "execution_count": 33,
     "metadata": {},
     "output_type": "execute_result"
    }
   ],
   "source": [
    "uber.dtypes # data types check"
   ]
  },
  {
   "cell_type": "code",
   "execution_count": 34,
   "metadata": {
    "collapsed": true
   },
   "outputs": [],
   "source": [
    "#import numpy as np\n",
    "#import pandas as pd\n",
    "#import holoviews as hv\n",
    "\n",
    "#%matplotlib inline\n",
    "\n",
    "#hv.extension('bokeh', 'matplotlib', width=\"100\")\n",
    "#%opts Curve [width=600 height=250 tools=['hover'] ] {+framewise} VLine (color=\"black\")\n",
    "#%opts Bars  [width=800 height=400 tools=['hover'] group_index=1 legend_position='top_left' xrotation=90]\n",
    "#hv.extension('bokeh')"
   ]
  },
  {
   "cell_type": "code",
   "execution_count": 35,
   "metadata": {},
   "outputs": [
    {
     "data": {
      "text/plain": [
       "date_time        43896\n",
       "display_name     43896\n",
       "distance         43896\n",
       "duration         43896\n",
       "end_latitude     43896\n",
       "end_longitude    43896\n",
       "high_estimate    43896\n",
       "low_estimate     43896\n",
       "day_of_week      43896\n",
       "Weather          43896\n",
       "dtype: int64"
      ]
     },
     "execution_count": 35,
     "metadata": {},
     "output_type": "execute_result"
    }
   ],
   "source": [
    "uber.count() # to check if null values are present"
   ]
  },
  {
   "cell_type": "code",
   "execution_count": 36,
   "metadata": {},
   "outputs": [
    {
     "name": "stdout",
     "output_type": "stream",
     "text": [
      "0\n",
      "51210\n"
     ]
    }
   ],
   "source": [
    "print(min(uber.index)) # checkin table indexes\n",
    "print(max(uber.index))"
   ]
  },
  {
   "cell_type": "code",
   "execution_count": 37,
   "metadata": {},
   "outputs": [
    {
     "data": {
      "text/plain": [
       "<matplotlib.axes._subplots.AxesSubplot at 0x24223bc53c8>"
      ]
     },
     "execution_count": 37,
     "metadata": {},
     "output_type": "execute_result"
    },
    {
     "data": {
      "image/png": "[encoded data removed]",
      "text/plain": [
       "<matplotlib.figure.Figure at 0x24223293668>"
      ]
     },
     "metadata": {},
     "output_type": "display_data"
    }
   ],
   "source": [
    "uber.plot()"
   ]
  },
  {
   "cell_type": "code",
   "execution_count": 38,
   "metadata": {
    "collapsed": true
   },
   "outputs": [],
   "source": [
    "days = {'Monday':0 ,'Tuesday':1,'Wednesday':2,'Thursday':3,'Friday':4, 'Saturday':5, 'Sunday':6}\n",
    "\n",
    "uber['day_of_week'] = uber['day_of_week'].apply(lambda x: days[x])\n",
    "#Assigning weights to days of the weeek"
   ]
  },
  {
   "cell_type": "code",
   "execution_count": 39,
   "metadata": {},
   "outputs": [
    {
     "data": {
      "text/html": [
       "<div>\n",
       "<style>\n",
       "    .dataframe thead tr:only-child th {\n",
       "        text-align: right;\n",
       "    }\n",
       "\n",
       "    .dataframe thead th {\n",
       "        text-align: left;\n",
       "    }\n",
       "\n",
       "    .dataframe tbody tr th {\n",
       "        vertical-align: top;\n",
       "    }\n",
       "</style>\n",
       "<table border=\"1\" class=\"dataframe\">\n",
       "  <thead>\n",
       "    <tr style=\"text-align: right;\">\n",
       "      <th></th>\n",
       "      <th>date_time</th>\n",
       "      <th>display_name</th>\n",
       "      <th>distance</th>\n",
       "      <th>duration</th>\n",
       "      <th>end_latitude</th>\n",
       "      <th>end_longitude</th>\n",
       "      <th>high_estimate</th>\n",
       "      <th>low_estimate</th>\n",
       "      <th>day_of_week</th>\n",
       "      <th>Weather</th>\n",
       "    </tr>\n",
       "  </thead>\n",
       "  <tbody>\n",
       "    <tr>\n",
       "      <th>0</th>\n",
       "      <td>2017-12-05 22:47:56</td>\n",
       "      <td>uberPOOL</td>\n",
       "      <td>8.24</td>\n",
       "      <td>1080</td>\n",
       "      <td>42.314857</td>\n",
       "      <td>-71.056782</td>\n",
       "      <td>12.0</td>\n",
       "      <td>8.0</td>\n",
       "      <td>1</td>\n",
       "      <td>Rainy</td>\n",
       "    </tr>\n",
       "    <tr>\n",
       "      <th>1</th>\n",
       "      <td>2017-12-05 22:47:56</td>\n",
       "      <td>uberX</td>\n",
       "      <td>8.24</td>\n",
       "      <td>1080</td>\n",
       "      <td>42.314857</td>\n",
       "      <td>-71.056782</td>\n",
       "      <td>23.0</td>\n",
       "      <td>18.0</td>\n",
       "      <td>1</td>\n",
       "      <td>Rainy</td>\n",
       "    </tr>\n",
       "    <tr>\n",
       "      <th>2</th>\n",
       "      <td>2017-12-05 22:47:56</td>\n",
       "      <td>uberSUV</td>\n",
       "      <td>8.24</td>\n",
       "      <td>1080</td>\n",
       "      <td>42.314857</td>\n",
       "      <td>-71.056782</td>\n",
       "      <td>63.0</td>\n",
       "      <td>50.0</td>\n",
       "      <td>1</td>\n",
       "      <td>Rainy</td>\n",
       "    </tr>\n",
       "    <tr>\n",
       "      <th>3</th>\n",
       "      <td>2017-12-05 22:47:56</td>\n",
       "      <td>uberXL</td>\n",
       "      <td>8.24</td>\n",
       "      <td>1080</td>\n",
       "      <td>42.314857</td>\n",
       "      <td>-71.056782</td>\n",
       "      <td>35.0</td>\n",
       "      <td>28.0</td>\n",
       "      <td>1</td>\n",
       "      <td>Rainy</td>\n",
       "    </tr>\n",
       "    <tr>\n",
       "      <th>4</th>\n",
       "      <td>2017-12-05 22:47:56</td>\n",
       "      <td>UberBLACK</td>\n",
       "      <td>8.24</td>\n",
       "      <td>1080</td>\n",
       "      <td>42.314857</td>\n",
       "      <td>-71.056782</td>\n",
       "      <td>51.0</td>\n",
       "      <td>41.0</td>\n",
       "      <td>1</td>\n",
       "      <td>Rainy</td>\n",
       "    </tr>\n",
       "  </tbody>\n",
       "</table>\n",
       "</div>"
      ],
      "text/plain": [
       "            date_time display_name  distance  duration  end_latitude  \\\n",
       "0 2017-12-05 22:47:56     uberPOOL      8.24      1080     42.314857   \n",
       "1 2017-12-05 22:47:56        uberX      8.24      1080     42.314857   \n",
       "2 2017-12-05 22:47:56      uberSUV      8.24      1080     42.314857   \n",
       "3 2017-12-05 22:47:56       uberXL      8.24      1080     42.314857   \n",
       "4 2017-12-05 22:47:56    UberBLACK      8.24      1080     42.314857   \n",
       "\n",
       "   end_longitude  high_estimate  low_estimate  day_of_week Weather  \n",
       "0     -71.056782           12.0           8.0            1   Rainy  \n",
       "1     -71.056782           23.0          18.0            1   Rainy  \n",
       "2     -71.056782           63.0          50.0            1   Rainy  \n",
       "3     -71.056782           35.0          28.0            1   Rainy  \n",
       "4     -71.056782           51.0          41.0            1   Rainy  "
      ]
     },
     "execution_count": 39,
     "metadata": {},
     "output_type": "execute_result"
    }
   ],
   "source": [
    "uber.head() # display dataframe"
   ]
  },
  {
   "cell_type": "code",
   "execution_count": 40,
   "metadata": {
    "collapsed": true
   },
   "outputs": [],
   "source": [
    "#days = {'uberWAV':1 ,'uberXL':2,'uberPOOL':3,'uberX':4,'UberBLACK':5, 'uberSUV':6}\n",
    "\n",
    "#uber['display_name'] = uber['display_name'].apply(lambda x: days[x])"
   ]
  },
  {
   "cell_type": "code",
   "execution_count": 41,
   "metadata": {
    "collapsed": true
   },
   "outputs": [],
   "source": [
    "climate = {'Snowy':1 ,'Rainy':2,'Sunny':3,'Cloudy':4} # Number based on ascending order of the number of rides in a particular weather\n",
    "\n",
    "uber['Weather'] = uber['Weather'].apply(lambda x: climate[x])"
   ]
  },
  {
   "cell_type": "code",
   "execution_count": 42,
   "metadata": {},
   "outputs": [
    {
     "data": {
      "text/html": [
       "<div>\n",
       "<style>\n",
       "    .dataframe thead tr:only-child th {\n",
       "        text-align: right;\n",
       "    }\n",
       "\n",
       "    .dataframe thead th {\n",
       "        text-align: left;\n",
       "    }\n",
       "\n",
       "    .dataframe tbody tr th {\n",
       "        vertical-align: top;\n",
       "    }\n",
       "</style>\n",
       "<table border=\"1\" class=\"dataframe\">\n",
       "  <thead>\n",
       "    <tr style=\"text-align: right;\">\n",
       "      <th></th>\n",
       "      <th>date_time</th>\n",
       "      <th>display_name</th>\n",
       "      <th>distance</th>\n",
       "      <th>duration</th>\n",
       "      <th>end_latitude</th>\n",
       "      <th>end_longitude</th>\n",
       "      <th>high_estimate</th>\n",
       "      <th>low_estimate</th>\n",
       "      <th>day_of_week</th>\n",
       "      <th>Weather</th>\n",
       "    </tr>\n",
       "  </thead>\n",
       "  <tbody>\n",
       "    <tr>\n",
       "      <th>0</th>\n",
       "      <td>2017-12-05 22:47:56</td>\n",
       "      <td>uberPOOL</td>\n",
       "      <td>8.24</td>\n",
       "      <td>1080</td>\n",
       "      <td>42.314857</td>\n",
       "      <td>-71.056782</td>\n",
       "      <td>12.0</td>\n",
       "      <td>8.0</td>\n",
       "      <td>1</td>\n",
       "      <td>2</td>\n",
       "    </tr>\n",
       "    <tr>\n",
       "      <th>1</th>\n",
       "      <td>2017-12-05 22:47:56</td>\n",
       "      <td>uberX</td>\n",
       "      <td>8.24</td>\n",
       "      <td>1080</td>\n",
       "      <td>42.314857</td>\n",
       "      <td>-71.056782</td>\n",
       "      <td>23.0</td>\n",
       "      <td>18.0</td>\n",
       "      <td>1</td>\n",
       "      <td>2</td>\n",
       "    </tr>\n",
       "    <tr>\n",
       "      <th>2</th>\n",
       "      <td>2017-12-05 22:47:56</td>\n",
       "      <td>uberSUV</td>\n",
       "      <td>8.24</td>\n",
       "      <td>1080</td>\n",
       "      <td>42.314857</td>\n",
       "      <td>-71.056782</td>\n",
       "      <td>63.0</td>\n",
       "      <td>50.0</td>\n",
       "      <td>1</td>\n",
       "      <td>2</td>\n",
       "    </tr>\n",
       "    <tr>\n",
       "      <th>3</th>\n",
       "      <td>2017-12-05 22:47:56</td>\n",
       "      <td>uberXL</td>\n",
       "      <td>8.24</td>\n",
       "      <td>1080</td>\n",
       "      <td>42.314857</td>\n",
       "      <td>-71.056782</td>\n",
       "      <td>35.0</td>\n",
       "      <td>28.0</td>\n",
       "      <td>1</td>\n",
       "      <td>2</td>\n",
       "    </tr>\n",
       "    <tr>\n",
       "      <th>4</th>\n",
       "      <td>2017-12-05 22:47:56</td>\n",
       "      <td>UberBLACK</td>\n",
       "      <td>8.24</td>\n",
       "      <td>1080</td>\n",
       "      <td>42.314857</td>\n",
       "      <td>-71.056782</td>\n",
       "      <td>51.0</td>\n",
       "      <td>41.0</td>\n",
       "      <td>1</td>\n",
       "      <td>2</td>\n",
       "    </tr>\n",
       "  </tbody>\n",
       "</table>\n",
       "</div>"
      ],
      "text/plain": [
       "            date_time display_name  distance  duration  end_latitude  \\\n",
       "0 2017-12-05 22:47:56     uberPOOL      8.24      1080     42.314857   \n",
       "1 2017-12-05 22:47:56        uberX      8.24      1080     42.314857   \n",
       "2 2017-12-05 22:47:56      uberSUV      8.24      1080     42.314857   \n",
       "3 2017-12-05 22:47:56       uberXL      8.24      1080     42.314857   \n",
       "4 2017-12-05 22:47:56    UberBLACK      8.24      1080     42.314857   \n",
       "\n",
       "   end_longitude  high_estimate  low_estimate  day_of_week  Weather  \n",
       "0     -71.056782           12.0           8.0            1        2  \n",
       "1     -71.056782           23.0          18.0            1        2  \n",
       "2     -71.056782           63.0          50.0            1        2  \n",
       "3     -71.056782           35.0          28.0            1        2  \n",
       "4     -71.056782           51.0          41.0            1        2  "
      ]
     },
     "execution_count": 42,
     "metadata": {},
     "output_type": "execute_result"
    }
   ],
   "source": [
    "uber.head()"
   ]
  },
  {
   "cell_type": "code",
   "execution_count": 43,
   "metadata": {},
   "outputs": [
    {
     "data": {
      "text/plain": [
       "date_time        datetime64[ns]\n",
       "display_name             object\n",
       "distance                float64\n",
       "duration                  int64\n",
       "end_latitude            float64\n",
       "end_longitude           float64\n",
       "high_estimate           float64\n",
       "low_estimate            float64\n",
       "day_of_week               int64\n",
       "Weather                   int64\n",
       "dtype: object"
      ]
     },
     "execution_count": 43,
     "metadata": {},
     "output_type": "execute_result"
    }
   ],
   "source": [
    "uber.dtypes"
   ]
  },
  {
   "cell_type": "code",
   "execution_count": 44,
   "metadata": {},
   "outputs": [
    {
     "data": {
      "text/html": [
       "<div>\n",
       "<style>\n",
       "    .dataframe thead tr:only-child th {\n",
       "        text-align: right;\n",
       "    }\n",
       "\n",
       "    .dataframe thead th {\n",
       "        text-align: left;\n",
       "    }\n",
       "\n",
       "    .dataframe tbody tr th {\n",
       "        vertical-align: top;\n",
       "    }\n",
       "</style>\n",
       "<table border=\"1\" class=\"dataframe\">\n",
       "  <thead>\n",
       "    <tr style=\"text-align: right;\">\n",
       "      <th></th>\n",
       "      <th>date_time</th>\n",
       "      <th>display_name</th>\n",
       "      <th>distance</th>\n",
       "      <th>duration</th>\n",
       "      <th>end_latitude</th>\n",
       "      <th>end_longitude</th>\n",
       "      <th>high_estimate</th>\n",
       "      <th>low_estimate</th>\n",
       "      <th>day_of_week</th>\n",
       "      <th>Weather</th>\n",
       "    </tr>\n",
       "  </thead>\n",
       "  <tbody>\n",
       "    <tr>\n",
       "      <th>5</th>\n",
       "      <td>2017-12-05 22:47:56</td>\n",
       "      <td>uberWAV</td>\n",
       "      <td>8.24</td>\n",
       "      <td>1080</td>\n",
       "      <td>42.314857</td>\n",
       "      <td>-71.056782</td>\n",
       "      <td>23.0</td>\n",
       "      <td>18.0</td>\n",
       "      <td>1</td>\n",
       "      <td>2</td>\n",
       "    </tr>\n",
       "    <tr>\n",
       "      <th>12</th>\n",
       "      <td>2017-12-05 22:47:56</td>\n",
       "      <td>uberWAV</td>\n",
       "      <td>8.24</td>\n",
       "      <td>1080</td>\n",
       "      <td>42.314857</td>\n",
       "      <td>-71.056782</td>\n",
       "      <td>23.0</td>\n",
       "      <td>18.0</td>\n",
       "      <td>1</td>\n",
       "      <td>2</td>\n",
       "    </tr>\n",
       "    <tr>\n",
       "      <th>19</th>\n",
       "      <td>2017-12-05 22:48:51</td>\n",
       "      <td>uberWAV</td>\n",
       "      <td>6.18</td>\n",
       "      <td>1140</td>\n",
       "      <td>42.272678</td>\n",
       "      <td>-71.093765</td>\n",
       "      <td>19.0</td>\n",
       "      <td>15.0</td>\n",
       "      <td>1</td>\n",
       "      <td>2</td>\n",
       "    </tr>\n",
       "    <tr>\n",
       "      <th>26</th>\n",
       "      <td>2017-12-05 22:48:51</td>\n",
       "      <td>uberWAV</td>\n",
       "      <td>6.18</td>\n",
       "      <td>1140</td>\n",
       "      <td>42.272678</td>\n",
       "      <td>-71.093765</td>\n",
       "      <td>19.0</td>\n",
       "      <td>15.0</td>\n",
       "      <td>1</td>\n",
       "      <td>2</td>\n",
       "    </tr>\n",
       "    <tr>\n",
       "      <th>33</th>\n",
       "      <td>2017-12-05 22:51:50</td>\n",
       "      <td>uberWAV</td>\n",
       "      <td>8.53</td>\n",
       "      <td>1320</td>\n",
       "      <td>42.247948</td>\n",
       "      <td>-71.173050</td>\n",
       "      <td>25.0</td>\n",
       "      <td>20.0</td>\n",
       "      <td>1</td>\n",
       "      <td>2</td>\n",
       "    </tr>\n",
       "  </tbody>\n",
       "</table>\n",
       "</div>"
      ],
      "text/plain": [
       "             date_time display_name  distance  duration  end_latitude  \\\n",
       "5  2017-12-05 22:47:56      uberWAV      8.24      1080     42.314857   \n",
       "12 2017-12-05 22:47:56      uberWAV      8.24      1080     42.314857   \n",
       "19 2017-12-05 22:48:51      uberWAV      6.18      1140     42.272678   \n",
       "26 2017-12-05 22:48:51      uberWAV      6.18      1140     42.272678   \n",
       "33 2017-12-05 22:51:50      uberWAV      8.53      1320     42.247948   \n",
       "\n",
       "    end_longitude  high_estimate  low_estimate  day_of_week  Weather  \n",
       "5      -71.056782           23.0          18.0            1        2  \n",
       "12     -71.056782           23.0          18.0            1        2  \n",
       "19     -71.093765           19.0          15.0            1        2  \n",
       "26     -71.093765           19.0          15.0            1        2  \n",
       "33     -71.173050           25.0          20.0            1        2  "
      ]
     },
     "execution_count": 44,
     "metadata": {},
     "output_type": "execute_result"
    }
   ],
   "source": [
    "#here we will separate the 6 different types of uber services into their own dataframes\n",
    "uberWAV = uber[uber.display_name == 'uberWAV']\n",
    "uberWAV.head()"
   ]
  },
  {
   "cell_type": "code",
   "execution_count": 45,
   "metadata": {},
   "outputs": [
    {
     "data": {
      "text/html": [
       "<div>\n",
       "<style>\n",
       "    .dataframe thead tr:only-child th {\n",
       "        text-align: right;\n",
       "    }\n",
       "\n",
       "    .dataframe thead th {\n",
       "        text-align: left;\n",
       "    }\n",
       "\n",
       "    .dataframe tbody tr th {\n",
       "        vertical-align: top;\n",
       "    }\n",
       "</style>\n",
       "<table border=\"1\" class=\"dataframe\">\n",
       "  <thead>\n",
       "    <tr style=\"text-align: right;\">\n",
       "      <th></th>\n",
       "      <th>date_time</th>\n",
       "      <th>display_name</th>\n",
       "      <th>distance</th>\n",
       "      <th>duration</th>\n",
       "      <th>end_latitude</th>\n",
       "      <th>end_longitude</th>\n",
       "      <th>high_estimate</th>\n",
       "      <th>low_estimate</th>\n",
       "      <th>day_of_week</th>\n",
       "      <th>Weather</th>\n",
       "    </tr>\n",
       "  </thead>\n",
       "  <tbody>\n",
       "    <tr>\n",
       "      <th>5</th>\n",
       "      <td>2017-12-05 22:47:56</td>\n",
       "      <td>uberWAV</td>\n",
       "      <td>8.24</td>\n",
       "      <td>1080</td>\n",
       "      <td>42.314857</td>\n",
       "      <td>-71.056782</td>\n",
       "      <td>23.0</td>\n",
       "      <td>18.0</td>\n",
       "      <td>1</td>\n",
       "      <td>2</td>\n",
       "    </tr>\n",
       "    <tr>\n",
       "      <th>19</th>\n",
       "      <td>2017-12-05 22:48:51</td>\n",
       "      <td>uberWAV</td>\n",
       "      <td>6.18</td>\n",
       "      <td>1140</td>\n",
       "      <td>42.272678</td>\n",
       "      <td>-71.093765</td>\n",
       "      <td>19.0</td>\n",
       "      <td>15.0</td>\n",
       "      <td>1</td>\n",
       "      <td>2</td>\n",
       "    </tr>\n",
       "    <tr>\n",
       "      <th>33</th>\n",
       "      <td>2017-12-05 22:51:50</td>\n",
       "      <td>uberWAV</td>\n",
       "      <td>8.53</td>\n",
       "      <td>1320</td>\n",
       "      <td>42.247948</td>\n",
       "      <td>-71.173050</td>\n",
       "      <td>25.0</td>\n",
       "      <td>20.0</td>\n",
       "      <td>1</td>\n",
       "      <td>2</td>\n",
       "    </tr>\n",
       "    <tr>\n",
       "      <th>47</th>\n",
       "      <td>2017-12-05 22:54:57</td>\n",
       "      <td>uberWAV</td>\n",
       "      <td>3.24</td>\n",
       "      <td>840</td>\n",
       "      <td>42.338443</td>\n",
       "      <td>-71.074548</td>\n",
       "      <td>14.0</td>\n",
       "      <td>10.0</td>\n",
       "      <td>1</td>\n",
       "      <td>2</td>\n",
       "    </tr>\n",
       "    <tr>\n",
       "      <th>61</th>\n",
       "      <td>2017-12-05 22:57:49</td>\n",
       "      <td>uberWAV</td>\n",
       "      <td>4.14</td>\n",
       "      <td>720</td>\n",
       "      <td>42.360958</td>\n",
       "      <td>-71.065895</td>\n",
       "      <td>15.0</td>\n",
       "      <td>12.0</td>\n",
       "      <td>1</td>\n",
       "      <td>2</td>\n",
       "    </tr>\n",
       "  </tbody>\n",
       "</table>\n",
       "</div>"
      ],
      "text/plain": [
       "             date_time display_name  distance  duration  end_latitude  \\\n",
       "5  2017-12-05 22:47:56      uberWAV      8.24      1080     42.314857   \n",
       "19 2017-12-05 22:48:51      uberWAV      6.18      1140     42.272678   \n",
       "33 2017-12-05 22:51:50      uberWAV      8.53      1320     42.247948   \n",
       "47 2017-12-05 22:54:57      uberWAV      3.24       840     42.338443   \n",
       "61 2017-12-05 22:57:49      uberWAV      4.14       720     42.360958   \n",
       "\n",
       "    end_longitude  high_estimate  low_estimate  day_of_week  Weather  \n",
       "5      -71.056782           23.0          18.0            1        2  \n",
       "19     -71.093765           19.0          15.0            1        2  \n",
       "33     -71.173050           25.0          20.0            1        2  \n",
       "47     -71.074548           14.0          10.0            1        2  \n",
       "61     -71.065895           15.0          12.0            1        2  "
      ]
     },
     "execution_count": 45,
     "metadata": {},
     "output_type": "execute_result"
    }
   ],
   "source": [
    "#remove duplicated datetimeindex\n",
    "uberWAV = uberWAV[~uberWAV.date_time.duplicated(keep = 'first')]\n",
    "uberWAV.head()"
   ]
  },
  {
   "cell_type": "code",
   "execution_count": 46,
   "metadata": {},
   "outputs": [
    {
     "data": {
      "text/html": [
       "<div>\n",
       "<style>\n",
       "    .dataframe thead tr:only-child th {\n",
       "        text-align: right;\n",
       "    }\n",
       "\n",
       "    .dataframe thead th {\n",
       "        text-align: left;\n",
       "    }\n",
       "\n",
       "    .dataframe tbody tr th {\n",
       "        vertical-align: top;\n",
       "    }\n",
       "</style>\n",
       "<table border=\"1\" class=\"dataframe\">\n",
       "  <thead>\n",
       "    <tr style=\"text-align: right;\">\n",
       "      <th></th>\n",
       "      <th>date_time</th>\n",
       "      <th>display_name</th>\n",
       "      <th>distance</th>\n",
       "      <th>duration</th>\n",
       "      <th>end_latitude</th>\n",
       "      <th>end_longitude</th>\n",
       "      <th>high_estimate</th>\n",
       "      <th>low_estimate</th>\n",
       "      <th>day_of_week</th>\n",
       "      <th>Weather</th>\n",
       "    </tr>\n",
       "  </thead>\n",
       "  <tbody>\n",
       "    <tr>\n",
       "      <th>51147</th>\n",
       "      <td>2017-12-13 15:27:19</td>\n",
       "      <td>uberWAV</td>\n",
       "      <td>1.94</td>\n",
       "      <td>600</td>\n",
       "      <td>42.346358</td>\n",
       "      <td>-71.097615</td>\n",
       "      <td>13.0</td>\n",
       "      <td>9.0</td>\n",
       "      <td>2</td>\n",
       "      <td>3</td>\n",
       "    </tr>\n",
       "    <tr>\n",
       "      <th>51161</th>\n",
       "      <td>2017-12-13 15:30:19</td>\n",
       "      <td>uberWAV</td>\n",
       "      <td>4.57</td>\n",
       "      <td>1620</td>\n",
       "      <td>42.358536</td>\n",
       "      <td>-71.060788</td>\n",
       "      <td>24.0</td>\n",
       "      <td>19.0</td>\n",
       "      <td>2</td>\n",
       "      <td>3</td>\n",
       "    </tr>\n",
       "    <tr>\n",
       "      <th>51175</th>\n",
       "      <td>2017-12-13 15:33:24</td>\n",
       "      <td>uberWAV</td>\n",
       "      <td>1.94</td>\n",
       "      <td>660</td>\n",
       "      <td>42.346358</td>\n",
       "      <td>-71.097615</td>\n",
       "      <td>13.0</td>\n",
       "      <td>10.0</td>\n",
       "      <td>2</td>\n",
       "      <td>3</td>\n",
       "    </tr>\n",
       "    <tr>\n",
       "      <th>51189</th>\n",
       "      <td>2017-12-13 15:36:21</td>\n",
       "      <td>uberWAV</td>\n",
       "      <td>6.09</td>\n",
       "      <td>1440</td>\n",
       "      <td>42.350274</td>\n",
       "      <td>-71.051305</td>\n",
       "      <td>20.0</td>\n",
       "      <td>16.0</td>\n",
       "      <td>2</td>\n",
       "      <td>3</td>\n",
       "    </tr>\n",
       "    <tr>\n",
       "      <th>51203</th>\n",
       "      <td>2017-12-13 15:39:19</td>\n",
       "      <td>uberWAV</td>\n",
       "      <td>3.20</td>\n",
       "      <td>900</td>\n",
       "      <td>42.322207</td>\n",
       "      <td>-71.170310</td>\n",
       "      <td>19.0</td>\n",
       "      <td>15.0</td>\n",
       "      <td>2</td>\n",
       "      <td>3</td>\n",
       "    </tr>\n",
       "  </tbody>\n",
       "</table>\n",
       "</div>"
      ],
      "text/plain": [
       "                date_time display_name  distance  duration  end_latitude  \\\n",
       "51147 2017-12-13 15:27:19      uberWAV      1.94       600     42.346358   \n",
       "51161 2017-12-13 15:30:19      uberWAV      4.57      1620     42.358536   \n",
       "51175 2017-12-13 15:33:24      uberWAV      1.94       660     42.346358   \n",
       "51189 2017-12-13 15:36:21      uberWAV      6.09      1440     42.350274   \n",
       "51203 2017-12-13 15:39:19      uberWAV      3.20       900     42.322207   \n",
       "\n",
       "       end_longitude  high_estimate  low_estimate  day_of_week  Weather  \n",
       "51147     -71.097615           13.0           9.0            2        3  \n",
       "51161     -71.060788           24.0          19.0            2        3  \n",
       "51175     -71.097615           13.0          10.0            2        3  \n",
       "51189     -71.051305           20.0          16.0            2        3  \n",
       "51203     -71.170310           19.0          15.0            2        3  "
      ]
     },
     "execution_count": 46,
     "metadata": {},
     "output_type": "execute_result"
    }
   ],
   "source": [
    "# Checking if duplicates are removed\n",
    "uberWAV.tail()"
   ]
  },
  {
   "cell_type": "code",
   "execution_count": 47,
   "metadata": {},
   "outputs": [
    {
     "data": {
      "text/plain": [
       "date_time        3658\n",
       "display_name     3658\n",
       "distance         3658\n",
       "duration         3658\n",
       "end_latitude     3658\n",
       "end_longitude    3658\n",
       "high_estimate    3658\n",
       "low_estimate     3658\n",
       "day_of_week      3658\n",
       "Weather          3658\n",
       "dtype: int64"
      ]
     },
     "execution_count": 47,
     "metadata": {},
     "output_type": "execute_result"
    }
   ],
   "source": [
    "#Counting total records\n",
    "uberWAV.count()"
   ]
  },
  {
   "cell_type": "code",
   "execution_count": 48,
   "metadata": {},
   "outputs": [
    {
     "data": {
      "text/plain": [
       "<matplotlib.axes._subplots.AxesSubplot at 0x242300618d0>"
      ]
     },
     "execution_count": 48,
     "metadata": {},
     "output_type": "execute_result"
    },
    {
     "data": {
      "image/png": "[encoded data removed]",
      "text/plain": [
       "<matplotlib.figure.Figure at 0x24230084ba8>"
      ]
     },
     "metadata": {},
     "output_type": "display_data"
    }
   ],
   "source": [
    "uberWAV.plot() # plotting dataframe"
   ]
  },
  {
   "cell_type": "code",
   "execution_count": 49,
   "metadata": {
    "collapsed": true
   },
   "outputs": [],
   "source": [
    "#hv.Curve(uber_by_weather)"
   ]
  },
  {
   "cell_type": "code",
   "execution_count": 50,
   "metadata": {},
   "outputs": [
    {
     "data": {
      "text/plain": [
       "19.000273373428104"
      ]
     },
     "execution_count": 50,
     "metadata": {},
     "output_type": "execute_result"
    }
   ],
   "source": [
    "uberWAV['high_estimate'].mean() # Calculate mean of high range"
   ]
  },
  {
   "cell_type": "code",
   "execution_count": 51,
   "metadata": {},
   "outputs": [
    {
     "data": {
      "text/plain": [
       "47.45337701028851"
      ]
     },
     "execution_count": 51,
     "metadata": {},
     "output_type": "execute_result"
    }
   ],
   "source": [
    "uberWAV['high_estimate'].var() # Calculate variance"
   ]
  },
  {
   "cell_type": "code",
   "execution_count": 52,
   "metadata": {},
   "outputs": [
    {
     "data": {
      "text/plain": [
       "6.888641158478827"
      ]
     },
     "execution_count": 52,
     "metadata": {},
     "output_type": "execute_result"
    }
   ],
   "source": [
    "uberWAV['high_estimate'].std() # Calculate Standard deviation"
   ]
  },
  {
   "cell_type": "code",
   "execution_count": 53,
   "metadata": {
    "collapsed": true
   },
   "outputs": [],
   "source": [
    "uberWAV.drop(['display_name', 'date_time'], axis =1, inplace = True) # Dropping cells as data is insignificant"
   ]
  },
  {
   "cell_type": "code",
   "execution_count": 54,
   "metadata": {},
   "outputs": [
    {
     "data": {
      "text/plain": [
       "<matplotlib.axes._subplots.AxesSubplot at 0x24223a17748>"
      ]
     },
     "execution_count": 54,
     "metadata": {},
     "output_type": "execute_result"
    },
    {
     "data": {
      "image/png": "[encoded data removed]",
      "text/plain": [
       "<matplotlib.figure.Figure at 0x2422fdeb7b8>"
      ]
     },
     "metadata": {},
     "output_type": "display_data"
    }
   ],
   "source": [
    "sns.boxplot(data=uberWAV, orient=\"h\") # to check for outliers"
   ]
  },
  {
   "cell_type": "code",
   "execution_count": 55,
   "metadata": {
    "collapsed": true
   },
   "outputs": [],
   "source": [
    "uberWAV['high_estimate'] = uberWAV['high_estimate'].apply(lambda x: \"HH\" if x>= uberWAV['high_estimate'].mean() else \"HL\") #Converting high estimate as HH for prices greater than mean and HL for prices less than mean for analysis"
   ]
  },
  {
   "cell_type": "code",
   "execution_count": 56,
   "metadata": {},
   "outputs": [
    {
     "data": {
      "text/html": [
       "<div>\n",
       "<style>\n",
       "    .dataframe thead tr:only-child th {\n",
       "        text-align: right;\n",
       "    }\n",
       "\n",
       "    .dataframe thead th {\n",
       "        text-align: left;\n",
       "    }\n",
       "\n",
       "    .dataframe tbody tr th {\n",
       "        vertical-align: top;\n",
       "    }\n",
       "</style>\n",
       "<table border=\"1\" class=\"dataframe\">\n",
       "  <thead>\n",
       "    <tr style=\"text-align: right;\">\n",
       "      <th></th>\n",
       "      <th>distance</th>\n",
       "      <th>duration</th>\n",
       "      <th>end_latitude</th>\n",
       "      <th>end_longitude</th>\n",
       "      <th>high_estimate</th>\n",
       "      <th>low_estimate</th>\n",
       "      <th>day_of_week</th>\n",
       "      <th>Weather</th>\n",
       "    </tr>\n",
       "  </thead>\n",
       "  <tbody>\n",
       "    <tr>\n",
       "      <th>5</th>\n",
       "      <td>8.24</td>\n",
       "      <td>1080</td>\n",
       "      <td>42.314857</td>\n",
       "      <td>-71.056782</td>\n",
       "      <td>HH</td>\n",
       "      <td>18.0</td>\n",
       "      <td>1</td>\n",
       "      <td>2</td>\n",
       "    </tr>\n",
       "    <tr>\n",
       "      <th>19</th>\n",
       "      <td>6.18</td>\n",
       "      <td>1140</td>\n",
       "      <td>42.272678</td>\n",
       "      <td>-71.093765</td>\n",
       "      <td>HL</td>\n",
       "      <td>15.0</td>\n",
       "      <td>1</td>\n",
       "      <td>2</td>\n",
       "    </tr>\n",
       "    <tr>\n",
       "      <th>33</th>\n",
       "      <td>8.53</td>\n",
       "      <td>1320</td>\n",
       "      <td>42.247948</td>\n",
       "      <td>-71.173050</td>\n",
       "      <td>HH</td>\n",
       "      <td>20.0</td>\n",
       "      <td>1</td>\n",
       "      <td>2</td>\n",
       "    </tr>\n",
       "    <tr>\n",
       "      <th>47</th>\n",
       "      <td>3.24</td>\n",
       "      <td>840</td>\n",
       "      <td>42.338443</td>\n",
       "      <td>-71.074548</td>\n",
       "      <td>HL</td>\n",
       "      <td>10.0</td>\n",
       "      <td>1</td>\n",
       "      <td>2</td>\n",
       "    </tr>\n",
       "    <tr>\n",
       "      <th>61</th>\n",
       "      <td>4.14</td>\n",
       "      <td>720</td>\n",
       "      <td>42.360958</td>\n",
       "      <td>-71.065895</td>\n",
       "      <td>HL</td>\n",
       "      <td>12.0</td>\n",
       "      <td>1</td>\n",
       "      <td>2</td>\n",
       "    </tr>\n",
       "  </tbody>\n",
       "</table>\n",
       "</div>"
      ],
      "text/plain": [
       "    distance  duration  end_latitude  end_longitude high_estimate  \\\n",
       "5       8.24      1080     42.314857     -71.056782            HH   \n",
       "19      6.18      1140     42.272678     -71.093765            HL   \n",
       "33      8.53      1320     42.247948     -71.173050            HH   \n",
       "47      3.24       840     42.338443     -71.074548            HL   \n",
       "61      4.14       720     42.360958     -71.065895            HL   \n",
       "\n",
       "    low_estimate  day_of_week  Weather  \n",
       "5           18.0            1        2  \n",
       "19          15.0            1        2  \n",
       "33          20.0            1        2  \n",
       "47          10.0            1        2  \n",
       "61          12.0            1        2  "
      ]
     },
     "execution_count": 56,
     "metadata": {},
     "output_type": "execute_result"
    }
   ],
   "source": [
    "uberWAV.head() # displaying data"
   ]
  },
  {
   "cell_type": "code",
   "execution_count": 57,
   "metadata": {},
   "outputs": [
    {
     "data": {
      "text/html": [
       "<div>\n",
       "<style>\n",
       "    .dataframe thead tr:only-child th {\n",
       "        text-align: right;\n",
       "    }\n",
       "\n",
       "    .dataframe thead th {\n",
       "        text-align: left;\n",
       "    }\n",
       "\n",
       "    .dataframe tbody tr th {\n",
       "        vertical-align: top;\n",
       "    }\n",
       "</style>\n",
       "<table border=\"1\" class=\"dataframe\">\n",
       "  <thead>\n",
       "    <tr style=\"text-align: right;\">\n",
       "      <th></th>\n",
       "      <th>distance</th>\n",
       "      <th>duration</th>\n",
       "      <th>end_latitude</th>\n",
       "      <th>end_longitude</th>\n",
       "      <th>low_estimate</th>\n",
       "      <th>day_of_week</th>\n",
       "      <th>Weather</th>\n",
       "    </tr>\n",
       "    <tr>\n",
       "      <th>high_estimate</th>\n",
       "      <th></th>\n",
       "      <th></th>\n",
       "      <th></th>\n",
       "      <th></th>\n",
       "      <th></th>\n",
       "      <th></th>\n",
       "      <th></th>\n",
       "    </tr>\n",
       "  </thead>\n",
       "  <tbody>\n",
       "    <tr>\n",
       "      <th>HH</th>\n",
       "      <td>1462</td>\n",
       "      <td>1462</td>\n",
       "      <td>1462</td>\n",
       "      <td>1462</td>\n",
       "      <td>1462</td>\n",
       "      <td>1462</td>\n",
       "      <td>1462</td>\n",
       "    </tr>\n",
       "    <tr>\n",
       "      <th>HL</th>\n",
       "      <td>2196</td>\n",
       "      <td>2196</td>\n",
       "      <td>2196</td>\n",
       "      <td>2196</td>\n",
       "      <td>2196</td>\n",
       "      <td>2196</td>\n",
       "      <td>2196</td>\n",
       "    </tr>\n",
       "  </tbody>\n",
       "</table>\n",
       "</div>"
      ],
      "text/plain": [
       "               distance  duration  end_latitude  end_longitude  low_estimate  \\\n",
       "high_estimate                                                                  \n",
       "HH                 1462      1462          1462           1462          1462   \n",
       "HL                 2196      2196          2196           2196          2196   \n",
       "\n",
       "               day_of_week  Weather  \n",
       "high_estimate                        \n",
       "HH                    1462     1462  \n",
       "HL                    2196     2196  "
      ]
     },
     "execution_count": 57,
     "metadata": {},
     "output_type": "execute_result"
    }
   ],
   "source": [
    "uberWAV.groupby('high_estimate').count() # Counting the total number of records"
   ]
  },
  {
   "cell_type": "code",
   "execution_count": 58,
   "metadata": {},
   "outputs": [
    {
     "data": {
      "text/html": [
       "<div>\n",
       "<style>\n",
       "    .dataframe thead tr:only-child th {\n",
       "        text-align: right;\n",
       "    }\n",
       "\n",
       "    .dataframe thead th {\n",
       "        text-align: left;\n",
       "    }\n",
       "\n",
       "    .dataframe tbody tr th {\n",
       "        vertical-align: top;\n",
       "    }\n",
       "</style>\n",
       "<table border=\"1\" class=\"dataframe\">\n",
       "  <thead>\n",
       "    <tr style=\"text-align: right;\">\n",
       "      <th></th>\n",
       "      <th>distance</th>\n",
       "      <th>duration</th>\n",
       "      <th>end_latitude</th>\n",
       "      <th>end_longitude</th>\n",
       "      <th>low_estimate</th>\n",
       "      <th>day_of_week</th>\n",
       "      <th>Weather</th>\n",
       "    </tr>\n",
       "  </thead>\n",
       "  <tbody>\n",
       "    <tr>\n",
       "      <th>count</th>\n",
       "      <td>3658.000000</td>\n",
       "      <td>3658.000000</td>\n",
       "      <td>3658.000000</td>\n",
       "      <td>3658.000000</td>\n",
       "      <td>3658.000000</td>\n",
       "      <td>3658.000000</td>\n",
       "      <td>3658.000000</td>\n",
       "    </tr>\n",
       "    <tr>\n",
       "      <th>mean</th>\n",
       "      <td>5.265282</td>\n",
       "      <td>1039.043193</td>\n",
       "      <td>42.339442</td>\n",
       "      <td>-71.076939</td>\n",
       "      <td>14.648989</td>\n",
       "      <td>2.895845</td>\n",
       "      <td>2.995353</td>\n",
       "    </tr>\n",
       "    <tr>\n",
       "      <th>std</th>\n",
       "      <td>2.761660</td>\n",
       "      <td>391.295588</td>\n",
       "      <td>0.034898</td>\n",
       "      <td>0.037666</td>\n",
       "      <td>5.644885</td>\n",
       "      <td>1.930238</td>\n",
       "      <td>1.021363</td>\n",
       "    </tr>\n",
       "    <tr>\n",
       "      <th>min</th>\n",
       "      <td>1.290000</td>\n",
       "      <td>180.000000</td>\n",
       "      <td>42.247948</td>\n",
       "      <td>-71.173050</td>\n",
       "      <td>6.000000</td>\n",
       "      <td>0.000000</td>\n",
       "      <td>1.000000</td>\n",
       "    </tr>\n",
       "    <tr>\n",
       "      <th>25%</th>\n",
       "      <td>3.142500</td>\n",
       "      <td>780.000000</td>\n",
       "      <td>42.322207</td>\n",
       "      <td>-71.093765</td>\n",
       "      <td>11.000000</td>\n",
       "      <td>1.000000</td>\n",
       "      <td>2.000000</td>\n",
       "    </tr>\n",
       "    <tr>\n",
       "      <th>50%</th>\n",
       "      <td>4.695000</td>\n",
       "      <td>960.000000</td>\n",
       "      <td>42.348773</td>\n",
       "      <td>-71.074474</td>\n",
       "      <td>14.000000</td>\n",
       "      <td>3.000000</td>\n",
       "      <td>3.000000</td>\n",
       "    </tr>\n",
       "    <tr>\n",
       "      <th>75%</th>\n",
       "      <td>6.860000</td>\n",
       "      <td>1260.000000</td>\n",
       "      <td>42.360958</td>\n",
       "      <td>-71.057072</td>\n",
       "      <td>17.000000</td>\n",
       "      <td>5.000000</td>\n",
       "      <td>4.000000</td>\n",
       "    </tr>\n",
       "    <tr>\n",
       "      <th>max</th>\n",
       "      <td>14.530000</td>\n",
       "      <td>2880.000000</td>\n",
       "      <td>42.423240</td>\n",
       "      <td>-70.986913</td>\n",
       "      <td>52.000000</td>\n",
       "      <td>6.000000</td>\n",
       "      <td>4.000000</td>\n",
       "    </tr>\n",
       "  </tbody>\n",
       "</table>\n",
       "</div>"
      ],
      "text/plain": [
       "          distance     duration  end_latitude  end_longitude  low_estimate  \\\n",
       "count  3658.000000  3658.000000   3658.000000    3658.000000   3658.000000   \n",
       "mean      5.265282  1039.043193     42.339442     -71.076939     14.648989   \n",
       "std       2.761660   391.295588      0.034898       0.037666      5.644885   \n",
       "min       1.290000   180.000000     42.247948     -71.173050      6.000000   \n",
       "25%       3.142500   780.000000     42.322207     -71.093765     11.000000   \n",
       "50%       4.695000   960.000000     42.348773     -71.074474     14.000000   \n",
       "75%       6.860000  1260.000000     42.360958     -71.057072     17.000000   \n",
       "max      14.530000  2880.000000     42.423240     -70.986913     52.000000   \n",
       "\n",
       "       day_of_week      Weather  \n",
       "count  3658.000000  3658.000000  \n",
       "mean      2.895845     2.995353  \n",
       "std       1.930238     1.021363  \n",
       "min       0.000000     1.000000  \n",
       "25%       1.000000     2.000000  \n",
       "50%       3.000000     3.000000  \n",
       "75%       5.000000     4.000000  \n",
       "max       6.000000     4.000000  "
      ]
     },
     "execution_count": 58,
     "metadata": {},
     "output_type": "execute_result"
    }
   ],
   "source": [
    "uberWAV.describe() # Describing columns"
   ]
  },
  {
   "cell_type": "code",
   "execution_count": 59,
   "metadata": {
    "collapsed": true
   },
   "outputs": [],
   "source": [
    "def scaled_df(df):\n",
    "    scaled = pd.DataFrame()\n",
    "    for item in df:\n",
    "        if item in df.select_dtypes(include=[np.float]):\n",
    "            scaled[item] = ((df[item] - df[item].min()) / \n",
    "            (df[item].max() - df[item].min()))\n",
    "        else: \n",
    "            scaled[item] = df[item]\n",
    "    return scaled\n",
    "uberWAV_scaled = scaled_df(uberWAV)\n",
    "# Scaling to remove outliers"
   ]
  },
  {
   "cell_type": "code",
   "execution_count": 60,
   "metadata": {},
   "outputs": [
    {
     "data": {
      "text/plain": [
       "<matplotlib.axes._subplots.AxesSubplot at 0x2422376be10>"
      ]
     },
     "execution_count": 60,
     "metadata": {},
     "output_type": "execute_result"
    },
    {
     "data": {
      "image/png": "[encoded data removed]",
      "text/plain": [
       "<matplotlib.figure.Figure at 0x242236d91d0>"
      ]
     },
     "metadata": {},
     "output_type": "display_data"
    }
   ],
   "source": [
    "sns.boxplot(data=uberWAV_scaled, orient=\"h\")"
   ]
  },
  {
   "cell_type": "code",
   "execution_count": 61,
   "metadata": {},
   "outputs": [
    {
     "data": {
      "text/plain": [
       "distance         float64\n",
       "duration           int64\n",
       "end_latitude     float64\n",
       "end_longitude    float64\n",
       "high_estimate     object\n",
       "low_estimate     float64\n",
       "day_of_week        int64\n",
       "Weather            int64\n",
       "dtype: object"
      ]
     },
     "execution_count": 61,
     "metadata": {},
     "output_type": "execute_result"
    }
   ],
   "source": [
    "uberWAV_scaled.dtypes"
   ]
  },
  {
   "cell_type": "code",
   "execution_count": 62,
   "metadata": {
    "collapsed": true
   },
   "outputs": [],
   "source": [
    "predictor_names = ['distance', 'duration', 'low_estimate', 'Weather', 'day_of_week', 'end_latitude', 'end_longitude']\n",
    "# Defining factors affecting the ride"
   ]
  },
  {
   "cell_type": "code",
   "execution_count": 63,
   "metadata": {},
   "outputs": [
    {
     "data": {
      "text/plain": [
       "distance         float64\n",
       "duration           int64\n",
       "end_latitude     float64\n",
       "end_longitude    float64\n",
       "high_estimate     object\n",
       "low_estimate     float64\n",
       "day_of_week        int64\n",
       "Weather            int64\n",
       "dtype: object"
      ]
     },
     "execution_count": 63,
     "metadata": {},
     "output_type": "execute_result"
    }
   ],
   "source": [
    "uberWAV_scaled.dtypes"
   ]
  },
  {
   "cell_type": "code",
   "execution_count": 64,
   "metadata": {
    "collapsed": true
   },
   "outputs": [],
   "source": [
    "# Defining the input and output varibles\n",
    "X = uberWAV_scaled[predictor_names]\n",
    "\n",
    "#setting target\n",
    "y = uberWAV_scaled['high_estimate']"
   ]
  },
  {
   "cell_type": "code",
   "execution_count": 65,
   "metadata": {
    "collapsed": true
   },
   "outputs": [],
   "source": [
    "\n",
    "#dividing data to have a training and a testing set\n",
    "X_train, X_test, y_train, y_test = train_test_split(X, y, test_size= .4, random_state=0)"
   ]
  },
  {
   "cell_type": "code",
   "execution_count": 66,
   "metadata": {
    "collapsed": true
   },
   "outputs": [],
   "source": [
    "from sklearn import svm # importing library for support vector machines"
   ]
  },
  {
   "cell_type": "code",
   "execution_count": 67,
   "metadata": {},
   "outputs": [
    {
     "name": "stdout",
     "output_type": "stream",
     "text": [
      "KfoldCrossVal mean score using SVM is 0.752672394469\n",
      "Accuracy score using SVM is 0.810109289617\n"
     ]
    }
   ],
   "source": [
    "#setting rbfKernel svm classifier\n",
    "\n",
    "rbfKernel = svm.SVC(kernel='rbf', gamma=0.7, C=1.0)\n",
    "\n",
    "print(\"KfoldCrossVal mean score using SVM is %s\" %cross_val_score(rbfKernel,X,y,cv=10).mean())\n",
    "#SVM metrics\n",
    "sm = rbfKernel.fit(X_train, y_train)\n",
    "y_pred = sm.predict(X_test)\n",
    "print(\"Accuracy score using SVM is %s\" %metrics.accuracy_score(y_test, y_pred))"
   ]
  },
  {
   "cell_type": "code",
   "execution_count": 68,
   "metadata": {
    "collapsed": true
   },
   "outputs": [],
   "source": [
    "from sklearn.metrics import confusion_matrix # Analysis on the model"
   ]
  },
  {
   "cell_type": "code",
   "execution_count": 69,
   "metadata": {},
   "outputs": [
    {
     "data": {
      "text/plain": [
       "(396, 195, 83, 790)"
      ]
     },
     "execution_count": 69,
     "metadata": {},
     "output_type": "execute_result"
    }
   ],
   "source": [
    "True_Negative, False_Positive, False_Negative, True_Positive=confusion_matrix(y_test, y_pred).ravel()\n",
    "(True_Negative, False_Positive, False_Negative, True_Positive)"
   ]
  },
  {
   "cell_type": "code",
   "execution_count": 70,
   "metadata": {},
   "outputs": [
    {
     "data": {
      "text/plain": [
       "1464"
      ]
     },
     "execution_count": 70,
     "metadata": {},
     "output_type": "execute_result"
    }
   ],
   "source": [
    "total = True_Negative + False_Positive + False_Negative + True_Positive\n",
    "total"
   ]
  },
  {
   "cell_type": "code",
   "execution_count": 71,
   "metadata": {},
   "outputs": [
    {
     "name": "stdout",
     "output_type": "stream",
     "text": [
      "misclassificationRate: 195.056693989\n",
      "precision: 0.802030456853\n",
      "truePositiveRate :  0.904925544101\n",
      "falsePositiveRate :  0.329949238579\n",
      "Specificity :  0.670050761421\n",
      "Prevalence :  0.539617486339\n"
     ]
    }
   ],
   "source": [
    "misclassificationRate = False_Positive + False_Negative/ total #Analysis of results\n",
    "print(\"misclassificationRate:\", misclassificationRate)\n",
    "precision = True_Positive/( False_Positive + True_Positive)\n",
    "print(\"precision:\", precision)\n",
    "truePositiveRate = True_Positive / (True_Positive+False_Negative)\n",
    "print(\"truePositiveRate : \" , truePositiveRate)\n",
    "falsePositiveRate = False_Positive / (True_Negative+False_Positive)\n",
    "print(\"falsePositiveRate : \", falsePositiveRate)\n",
    "Specificity = True_Negative / (True_Negative+False_Positive)\n",
    "print(\"Specificity : \", Specificity)\n",
    "Prevalence = True_Positive / total\n",
    "print(\"Prevalence : \", Prevalence)\n"
   ]
  },
  {
   "cell_type": "code",
   "execution_count": 72,
   "metadata": {
    "collapsed": true
   },
   "outputs": [],
   "source": [
    "from sklearn.metrics import classification_report"
   ]
  },
  {
   "cell_type": "code",
   "execution_count": 73,
   "metadata": {},
   "outputs": [
    {
     "name": "stdout",
     "output_type": "stream",
     "text": [
      "             precision    recall  f1-score   support\n",
      "\n",
      "         HH       0.83      0.67      0.74       591\n",
      "         HL       0.80      0.90      0.85       873\n",
      "\n",
      "avg / total       0.81      0.81      0.81      1464\n",
      "\n"
     ]
    }
   ],
   "source": [
    "report = classification_report(y_test, y_pred)\n",
    "print(report)"
   ]
  },
  {
   "cell_type": "code",
   "execution_count": 74,
   "metadata": {},
   "outputs": [
    {
     "name": "stdout",
     "output_type": "stream",
     "text": [
      "Optimal K is 1\n"
     ]
    }
   ],
   "source": [
    "knn_k = []\n",
    "for i in range(0,33):  # try up to k=33\n",
    "    if (i % 2 != 0): # Use only odd k \n",
    "        knn_k.append(i)\n",
    "\n",
    "cross_vals = []\n",
    "for k in knn_k:\n",
    "    knn = KNeighborsClassifier(n_neighbors=k)\n",
    "    scores = cross_val_score(knn,\n",
    "                             X_train, \n",
    "                             y_train, \n",
    "                             cv = 10, \n",
    "                             scoring='accuracy')\n",
    "    cross_vals.append(scores.mean())\n",
    "\n",
    "MSE = [1 - x for x in cross_vals]\n",
    "optimal_k = knn_k[MSE.index(min(MSE))]\n",
    "print(\"Optimal K is {0}\".format(optimal_k))"
   ]
  },
  {
   "cell_type": "code",
   "execution_count": 75,
   "metadata": {},
   "outputs": [
    {
     "name": "stdout",
     "output_type": "stream",
     "text": [
      "Accuracy score using kNN is 0.828551912568\n"
     ]
    }
   ],
   "source": [
    "\n",
    "# setting kNN classifier\n",
    "knn = KNeighborsClassifier(n_neighbors=13)\n",
    "\n",
    "# kNN cross validation\n",
    "\n",
    "#print(\"KfoldCrossVal mean score using kNN is %s\" %cross_val_score(knn,X,y,cv=10).mean())\n",
    "\n",
    "# kNN metrics\n",
    "kNNm = knn.fit(X_train, y_train)\n",
    "\n",
    "y_pred = kNNm.predict(X_test)\n",
    "print(\"Accuracy score using kNN is %s\" %metrics.accuracy_score(y_test, y_pred))"
   ]
  },
  {
   "cell_type": "code",
   "execution_count": 76,
   "metadata": {},
   "outputs": [
    {
     "data": {
      "text/plain": [
       "(423, 168, 83, 790)"
      ]
     },
     "execution_count": 76,
     "metadata": {},
     "output_type": "execute_result"
    }
   ],
   "source": [
    "True_Negative, False_Positive, False_Negative, True_Positive=confusion_matrix(y_test, y_pred).ravel()\n",
    "(True_Negative, False_Positive, False_Negative, True_Positive)"
   ]
  },
  {
   "cell_type": "code",
   "execution_count": 77,
   "metadata": {},
   "outputs": [
    {
     "name": "stdout",
     "output_type": "stream",
     "text": [
      "             precision    recall  f1-score   support\n",
      "\n",
      "         HH       0.84      0.72      0.77       591\n",
      "         HL       0.82      0.90      0.86       873\n",
      "\n",
      "avg / total       0.83      0.83      0.83      1464\n",
      "\n"
     ]
    }
   ],
   "source": [
    "report = classification_report(y_test, y_pred)\n",
    "print(report)"
   ]
  },
  {
   "cell_type": "code",
   "execution_count": 78,
   "metadata": {},
   "outputs": [
    {
     "data": {
      "text/plain": [
       "1464"
      ]
     },
     "execution_count": 78,
     "metadata": {},
     "output_type": "execute_result"
    }
   ],
   "source": [
    "total = True_Negative + False_Positive + False_Negative + True_Positive\n",
    "total"
   ]
  },
  {
   "cell_type": "code",
   "execution_count": 79,
   "metadata": {},
   "outputs": [
    {
     "name": "stdout",
     "output_type": "stream",
     "text": [
      "misclassificationRate: 168.056693989\n",
      "precision: 0.824634655532\n",
      "truePositiveRate :  0.904925544101\n",
      "falsePositiveRate :  0.284263959391\n",
      "Specificity :  0.715736040609\n",
      "Prevalence :  0.539617486339\n"
     ]
    }
   ],
   "source": [
    "misclassificationRate = False_Positive + False_Negative/ total  #Analysis of results\n",
    "print(\"misclassificationRate:\", misclassificationRate)\n",
    "precision = True_Positive/( False_Positive + True_Positive)\n",
    "print(\"precision:\", precision)\n",
    "truePositiveRate = True_Positive / (True_Positive+False_Negative)\n",
    "print(\"truePositiveRate : \" , truePositiveRate)\n",
    "falsePositiveRate = False_Positive / (True_Negative+False_Positive)\n",
    "print(\"falsePositiveRate : \", falsePositiveRate)\n",
    "Specificity = True_Negative / (True_Negative+False_Positive)\n",
    "print(\"Specificity : \", Specificity)\n",
    "Prevalence = True_Positive / total\n",
    "print(\"Prevalence : \", Prevalence)"
   ]
  },
  {
   "cell_type": "code",
   "execution_count": 80,
   "metadata": {
    "collapsed": true
   },
   "outputs": [],
   "source": [
    "\n",
    "from sklearn.naive_bayes import MultinomialNB, GaussianNB\n"
   ]
  },
  {
   "cell_type": "code",
   "execution_count": 81,
   "metadata": {},
   "outputs": [
    {
     "name": "stdout",
     "output_type": "stream",
     "text": [
      "0.758196721311\n"
     ]
    }
   ],
   "source": [
    "# testing accuracy of Multinomial Naive Bayes\n",
    "mnb = MultinomialNB()\n",
    "mnb.fit(X_train, y_train)\n",
    "y_pred_class = mnb.predict(X_test)\n",
    "print (metrics.accuracy_score(y_test, y_pred_class))"
   ]
  },
  {
   "cell_type": "code",
   "execution_count": 82,
   "metadata": {},
   "outputs": [
    {
     "data": {
      "text/plain": [
       "(352, 239, 115, 758)"
      ]
     },
     "execution_count": 82,
     "metadata": {},
     "output_type": "execute_result"
    }
   ],
   "source": [
    "True_Negative, False_Positive, False_Negative, True_Positive=confusion_matrix(y_test, y_pred_class).ravel()\n",
    "(True_Negative, False_Positive, False_Negative, True_Positive)"
   ]
  },
  {
   "cell_type": "code",
   "execution_count": 83,
   "metadata": {},
   "outputs": [
    {
     "data": {
      "text/plain": [
       "1464"
      ]
     },
     "execution_count": 83,
     "metadata": {},
     "output_type": "execute_result"
    }
   ],
   "source": [
    "total = True_Negative + False_Positive + False_Negative + True_Positive\n",
    "total"
   ]
  },
  {
   "cell_type": "code",
   "execution_count": 84,
   "metadata": {},
   "outputs": [
    {
     "name": "stdout",
     "output_type": "stream",
     "text": [
      "misclassificationRate: 239.078551913\n",
      "precision: 0.760280842528\n",
      "truePositiveRate :  0.868270332188\n",
      "falsePositiveRate :  0.404399323181\n",
      "Specificity :  0.595600676819\n",
      "Prevalence :  0.517759562842\n"
     ]
    }
   ],
   "source": [
    "misclassificationRate = False_Positive + False_Negative/ total  #Analysis of results\n",
    "print(\"misclassificationRate:\", misclassificationRate)\n",
    "precision = True_Positive/( False_Positive + True_Positive)\n",
    "print(\"precision:\", precision)\n",
    "truePositiveRate = True_Positive / (True_Positive+False_Negative)\n",
    "print(\"truePositiveRate : \" , truePositiveRate)\n",
    "falsePositiveRate = False_Positive / (True_Negative+False_Positive)\n",
    "print(\"falsePositiveRate : \", falsePositiveRate)\n",
    "Specificity = True_Negative / (True_Negative+False_Positive)\n",
    "print(\"Specificity : \", Specificity)\n",
    "Prevalence = True_Positive / total\n",
    "print(\"Prevalence : \", Prevalence)"
   ]
  },
  {
   "cell_type": "code",
   "execution_count": 85,
   "metadata": {},
   "outputs": [
    {
     "name": "stdout",
     "output_type": "stream",
     "text": [
      "             precision    recall  f1-score   support\n",
      "\n",
      "         HH       0.75      0.60      0.67       591\n",
      "         HL       0.76      0.87      0.81       873\n",
      "\n",
      "avg / total       0.76      0.76      0.75      1464\n",
      "\n"
     ]
    }
   ],
   "source": [
    "report = classification_report(y_test, y_pred_class)\n",
    "print(report)"
   ]
  },
  {
   "cell_type": "code",
   "execution_count": 86,
   "metadata": {},
   "outputs": [
    {
     "name": "stdout",
     "output_type": "stream",
     "text": [
      "0.928278688525\n"
     ]
    }
   ],
   "source": [
    "# testing accuracy of Gaussian Naive Bayes\n",
    "gnb = GaussianNB()\n",
    "gnb.fit(X_train, y_train)\n",
    "y_pred_class_gnb = gnb.predict(X_test)\n",
    "print (metrics.accuracy_score(y_test, y_pred_class_gnb))"
   ]
  },
  {
   "cell_type": "code",
   "execution_count": 87,
   "metadata": {},
   "outputs": [
    {
     "data": {
      "text/plain": [
       "(556, 35, 70, 803)"
      ]
     },
     "execution_count": 87,
     "metadata": {},
     "output_type": "execute_result"
    }
   ],
   "source": [
    "True_Negative, False_Positive, False_Negative, True_Positive=confusion_matrix(y_test, y_pred_class_gnb).ravel()\n",
    "(True_Negative, False_Positive, False_Negative, True_Positive)"
   ]
  },
  {
   "cell_type": "code",
   "execution_count": 88,
   "metadata": {},
   "outputs": [
    {
     "data": {
      "text/plain": [
       "1464"
      ]
     },
     "execution_count": 88,
     "metadata": {},
     "output_type": "execute_result"
    }
   ],
   "source": [
    "total = True_Negative + False_Positive + False_Negative + True_Positive\n",
    "total"
   ]
  },
  {
   "cell_type": "code",
   "execution_count": 89,
   "metadata": {},
   "outputs": [
    {
     "name": "stdout",
     "output_type": "stream",
     "text": [
      "misclassificationRate: 35.0478142077\n",
      "precision: 0.958233890215\n",
      "truePositiveRate :  0.91981672394\n",
      "falsePositiveRate :  0.0592216582064\n",
      "Specificity :  0.940778341794\n",
      "Prevalence :  0.54849726776\n"
     ]
    }
   ],
   "source": [
    "misclassificationRate = False_Positive + False_Negative/ total  #Analysis of results\n",
    "print(\"misclassificationRate:\", misclassificationRate)\n",
    "precision = True_Positive/( False_Positive + True_Positive)\n",
    "print(\"precision:\", precision)\n",
    "truePositiveRate = True_Positive / (True_Positive+False_Negative)\n",
    "print(\"truePositiveRate : \" , truePositiveRate)\n",
    "falsePositiveRate = False_Positive / (True_Negative+False_Positive)\n",
    "print(\"falsePositiveRate : \", falsePositiveRate)\n",
    "Specificity = True_Negative / (True_Negative+False_Positive)\n",
    "print(\"Specificity : \", Specificity)\n",
    "Prevalence = True_Positive / total\n",
    "print(\"Prevalence : \", Prevalence)"
   ]
  },
  {
   "cell_type": "code",
   "execution_count": 90,
   "metadata": {},
   "outputs": [
    {
     "name": "stdout",
     "output_type": "stream",
     "text": [
      "             precision    recall  f1-score   support\n",
      "\n",
      "         HH       0.89      0.94      0.91       591\n",
      "         HL       0.96      0.92      0.94       873\n",
      "\n",
      "avg / total       0.93      0.93      0.93      1464\n",
      "\n"
     ]
    }
   ],
   "source": [
    "report = classification_report(y_test, y_pred_class_gnb)\n",
    "print(report)"
   ]
  }
 ],
 "metadata": {
  "kernelspec": {
   "display_name": "Python 3",
   "language": "python",
   "name": "python3"
  },
  "language_info": {
   "codemirror_mode": {
    "name": "ipython",
    "version": 3
   },
   "file_extension": ".py",
   "mimetype": "text/x-python",
   "name": "python",
   "nbconvert_exporter": "python",
   "pygments_lexer": "ipython3",
   "version": "3.5.4"
  }
 },
 "nbformat": 4,
 "nbformat_minor": 2
}
