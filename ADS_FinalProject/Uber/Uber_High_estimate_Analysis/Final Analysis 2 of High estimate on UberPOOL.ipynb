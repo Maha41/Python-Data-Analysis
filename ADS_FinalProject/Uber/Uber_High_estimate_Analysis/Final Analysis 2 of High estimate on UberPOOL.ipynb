{
 "cells": [
  {
   "cell_type": "code",
   "execution_count": 345,
   "metadata": {},
   "outputs": [],
   "source": [
    "import json\n",
    "import pandas as pd\n",
    "%matplotlib inline \n",
    "import matplotlib.pyplot as plt\n",
    "import numpy as np\n",
    "import pandas as pd\n",
    "from scipy import stats\n",
    "import seaborn as sns\n",
    "import warnings\n",
    "import random\n",
    "from sklearn import cross_validation # used to test classifier\n",
    "from sklearn.cross_validation import KFold, cross_val_score, train_test_split\n",
    "from sklearn import metrics\n",
    "from datetime import datetime\n",
    "random.seed(datetime.now())\n",
    "warnings.filterwarnings('ignore')\n",
    "\n",
    "\n",
    "plt.rcParams['figure.figsize'] = (20, 10) #Defining size of plots\n",
    "from sklearn import metrics\n",
    "from sklearn.preprocessing import StandardScaler\n",
    "from sklearn.neighbors import KNeighborsClassifier \n",
    "from sklearn.metrics import roc_curve # ROC Curves\n",
    "from sklearn.metrics import auc # Calculating AUC for ROC's!\n",
    "import warnings\n",
    "\n",
    "warnings.filterwarnings('ignore')"
   ]
  },
  {
   "cell_type": "code",
   "execution_count": 346,
   "metadata": {
    "collapsed": true
   },
   "outputs": [],
   "source": [
    "dj = pd.read_json('uber.json') # Reading the json file\n",
    "df_main = pd.DataFrame(dj)"
   ]
  },
  {
   "cell_type": "code",
   "execution_count": 347,
   "metadata": {},
   "outputs": [
    {
     "data": {
      "text/plain": [
       "(51212, 15)"
      ]
     },
     "execution_count": 347,
     "metadata": {},
     "output_type": "execute_result"
    }
   ],
   "source": [
    "df_main.shape # Determining the size of the dataset"
   ]
  },
  {
   "cell_type": "code",
   "execution_count": 348,
   "metadata": {
    "collapsed": true
   },
   "outputs": [],
   "source": [
    "df_uber=df_main # Creating a copy of dataset"
   ]
  },
  {
   "cell_type": "code",
   "execution_count": 349,
   "metadata": {},
   "outputs": [
    {
     "data": {
      "text/html": [
       "<div>\n",
       "<style>\n",
       "    .dataframe thead tr:only-child th {\n",
       "        text-align: right;\n",
       "    }\n",
       "\n",
       "    .dataframe thead th {\n",
       "        text-align: left;\n",
       "    }\n",
       "\n",
       "    .dataframe tbody tr th {\n",
       "        vertical-align: top;\n",
       "    }\n",
       "</style>\n",
       "<table border=\"1\" class=\"dataframe\">\n",
       "  <thead>\n",
       "    <tr style=\"text-align: right;\">\n",
       "      <th></th>\n",
       "      <th>Date-time</th>\n",
       "      <th>currency_code</th>\n",
       "      <th>display_name</th>\n",
       "      <th>distance</th>\n",
       "      <th>duration</th>\n",
       "      <th>end_latitude</th>\n",
       "      <th>end_longitude</th>\n",
       "      <th>estimate</th>\n",
       "      <th>high_estimate</th>\n",
       "      <th>localized_display_name</th>\n",
       "      <th>low_estimate</th>\n",
       "      <th>product_id</th>\n",
       "      <th>start_latitude</th>\n",
       "      <th>start_longitude</th>\n",
       "      <th>time</th>\n",
       "    </tr>\n",
       "  </thead>\n",
       "  <tbody>\n",
       "    <tr>\n",
       "      <th>0</th>\n",
       "      <td>2017-12-05 22:47:56</td>\n",
       "      <td>USD</td>\n",
       "      <td>uberPOOL</td>\n",
       "      <td>8.24</td>\n",
       "      <td>1080</td>\n",
       "      <td>42.314857</td>\n",
       "      <td>-71.056782</td>\n",
       "      <td>$8-11</td>\n",
       "      <td>12.0</td>\n",
       "      <td>uberPOOL</td>\n",
       "      <td>8.0</td>\n",
       "      <td>997acbb5-e102-41e1-b155-9df7de0a73f2</td>\n",
       "      <td>42.342588</td>\n",
       "      <td>-71.122463</td>\n",
       "      <td>22:47:56</td>\n",
       "    </tr>\n",
       "    <tr>\n",
       "      <th>1</th>\n",
       "      <td>2017-12-05 22:47:56</td>\n",
       "      <td>USD</td>\n",
       "      <td>uberX</td>\n",
       "      <td>8.24</td>\n",
       "      <td>1080</td>\n",
       "      <td>42.314857</td>\n",
       "      <td>-71.056782</td>\n",
       "      <td>$18-23</td>\n",
       "      <td>23.0</td>\n",
       "      <td>uberX</td>\n",
       "      <td>18.0</td>\n",
       "      <td>55c66225-fbe7-4fd5-9072-eab1ece5e23e</td>\n",
       "      <td>42.342588</td>\n",
       "      <td>-71.122463</td>\n",
       "      <td>22:47:56</td>\n",
       "    </tr>\n",
       "    <tr>\n",
       "      <th>2</th>\n",
       "      <td>2017-12-05 22:47:56</td>\n",
       "      <td>USD</td>\n",
       "      <td>uberSUV</td>\n",
       "      <td>8.24</td>\n",
       "      <td>1080</td>\n",
       "      <td>42.314857</td>\n",
       "      <td>-71.056782</td>\n",
       "      <td>$50-63</td>\n",
       "      <td>63.0</td>\n",
       "      <td>uberSUV</td>\n",
       "      <td>50.0</td>\n",
       "      <td>6d318bcc-22a3-4af6-bddd-b409bfce1546</td>\n",
       "      <td>42.342588</td>\n",
       "      <td>-71.122463</td>\n",
       "      <td>22:47:56</td>\n",
       "    </tr>\n",
       "    <tr>\n",
       "      <th>3</th>\n",
       "      <td>2017-12-05 22:47:56</td>\n",
       "      <td>USD</td>\n",
       "      <td>uberXL</td>\n",
       "      <td>8.24</td>\n",
       "      <td>1080</td>\n",
       "      <td>42.314857</td>\n",
       "      <td>-71.056782</td>\n",
       "      <td>$28-35</td>\n",
       "      <td>35.0</td>\n",
       "      <td>uberXL</td>\n",
       "      <td>28.0</td>\n",
       "      <td>6f72dfc5-27f1-42e8-84db-ccc7a75f6969</td>\n",
       "      <td>42.342588</td>\n",
       "      <td>-71.122463</td>\n",
       "      <td>22:47:56</td>\n",
       "    </tr>\n",
       "    <tr>\n",
       "      <th>4</th>\n",
       "      <td>2017-12-05 22:47:56</td>\n",
       "      <td>USD</td>\n",
       "      <td>UberBLACK</td>\n",
       "      <td>8.24</td>\n",
       "      <td>1080</td>\n",
       "      <td>42.314857</td>\n",
       "      <td>-71.056782</td>\n",
       "      <td>$41-51</td>\n",
       "      <td>51.0</td>\n",
       "      <td>UberBLACK</td>\n",
       "      <td>41.0</td>\n",
       "      <td>6c84fd89-3f11-4782-9b50-97c468b19529</td>\n",
       "      <td>42.342588</td>\n",
       "      <td>-71.122463</td>\n",
       "      <td>22:47:56</td>\n",
       "    </tr>\n",
       "  </tbody>\n",
       "</table>\n",
       "</div>"
      ],
      "text/plain": [
       "             Date-time currency_code display_name  distance  duration  \\\n",
       "0  2017-12-05 22:47:56           USD     uberPOOL      8.24      1080   \n",
       "1  2017-12-05 22:47:56           USD        uberX      8.24      1080   \n",
       "2  2017-12-05 22:47:56           USD      uberSUV      8.24      1080   \n",
       "3  2017-12-05 22:47:56           USD       uberXL      8.24      1080   \n",
       "4  2017-12-05 22:47:56           USD    UberBLACK      8.24      1080   \n",
       "\n",
       "   end_latitude  end_longitude estimate  high_estimate localized_display_name  \\\n",
       "0     42.314857     -71.056782    $8-11           12.0               uberPOOL   \n",
       "1     42.314857     -71.056782   $18-23           23.0                  uberX   \n",
       "2     42.314857     -71.056782   $50-63           63.0                uberSUV   \n",
       "3     42.314857     -71.056782   $28-35           35.0                 uberXL   \n",
       "4     42.314857     -71.056782   $41-51           51.0              UberBLACK   \n",
       "\n",
       "   low_estimate                            product_id  start_latitude  \\\n",
       "0           8.0  997acbb5-e102-41e1-b155-9df7de0a73f2       42.342588   \n",
       "1          18.0  55c66225-fbe7-4fd5-9072-eab1ece5e23e       42.342588   \n",
       "2          50.0  6d318bcc-22a3-4af6-bddd-b409bfce1546       42.342588   \n",
       "3          28.0  6f72dfc5-27f1-42e8-84db-ccc7a75f6969       42.342588   \n",
       "4          41.0  6c84fd89-3f11-4782-9b50-97c468b19529       42.342588   \n",
       "\n",
       "   start_longitude      time  \n",
       "0       -71.122463  22:47:56  \n",
       "1       -71.122463  22:47:56  \n",
       "2       -71.122463  22:47:56  \n",
       "3       -71.122463  22:47:56  \n",
       "4       -71.122463  22:47:56  "
      ]
     },
     "execution_count": 349,
     "metadata": {},
     "output_type": "execute_result"
    }
   ],
   "source": [
    "df_uber.head() # view dataset"
   ]
  },
  {
   "cell_type": "code",
   "execution_count": 350,
   "metadata": {
    "collapsed": true
   },
   "outputs": [],
   "source": [
    "uber = df_uber[df_main.display_name != 'TAXI'] # Removing all records of Taxi because aim is to focus on trends on Uber"
   ]
  },
  {
   "cell_type": "code",
   "execution_count": 351,
   "metadata": {},
   "outputs": [
    {
     "data": {
      "text/html": [
       "<div>\n",
       "<style>\n",
       "    .dataframe thead tr:only-child th {\n",
       "        text-align: right;\n",
       "    }\n",
       "\n",
       "    .dataframe thead th {\n",
       "        text-align: left;\n",
       "    }\n",
       "\n",
       "    .dataframe tbody tr th {\n",
       "        vertical-align: top;\n",
       "    }\n",
       "</style>\n",
       "<table border=\"1\" class=\"dataframe\">\n",
       "  <thead>\n",
       "    <tr style=\"text-align: right;\">\n",
       "      <th></th>\n",
       "      <th>Date-time</th>\n",
       "      <th>currency_code</th>\n",
       "      <th>display_name</th>\n",
       "      <th>distance</th>\n",
       "      <th>duration</th>\n",
       "      <th>end_latitude</th>\n",
       "      <th>end_longitude</th>\n",
       "      <th>estimate</th>\n",
       "      <th>high_estimate</th>\n",
       "      <th>localized_display_name</th>\n",
       "      <th>low_estimate</th>\n",
       "      <th>product_id</th>\n",
       "      <th>start_latitude</th>\n",
       "      <th>start_longitude</th>\n",
       "      <th>time</th>\n",
       "    </tr>\n",
       "  </thead>\n",
       "  <tbody>\n",
       "    <tr>\n",
       "      <th>0</th>\n",
       "      <td>2017-12-05 22:47:56</td>\n",
       "      <td>USD</td>\n",
       "      <td>uberPOOL</td>\n",
       "      <td>8.24</td>\n",
       "      <td>1080</td>\n",
       "      <td>42.314857</td>\n",
       "      <td>-71.056782</td>\n",
       "      <td>$8-11</td>\n",
       "      <td>12.0</td>\n",
       "      <td>uberPOOL</td>\n",
       "      <td>8.0</td>\n",
       "      <td>997acbb5-e102-41e1-b155-9df7de0a73f2</td>\n",
       "      <td>42.342588</td>\n",
       "      <td>-71.122463</td>\n",
       "      <td>22:47:56</td>\n",
       "    </tr>\n",
       "    <tr>\n",
       "      <th>1</th>\n",
       "      <td>2017-12-05 22:47:56</td>\n",
       "      <td>USD</td>\n",
       "      <td>uberX</td>\n",
       "      <td>8.24</td>\n",
       "      <td>1080</td>\n",
       "      <td>42.314857</td>\n",
       "      <td>-71.056782</td>\n",
       "      <td>$18-23</td>\n",
       "      <td>23.0</td>\n",
       "      <td>uberX</td>\n",
       "      <td>18.0</td>\n",
       "      <td>55c66225-fbe7-4fd5-9072-eab1ece5e23e</td>\n",
       "      <td>42.342588</td>\n",
       "      <td>-71.122463</td>\n",
       "      <td>22:47:56</td>\n",
       "    </tr>\n",
       "    <tr>\n",
       "      <th>2</th>\n",
       "      <td>2017-12-05 22:47:56</td>\n",
       "      <td>USD</td>\n",
       "      <td>uberSUV</td>\n",
       "      <td>8.24</td>\n",
       "      <td>1080</td>\n",
       "      <td>42.314857</td>\n",
       "      <td>-71.056782</td>\n",
       "      <td>$50-63</td>\n",
       "      <td>63.0</td>\n",
       "      <td>uberSUV</td>\n",
       "      <td>50.0</td>\n",
       "      <td>6d318bcc-22a3-4af6-bddd-b409bfce1546</td>\n",
       "      <td>42.342588</td>\n",
       "      <td>-71.122463</td>\n",
       "      <td>22:47:56</td>\n",
       "    </tr>\n",
       "    <tr>\n",
       "      <th>3</th>\n",
       "      <td>2017-12-05 22:47:56</td>\n",
       "      <td>USD</td>\n",
       "      <td>uberXL</td>\n",
       "      <td>8.24</td>\n",
       "      <td>1080</td>\n",
       "      <td>42.314857</td>\n",
       "      <td>-71.056782</td>\n",
       "      <td>$28-35</td>\n",
       "      <td>35.0</td>\n",
       "      <td>uberXL</td>\n",
       "      <td>28.0</td>\n",
       "      <td>6f72dfc5-27f1-42e8-84db-ccc7a75f6969</td>\n",
       "      <td>42.342588</td>\n",
       "      <td>-71.122463</td>\n",
       "      <td>22:47:56</td>\n",
       "    </tr>\n",
       "    <tr>\n",
       "      <th>4</th>\n",
       "      <td>2017-12-05 22:47:56</td>\n",
       "      <td>USD</td>\n",
       "      <td>UberBLACK</td>\n",
       "      <td>8.24</td>\n",
       "      <td>1080</td>\n",
       "      <td>42.314857</td>\n",
       "      <td>-71.056782</td>\n",
       "      <td>$41-51</td>\n",
       "      <td>51.0</td>\n",
       "      <td>UberBLACK</td>\n",
       "      <td>41.0</td>\n",
       "      <td>6c84fd89-3f11-4782-9b50-97c468b19529</td>\n",
       "      <td>42.342588</td>\n",
       "      <td>-71.122463</td>\n",
       "      <td>22:47:56</td>\n",
       "    </tr>\n",
       "  </tbody>\n",
       "</table>\n",
       "</div>"
      ],
      "text/plain": [
       "             Date-time currency_code display_name  distance  duration  \\\n",
       "0  2017-12-05 22:47:56           USD     uberPOOL      8.24      1080   \n",
       "1  2017-12-05 22:47:56           USD        uberX      8.24      1080   \n",
       "2  2017-12-05 22:47:56           USD      uberSUV      8.24      1080   \n",
       "3  2017-12-05 22:47:56           USD       uberXL      8.24      1080   \n",
       "4  2017-12-05 22:47:56           USD    UberBLACK      8.24      1080   \n",
       "\n",
       "   end_latitude  end_longitude estimate  high_estimate localized_display_name  \\\n",
       "0     42.314857     -71.056782    $8-11           12.0               uberPOOL   \n",
       "1     42.314857     -71.056782   $18-23           23.0                  uberX   \n",
       "2     42.314857     -71.056782   $50-63           63.0                uberSUV   \n",
       "3     42.314857     -71.056782   $28-35           35.0                 uberXL   \n",
       "4     42.314857     -71.056782   $41-51           51.0              UberBLACK   \n",
       "\n",
       "   low_estimate                            product_id  start_latitude  \\\n",
       "0           8.0  997acbb5-e102-41e1-b155-9df7de0a73f2       42.342588   \n",
       "1          18.0  55c66225-fbe7-4fd5-9072-eab1ece5e23e       42.342588   \n",
       "2          50.0  6d318bcc-22a3-4af6-bddd-b409bfce1546       42.342588   \n",
       "3          28.0  6f72dfc5-27f1-42e8-84db-ccc7a75f6969       42.342588   \n",
       "4          41.0  6c84fd89-3f11-4782-9b50-97c468b19529       42.342588   \n",
       "\n",
       "   start_longitude      time  \n",
       "0       -71.122463  22:47:56  \n",
       "1       -71.122463  22:47:56  \n",
       "2       -71.122463  22:47:56  \n",
       "3       -71.122463  22:47:56  \n",
       "4       -71.122463  22:47:56  "
      ]
     },
     "execution_count": 351,
     "metadata": {},
     "output_type": "execute_result"
    }
   ],
   "source": [
    "uber.head() # Loding dataset"
   ]
  },
  {
   "cell_type": "code",
   "execution_count": 352,
   "metadata": {
    "collapsed": true
   },
   "outputs": [],
   "source": [
    "import datetime # import to use the date time functiuons"
   ]
  },
  {
   "cell_type": "code",
   "execution_count": 353,
   "metadata": {},
   "outputs": [
    {
     "data": {
      "text/plain": [
       "Date-time                  object\n",
       "currency_code              object\n",
       "display_name               object\n",
       "distance                  float64\n",
       "duration                    int64\n",
       "end_latitude              float64\n",
       "end_longitude             float64\n",
       "estimate                   object\n",
       "high_estimate             float64\n",
       "localized_display_name     object\n",
       "low_estimate              float64\n",
       "product_id                 object\n",
       "start_latitude            float64\n",
       "start_longitude           float64\n",
       "time                       object\n",
       "dtype: object"
      ]
     },
     "execution_count": 353,
     "metadata": {},
     "output_type": "execute_result"
    }
   ],
   "source": [
    "uber.dtypes # checking type of each column"
   ]
  },
  {
   "cell_type": "code",
   "execution_count": 354,
   "metadata": {
    "collapsed": true
   },
   "outputs": [],
   "source": [
    "uber = uber.rename(columns = {'Date-time':'date_time'}) # Renaming Column"
   ]
  },
  {
   "cell_type": "code",
   "execution_count": 355,
   "metadata": {},
   "outputs": [
    {
     "data": {
      "text/html": [
       "<div>\n",
       "<style>\n",
       "    .dataframe thead tr:only-child th {\n",
       "        text-align: right;\n",
       "    }\n",
       "\n",
       "    .dataframe thead th {\n",
       "        text-align: left;\n",
       "    }\n",
       "\n",
       "    .dataframe tbody tr th {\n",
       "        vertical-align: top;\n",
       "    }\n",
       "</style>\n",
       "<table border=\"1\" class=\"dataframe\">\n",
       "  <thead>\n",
       "    <tr style=\"text-align: right;\">\n",
       "      <th></th>\n",
       "      <th>date_time</th>\n",
       "      <th>currency_code</th>\n",
       "      <th>display_name</th>\n",
       "      <th>distance</th>\n",
       "      <th>duration</th>\n",
       "      <th>end_latitude</th>\n",
       "      <th>end_longitude</th>\n",
       "      <th>estimate</th>\n",
       "      <th>high_estimate</th>\n",
       "      <th>localized_display_name</th>\n",
       "      <th>low_estimate</th>\n",
       "      <th>product_id</th>\n",
       "      <th>start_latitude</th>\n",
       "      <th>start_longitude</th>\n",
       "      <th>time</th>\n",
       "    </tr>\n",
       "  </thead>\n",
       "  <tbody>\n",
       "    <tr>\n",
       "      <th>0</th>\n",
       "      <td>2017-12-05 22:47:56</td>\n",
       "      <td>USD</td>\n",
       "      <td>uberPOOL</td>\n",
       "      <td>8.24</td>\n",
       "      <td>1080</td>\n",
       "      <td>42.314857</td>\n",
       "      <td>-71.056782</td>\n",
       "      <td>$8-11</td>\n",
       "      <td>12.0</td>\n",
       "      <td>uberPOOL</td>\n",
       "      <td>8.0</td>\n",
       "      <td>997acbb5-e102-41e1-b155-9df7de0a73f2</td>\n",
       "      <td>42.342588</td>\n",
       "      <td>-71.122463</td>\n",
       "      <td>22:47:56</td>\n",
       "    </tr>\n",
       "    <tr>\n",
       "      <th>1</th>\n",
       "      <td>2017-12-05 22:47:56</td>\n",
       "      <td>USD</td>\n",
       "      <td>uberX</td>\n",
       "      <td>8.24</td>\n",
       "      <td>1080</td>\n",
       "      <td>42.314857</td>\n",
       "      <td>-71.056782</td>\n",
       "      <td>$18-23</td>\n",
       "      <td>23.0</td>\n",
       "      <td>uberX</td>\n",
       "      <td>18.0</td>\n",
       "      <td>55c66225-fbe7-4fd5-9072-eab1ece5e23e</td>\n",
       "      <td>42.342588</td>\n",
       "      <td>-71.122463</td>\n",
       "      <td>22:47:56</td>\n",
       "    </tr>\n",
       "    <tr>\n",
       "      <th>2</th>\n",
       "      <td>2017-12-05 22:47:56</td>\n",
       "      <td>USD</td>\n",
       "      <td>uberSUV</td>\n",
       "      <td>8.24</td>\n",
       "      <td>1080</td>\n",
       "      <td>42.314857</td>\n",
       "      <td>-71.056782</td>\n",
       "      <td>$50-63</td>\n",
       "      <td>63.0</td>\n",
       "      <td>uberSUV</td>\n",
       "      <td>50.0</td>\n",
       "      <td>6d318bcc-22a3-4af6-bddd-b409bfce1546</td>\n",
       "      <td>42.342588</td>\n",
       "      <td>-71.122463</td>\n",
       "      <td>22:47:56</td>\n",
       "    </tr>\n",
       "    <tr>\n",
       "      <th>3</th>\n",
       "      <td>2017-12-05 22:47:56</td>\n",
       "      <td>USD</td>\n",
       "      <td>uberXL</td>\n",
       "      <td>8.24</td>\n",
       "      <td>1080</td>\n",
       "      <td>42.314857</td>\n",
       "      <td>-71.056782</td>\n",
       "      <td>$28-35</td>\n",
       "      <td>35.0</td>\n",
       "      <td>uberXL</td>\n",
       "      <td>28.0</td>\n",
       "      <td>6f72dfc5-27f1-42e8-84db-ccc7a75f6969</td>\n",
       "      <td>42.342588</td>\n",
       "      <td>-71.122463</td>\n",
       "      <td>22:47:56</td>\n",
       "    </tr>\n",
       "    <tr>\n",
       "      <th>4</th>\n",
       "      <td>2017-12-05 22:47:56</td>\n",
       "      <td>USD</td>\n",
       "      <td>UberBLACK</td>\n",
       "      <td>8.24</td>\n",
       "      <td>1080</td>\n",
       "      <td>42.314857</td>\n",
       "      <td>-71.056782</td>\n",
       "      <td>$41-51</td>\n",
       "      <td>51.0</td>\n",
       "      <td>UberBLACK</td>\n",
       "      <td>41.0</td>\n",
       "      <td>6c84fd89-3f11-4782-9b50-97c468b19529</td>\n",
       "      <td>42.342588</td>\n",
       "      <td>-71.122463</td>\n",
       "      <td>22:47:56</td>\n",
       "    </tr>\n",
       "  </tbody>\n",
       "</table>\n",
       "</div>"
      ],
      "text/plain": [
       "             date_time currency_code display_name  distance  duration  \\\n",
       "0  2017-12-05 22:47:56           USD     uberPOOL      8.24      1080   \n",
       "1  2017-12-05 22:47:56           USD        uberX      8.24      1080   \n",
       "2  2017-12-05 22:47:56           USD      uberSUV      8.24      1080   \n",
       "3  2017-12-05 22:47:56           USD       uberXL      8.24      1080   \n",
       "4  2017-12-05 22:47:56           USD    UberBLACK      8.24      1080   \n",
       "\n",
       "   end_latitude  end_longitude estimate  high_estimate localized_display_name  \\\n",
       "0     42.314857     -71.056782    $8-11           12.0               uberPOOL   \n",
       "1     42.314857     -71.056782   $18-23           23.0                  uberX   \n",
       "2     42.314857     -71.056782   $50-63           63.0                uberSUV   \n",
       "3     42.314857     -71.056782   $28-35           35.0                 uberXL   \n",
       "4     42.314857     -71.056782   $41-51           51.0              UberBLACK   \n",
       "\n",
       "   low_estimate                            product_id  start_latitude  \\\n",
       "0           8.0  997acbb5-e102-41e1-b155-9df7de0a73f2       42.342588   \n",
       "1          18.0  55c66225-fbe7-4fd5-9072-eab1ece5e23e       42.342588   \n",
       "2          50.0  6d318bcc-22a3-4af6-bddd-b409bfce1546       42.342588   \n",
       "3          28.0  6f72dfc5-27f1-42e8-84db-ccc7a75f6969       42.342588   \n",
       "4          41.0  6c84fd89-3f11-4782-9b50-97c468b19529       42.342588   \n",
       "\n",
       "   start_longitude      time  \n",
       "0       -71.122463  22:47:56  \n",
       "1       -71.122463  22:47:56  \n",
       "2       -71.122463  22:47:56  \n",
       "3       -71.122463  22:47:56  \n",
       "4       -71.122463  22:47:56  "
      ]
     },
     "execution_count": 355,
     "metadata": {},
     "output_type": "execute_result"
    }
   ],
   "source": [
    "uber.head() # Viewing the table"
   ]
  },
  {
   "cell_type": "code",
   "execution_count": 356,
   "metadata": {},
   "outputs": [
    {
     "data": {
      "text/html": [
       "<div>\n",
       "<style>\n",
       "    .dataframe thead tr:only-child th {\n",
       "        text-align: right;\n",
       "    }\n",
       "\n",
       "    .dataframe thead th {\n",
       "        text-align: left;\n",
       "    }\n",
       "\n",
       "    .dataframe tbody tr th {\n",
       "        vertical-align: top;\n",
       "    }\n",
       "</style>\n",
       "<table border=\"1\" class=\"dataframe\">\n",
       "  <thead>\n",
       "    <tr style=\"text-align: right;\">\n",
       "      <th></th>\n",
       "      <th>Date</th>\n",
       "      <th>Time</th>\n",
       "    </tr>\n",
       "  </thead>\n",
       "  <tbody>\n",
       "    <tr>\n",
       "      <th>0</th>\n",
       "      <td>2017-12-05</td>\n",
       "      <td>22:47:56</td>\n",
       "    </tr>\n",
       "    <tr>\n",
       "      <th>1</th>\n",
       "      <td>2017-12-05</td>\n",
       "      <td>22:47:56</td>\n",
       "    </tr>\n",
       "    <tr>\n",
       "      <th>2</th>\n",
       "      <td>2017-12-05</td>\n",
       "      <td>22:47:56</td>\n",
       "    </tr>\n",
       "    <tr>\n",
       "      <th>3</th>\n",
       "      <td>2017-12-05</td>\n",
       "      <td>22:47:56</td>\n",
       "    </tr>\n",
       "    <tr>\n",
       "      <th>4</th>\n",
       "      <td>2017-12-05</td>\n",
       "      <td>22:47:56</td>\n",
       "    </tr>\n",
       "  </tbody>\n",
       "</table>\n",
       "</div>"
      ],
      "text/plain": [
       "         Date      Time\n",
       "0  2017-12-05  22:47:56\n",
       "1  2017-12-05  22:47:56\n",
       "2  2017-12-05  22:47:56\n",
       "3  2017-12-05  22:47:56\n",
       "4  2017-12-05  22:47:56"
      ]
     },
     "execution_count": 356,
     "metadata": {},
     "output_type": "execute_result"
    }
   ],
   "source": [
    "df = pd.DataFrame(uber.date_time.str.split(' ',1).tolist(),\n",
    "                                   columns = ['Date','Time'])\n",
    "df.head() #to check the range of date in the file"
   ]
  },
  {
   "cell_type": "code",
   "execution_count": 357,
   "metadata": {
    "scrolled": true
   },
   "outputs": [
    {
     "name": "stdout",
     "output_type": "stream",
     "text": [
      "2017-12-05\n",
      "2017-12-13\n"
     ]
    }
   ],
   "source": [
    "print(min(df.Date)) # Display of date range\n",
    "print(max(df.Date))"
   ]
  },
  {
   "cell_type": "code",
   "execution_count": 358,
   "metadata": {},
   "outputs": [
    {
     "data": {
      "text/html": [
       "<div>\n",
       "<style>\n",
       "    .dataframe thead tr:only-child th {\n",
       "        text-align: right;\n",
       "    }\n",
       "\n",
       "    .dataframe thead th {\n",
       "        text-align: left;\n",
       "    }\n",
       "\n",
       "    .dataframe tbody tr th {\n",
       "        vertical-align: top;\n",
       "    }\n",
       "</style>\n",
       "<table border=\"1\" class=\"dataframe\">\n",
       "  <thead>\n",
       "    <tr style=\"text-align: right;\">\n",
       "      <th></th>\n",
       "      <th>Date</th>\n",
       "      <th>Time</th>\n",
       "    </tr>\n",
       "  </thead>\n",
       "  <tbody>\n",
       "    <tr>\n",
       "      <th>0</th>\n",
       "      <td>2017-12-05</td>\n",
       "      <td>22:47:56</td>\n",
       "    </tr>\n",
       "    <tr>\n",
       "      <th>1</th>\n",
       "      <td>2017-12-05</td>\n",
       "      <td>22:47:56</td>\n",
       "    </tr>\n",
       "    <tr>\n",
       "      <th>2</th>\n",
       "      <td>2017-12-05</td>\n",
       "      <td>22:47:56</td>\n",
       "    </tr>\n",
       "    <tr>\n",
       "      <th>3</th>\n",
       "      <td>2017-12-05</td>\n",
       "      <td>22:47:56</td>\n",
       "    </tr>\n",
       "    <tr>\n",
       "      <th>4</th>\n",
       "      <td>2017-12-05</td>\n",
       "      <td>22:47:56</td>\n",
       "    </tr>\n",
       "  </tbody>\n",
       "</table>\n",
       "</div>"
      ],
      "text/plain": [
       "         Date      Time\n",
       "0  2017-12-05  22:47:56\n",
       "1  2017-12-05  22:47:56\n",
       "2  2017-12-05  22:47:56\n",
       "3  2017-12-05  22:47:56\n",
       "4  2017-12-05  22:47:56"
      ]
     },
     "execution_count": 358,
     "metadata": {},
     "output_type": "execute_result"
    }
   ],
   "source": [
    "df.head() # Display of dataframe"
   ]
  },
  {
   "cell_type": "code",
   "execution_count": 359,
   "metadata": {},
   "outputs": [
    {
     "data": {
      "text/html": [
       "<div>\n",
       "<style>\n",
       "    .dataframe thead tr:only-child th {\n",
       "        text-align: right;\n",
       "    }\n",
       "\n",
       "    .dataframe thead th {\n",
       "        text-align: left;\n",
       "    }\n",
       "\n",
       "    .dataframe tbody tr th {\n",
       "        vertical-align: top;\n",
       "    }\n",
       "</style>\n",
       "<table border=\"1\" class=\"dataframe\">\n",
       "  <thead>\n",
       "    <tr style=\"text-align: right;\">\n",
       "      <th></th>\n",
       "      <th>date_time</th>\n",
       "      <th>currency_code</th>\n",
       "      <th>display_name</th>\n",
       "      <th>distance</th>\n",
       "      <th>duration</th>\n",
       "      <th>end_latitude</th>\n",
       "      <th>end_longitude</th>\n",
       "      <th>estimate</th>\n",
       "      <th>high_estimate</th>\n",
       "      <th>localized_display_name</th>\n",
       "      <th>low_estimate</th>\n",
       "      <th>product_id</th>\n",
       "      <th>start_latitude</th>\n",
       "      <th>start_longitude</th>\n",
       "      <th>time</th>\n",
       "    </tr>\n",
       "  </thead>\n",
       "  <tbody>\n",
       "    <tr>\n",
       "      <th>0</th>\n",
       "      <td>2017-12-05 22:47:56</td>\n",
       "      <td>USD</td>\n",
       "      <td>uberPOOL</td>\n",
       "      <td>8.24</td>\n",
       "      <td>1080</td>\n",
       "      <td>42.314857</td>\n",
       "      <td>-71.056782</td>\n",
       "      <td>$8-11</td>\n",
       "      <td>12.0</td>\n",
       "      <td>uberPOOL</td>\n",
       "      <td>8.0</td>\n",
       "      <td>997acbb5-e102-41e1-b155-9df7de0a73f2</td>\n",
       "      <td>42.342588</td>\n",
       "      <td>-71.122463</td>\n",
       "      <td>22:47:56</td>\n",
       "    </tr>\n",
       "    <tr>\n",
       "      <th>1</th>\n",
       "      <td>2017-12-05 22:47:56</td>\n",
       "      <td>USD</td>\n",
       "      <td>uberX</td>\n",
       "      <td>8.24</td>\n",
       "      <td>1080</td>\n",
       "      <td>42.314857</td>\n",
       "      <td>-71.056782</td>\n",
       "      <td>$18-23</td>\n",
       "      <td>23.0</td>\n",
       "      <td>uberX</td>\n",
       "      <td>18.0</td>\n",
       "      <td>55c66225-fbe7-4fd5-9072-eab1ece5e23e</td>\n",
       "      <td>42.342588</td>\n",
       "      <td>-71.122463</td>\n",
       "      <td>22:47:56</td>\n",
       "    </tr>\n",
       "    <tr>\n",
       "      <th>2</th>\n",
       "      <td>2017-12-05 22:47:56</td>\n",
       "      <td>USD</td>\n",
       "      <td>uberSUV</td>\n",
       "      <td>8.24</td>\n",
       "      <td>1080</td>\n",
       "      <td>42.314857</td>\n",
       "      <td>-71.056782</td>\n",
       "      <td>$50-63</td>\n",
       "      <td>63.0</td>\n",
       "      <td>uberSUV</td>\n",
       "      <td>50.0</td>\n",
       "      <td>6d318bcc-22a3-4af6-bddd-b409bfce1546</td>\n",
       "      <td>42.342588</td>\n",
       "      <td>-71.122463</td>\n",
       "      <td>22:47:56</td>\n",
       "    </tr>\n",
       "    <tr>\n",
       "      <th>3</th>\n",
       "      <td>2017-12-05 22:47:56</td>\n",
       "      <td>USD</td>\n",
       "      <td>uberXL</td>\n",
       "      <td>8.24</td>\n",
       "      <td>1080</td>\n",
       "      <td>42.314857</td>\n",
       "      <td>-71.056782</td>\n",
       "      <td>$28-35</td>\n",
       "      <td>35.0</td>\n",
       "      <td>uberXL</td>\n",
       "      <td>28.0</td>\n",
       "      <td>6f72dfc5-27f1-42e8-84db-ccc7a75f6969</td>\n",
       "      <td>42.342588</td>\n",
       "      <td>-71.122463</td>\n",
       "      <td>22:47:56</td>\n",
       "    </tr>\n",
       "    <tr>\n",
       "      <th>4</th>\n",
       "      <td>2017-12-05 22:47:56</td>\n",
       "      <td>USD</td>\n",
       "      <td>UberBLACK</td>\n",
       "      <td>8.24</td>\n",
       "      <td>1080</td>\n",
       "      <td>42.314857</td>\n",
       "      <td>-71.056782</td>\n",
       "      <td>$41-51</td>\n",
       "      <td>51.0</td>\n",
       "      <td>UberBLACK</td>\n",
       "      <td>41.0</td>\n",
       "      <td>6c84fd89-3f11-4782-9b50-97c468b19529</td>\n",
       "      <td>42.342588</td>\n",
       "      <td>-71.122463</td>\n",
       "      <td>22:47:56</td>\n",
       "    </tr>\n",
       "  </tbody>\n",
       "</table>\n",
       "</div>"
      ],
      "text/plain": [
       "             date_time currency_code display_name  distance  duration  \\\n",
       "0  2017-12-05 22:47:56           USD     uberPOOL      8.24      1080   \n",
       "1  2017-12-05 22:47:56           USD        uberX      8.24      1080   \n",
       "2  2017-12-05 22:47:56           USD      uberSUV      8.24      1080   \n",
       "3  2017-12-05 22:47:56           USD       uberXL      8.24      1080   \n",
       "4  2017-12-05 22:47:56           USD    UberBLACK      8.24      1080   \n",
       "\n",
       "   end_latitude  end_longitude estimate  high_estimate localized_display_name  \\\n",
       "0     42.314857     -71.056782    $8-11           12.0               uberPOOL   \n",
       "1     42.314857     -71.056782   $18-23           23.0                  uberX   \n",
       "2     42.314857     -71.056782   $50-63           63.0                uberSUV   \n",
       "3     42.314857     -71.056782   $28-35           35.0                 uberXL   \n",
       "4     42.314857     -71.056782   $41-51           51.0              UberBLACK   \n",
       "\n",
       "   low_estimate                            product_id  start_latitude  \\\n",
       "0           8.0  997acbb5-e102-41e1-b155-9df7de0a73f2       42.342588   \n",
       "1          18.0  55c66225-fbe7-4fd5-9072-eab1ece5e23e       42.342588   \n",
       "2          50.0  6d318bcc-22a3-4af6-bddd-b409bfce1546       42.342588   \n",
       "3          28.0  6f72dfc5-27f1-42e8-84db-ccc7a75f6969       42.342588   \n",
       "4          41.0  6c84fd89-3f11-4782-9b50-97c468b19529       42.342588   \n",
       "\n",
       "   start_longitude      time  \n",
       "0       -71.122463  22:47:56  \n",
       "1       -71.122463  22:47:56  \n",
       "2       -71.122463  22:47:56  \n",
       "3       -71.122463  22:47:56  \n",
       "4       -71.122463  22:47:56  "
      ]
     },
     "execution_count": 359,
     "metadata": {},
     "output_type": "execute_result"
    }
   ],
   "source": [
    "uber.head()"
   ]
  },
  {
   "cell_type": "code",
   "execution_count": 360,
   "metadata": {
    "collapsed": true
   },
   "outputs": [],
   "source": [
    "uber['date_time'] = pd.to_datetime(uber['date_time']) #Converting to date time format"
   ]
  },
  {
   "cell_type": "code",
   "execution_count": 361,
   "metadata": {},
   "outputs": [
    {
     "data": {
      "text/html": [
       "<div>\n",
       "<style>\n",
       "    .dataframe thead tr:only-child th {\n",
       "        text-align: right;\n",
       "    }\n",
       "\n",
       "    .dataframe thead th {\n",
       "        text-align: left;\n",
       "    }\n",
       "\n",
       "    .dataframe tbody tr th {\n",
       "        vertical-align: top;\n",
       "    }\n",
       "</style>\n",
       "<table border=\"1\" class=\"dataframe\">\n",
       "  <thead>\n",
       "    <tr style=\"text-align: right;\">\n",
       "      <th></th>\n",
       "      <th>date_time</th>\n",
       "      <th>currency_code</th>\n",
       "      <th>display_name</th>\n",
       "      <th>distance</th>\n",
       "      <th>duration</th>\n",
       "      <th>end_latitude</th>\n",
       "      <th>end_longitude</th>\n",
       "      <th>estimate</th>\n",
       "      <th>high_estimate</th>\n",
       "      <th>localized_display_name</th>\n",
       "      <th>low_estimate</th>\n",
       "      <th>product_id</th>\n",
       "      <th>start_latitude</th>\n",
       "      <th>start_longitude</th>\n",
       "      <th>time</th>\n",
       "    </tr>\n",
       "  </thead>\n",
       "  <tbody>\n",
       "    <tr>\n",
       "      <th>0</th>\n",
       "      <td>2017-12-05 22:47:56</td>\n",
       "      <td>USD</td>\n",
       "      <td>uberPOOL</td>\n",
       "      <td>8.24</td>\n",
       "      <td>1080</td>\n",
       "      <td>42.314857</td>\n",
       "      <td>-71.056782</td>\n",
       "      <td>$8-11</td>\n",
       "      <td>12.0</td>\n",
       "      <td>uberPOOL</td>\n",
       "      <td>8.0</td>\n",
       "      <td>997acbb5-e102-41e1-b155-9df7de0a73f2</td>\n",
       "      <td>42.342588</td>\n",
       "      <td>-71.122463</td>\n",
       "      <td>22:47:56</td>\n",
       "    </tr>\n",
       "    <tr>\n",
       "      <th>1</th>\n",
       "      <td>2017-12-05 22:47:56</td>\n",
       "      <td>USD</td>\n",
       "      <td>uberX</td>\n",
       "      <td>8.24</td>\n",
       "      <td>1080</td>\n",
       "      <td>42.314857</td>\n",
       "      <td>-71.056782</td>\n",
       "      <td>$18-23</td>\n",
       "      <td>23.0</td>\n",
       "      <td>uberX</td>\n",
       "      <td>18.0</td>\n",
       "      <td>55c66225-fbe7-4fd5-9072-eab1ece5e23e</td>\n",
       "      <td>42.342588</td>\n",
       "      <td>-71.122463</td>\n",
       "      <td>22:47:56</td>\n",
       "    </tr>\n",
       "    <tr>\n",
       "      <th>2</th>\n",
       "      <td>2017-12-05 22:47:56</td>\n",
       "      <td>USD</td>\n",
       "      <td>uberSUV</td>\n",
       "      <td>8.24</td>\n",
       "      <td>1080</td>\n",
       "      <td>42.314857</td>\n",
       "      <td>-71.056782</td>\n",
       "      <td>$50-63</td>\n",
       "      <td>63.0</td>\n",
       "      <td>uberSUV</td>\n",
       "      <td>50.0</td>\n",
       "      <td>6d318bcc-22a3-4af6-bddd-b409bfce1546</td>\n",
       "      <td>42.342588</td>\n",
       "      <td>-71.122463</td>\n",
       "      <td>22:47:56</td>\n",
       "    </tr>\n",
       "    <tr>\n",
       "      <th>3</th>\n",
       "      <td>2017-12-05 22:47:56</td>\n",
       "      <td>USD</td>\n",
       "      <td>uberXL</td>\n",
       "      <td>8.24</td>\n",
       "      <td>1080</td>\n",
       "      <td>42.314857</td>\n",
       "      <td>-71.056782</td>\n",
       "      <td>$28-35</td>\n",
       "      <td>35.0</td>\n",
       "      <td>uberXL</td>\n",
       "      <td>28.0</td>\n",
       "      <td>6f72dfc5-27f1-42e8-84db-ccc7a75f6969</td>\n",
       "      <td>42.342588</td>\n",
       "      <td>-71.122463</td>\n",
       "      <td>22:47:56</td>\n",
       "    </tr>\n",
       "    <tr>\n",
       "      <th>4</th>\n",
       "      <td>2017-12-05 22:47:56</td>\n",
       "      <td>USD</td>\n",
       "      <td>UberBLACK</td>\n",
       "      <td>8.24</td>\n",
       "      <td>1080</td>\n",
       "      <td>42.314857</td>\n",
       "      <td>-71.056782</td>\n",
       "      <td>$41-51</td>\n",
       "      <td>51.0</td>\n",
       "      <td>UberBLACK</td>\n",
       "      <td>41.0</td>\n",
       "      <td>6c84fd89-3f11-4782-9b50-97c468b19529</td>\n",
       "      <td>42.342588</td>\n",
       "      <td>-71.122463</td>\n",
       "      <td>22:47:56</td>\n",
       "    </tr>\n",
       "  </tbody>\n",
       "</table>\n",
       "</div>"
      ],
      "text/plain": [
       "            date_time currency_code display_name  distance  duration  \\\n",
       "0 2017-12-05 22:47:56           USD     uberPOOL      8.24      1080   \n",
       "1 2017-12-05 22:47:56           USD        uberX      8.24      1080   \n",
       "2 2017-12-05 22:47:56           USD      uberSUV      8.24      1080   \n",
       "3 2017-12-05 22:47:56           USD       uberXL      8.24      1080   \n",
       "4 2017-12-05 22:47:56           USD    UberBLACK      8.24      1080   \n",
       "\n",
       "   end_latitude  end_longitude estimate  high_estimate localized_display_name  \\\n",
       "0     42.314857     -71.056782    $8-11           12.0               uberPOOL   \n",
       "1     42.314857     -71.056782   $18-23           23.0                  uberX   \n",
       "2     42.314857     -71.056782   $50-63           63.0                uberSUV   \n",
       "3     42.314857     -71.056782   $28-35           35.0                 uberXL   \n",
       "4     42.314857     -71.056782   $41-51           51.0              UberBLACK   \n",
       "\n",
       "   low_estimate                            product_id  start_latitude  \\\n",
       "0           8.0  997acbb5-e102-41e1-b155-9df7de0a73f2       42.342588   \n",
       "1          18.0  55c66225-fbe7-4fd5-9072-eab1ece5e23e       42.342588   \n",
       "2          50.0  6d318bcc-22a3-4af6-bddd-b409bfce1546       42.342588   \n",
       "3          28.0  6f72dfc5-27f1-42e8-84db-ccc7a75f6969       42.342588   \n",
       "4          41.0  6c84fd89-3f11-4782-9b50-97c468b19529       42.342588   \n",
       "\n",
       "   start_longitude      time  \n",
       "0       -71.122463  22:47:56  \n",
       "1       -71.122463  22:47:56  \n",
       "2       -71.122463  22:47:56  \n",
       "3       -71.122463  22:47:56  \n",
       "4       -71.122463  22:47:56  "
      ]
     },
     "execution_count": 361,
     "metadata": {},
     "output_type": "execute_result"
    }
   ],
   "source": [
    "uber.head()"
   ]
  },
  {
   "cell_type": "code",
   "execution_count": 362,
   "metadata": {
    "collapsed": true
   },
   "outputs": [],
   "source": [
    "def weather(x):\n",
    "    x = x.strftime('%Y-%m-%d')\n",
    "    if x in ['2017-12-05', '2017-12-06']:\n",
    "        return 'Rainy'\n",
    "    elif x in ['2017-12-09']:\n",
    "        return 'Snowy'\n",
    "    elif x in ['2017-12-07', '2017-12-10', '2017-12-13']:\n",
    "        return 'Sunny'\n",
    "    else:\n",
    "        return 'Cloudy'\n",
    "    \n",
    "# Function to define weather on the day of ride"
   ]
  },
  {
   "cell_type": "code",
   "execution_count": 363,
   "metadata": {},
   "outputs": [],
   "source": [
    " # Inserting new columns for date and Week day\n",
    "uber['date'] = uber['date_time'].dt.date\n",
    "uber['day_of_week'] = uber['date_time'].dt.weekday_name"
   ]
  },
  {
   "cell_type": "code",
   "execution_count": 364,
   "metadata": {
    "collapsed": true
   },
   "outputs": [],
   "source": [
    "uber['Weather'] = uber['date'].apply(weather) # inserting new column to predict the weather"
   ]
  },
  {
   "cell_type": "code",
   "execution_count": 365,
   "metadata": {},
   "outputs": [
    {
     "data": {
      "text/html": [
       "<div>\n",
       "<style>\n",
       "    .dataframe thead tr:only-child th {\n",
       "        text-align: right;\n",
       "    }\n",
       "\n",
       "    .dataframe thead th {\n",
       "        text-align: left;\n",
       "    }\n",
       "\n",
       "    .dataframe tbody tr th {\n",
       "        vertical-align: top;\n",
       "    }\n",
       "</style>\n",
       "<table border=\"1\" class=\"dataframe\">\n",
       "  <thead>\n",
       "    <tr style=\"text-align: right;\">\n",
       "      <th></th>\n",
       "      <th>date_time</th>\n",
       "      <th>currency_code</th>\n",
       "      <th>display_name</th>\n",
       "      <th>distance</th>\n",
       "      <th>duration</th>\n",
       "      <th>end_latitude</th>\n",
       "      <th>end_longitude</th>\n",
       "      <th>estimate</th>\n",
       "      <th>high_estimate</th>\n",
       "      <th>localized_display_name</th>\n",
       "      <th>low_estimate</th>\n",
       "      <th>product_id</th>\n",
       "      <th>start_latitude</th>\n",
       "      <th>start_longitude</th>\n",
       "      <th>time</th>\n",
       "      <th>date</th>\n",
       "      <th>day_of_week</th>\n",
       "      <th>Weather</th>\n",
       "    </tr>\n",
       "  </thead>\n",
       "  <tbody>\n",
       "    <tr>\n",
       "      <th>0</th>\n",
       "      <td>2017-12-05 22:47:56</td>\n",
       "      <td>USD</td>\n",
       "      <td>uberPOOL</td>\n",
       "      <td>8.24</td>\n",
       "      <td>1080</td>\n",
       "      <td>42.314857</td>\n",
       "      <td>-71.056782</td>\n",
       "      <td>$8-11</td>\n",
       "      <td>12.0</td>\n",
       "      <td>uberPOOL</td>\n",
       "      <td>8.0</td>\n",
       "      <td>997acbb5-e102-41e1-b155-9df7de0a73f2</td>\n",
       "      <td>42.342588</td>\n",
       "      <td>-71.122463</td>\n",
       "      <td>22:47:56</td>\n",
       "      <td>2017-12-05</td>\n",
       "      <td>Tuesday</td>\n",
       "      <td>Rainy</td>\n",
       "    </tr>\n",
       "    <tr>\n",
       "      <th>1</th>\n",
       "      <td>2017-12-05 22:47:56</td>\n",
       "      <td>USD</td>\n",
       "      <td>uberX</td>\n",
       "      <td>8.24</td>\n",
       "      <td>1080</td>\n",
       "      <td>42.314857</td>\n",
       "      <td>-71.056782</td>\n",
       "      <td>$18-23</td>\n",
       "      <td>23.0</td>\n",
       "      <td>uberX</td>\n",
       "      <td>18.0</td>\n",
       "      <td>55c66225-fbe7-4fd5-9072-eab1ece5e23e</td>\n",
       "      <td>42.342588</td>\n",
       "      <td>-71.122463</td>\n",
       "      <td>22:47:56</td>\n",
       "      <td>2017-12-05</td>\n",
       "      <td>Tuesday</td>\n",
       "      <td>Rainy</td>\n",
       "    </tr>\n",
       "    <tr>\n",
       "      <th>2</th>\n",
       "      <td>2017-12-05 22:47:56</td>\n",
       "      <td>USD</td>\n",
       "      <td>uberSUV</td>\n",
       "      <td>8.24</td>\n",
       "      <td>1080</td>\n",
       "      <td>42.314857</td>\n",
       "      <td>-71.056782</td>\n",
       "      <td>$50-63</td>\n",
       "      <td>63.0</td>\n",
       "      <td>uberSUV</td>\n",
       "      <td>50.0</td>\n",
       "      <td>6d318bcc-22a3-4af6-bddd-b409bfce1546</td>\n",
       "      <td>42.342588</td>\n",
       "      <td>-71.122463</td>\n",
       "      <td>22:47:56</td>\n",
       "      <td>2017-12-05</td>\n",
       "      <td>Tuesday</td>\n",
       "      <td>Rainy</td>\n",
       "    </tr>\n",
       "    <tr>\n",
       "      <th>3</th>\n",
       "      <td>2017-12-05 22:47:56</td>\n",
       "      <td>USD</td>\n",
       "      <td>uberXL</td>\n",
       "      <td>8.24</td>\n",
       "      <td>1080</td>\n",
       "      <td>42.314857</td>\n",
       "      <td>-71.056782</td>\n",
       "      <td>$28-35</td>\n",
       "      <td>35.0</td>\n",
       "      <td>uberXL</td>\n",
       "      <td>28.0</td>\n",
       "      <td>6f72dfc5-27f1-42e8-84db-ccc7a75f6969</td>\n",
       "      <td>42.342588</td>\n",
       "      <td>-71.122463</td>\n",
       "      <td>22:47:56</td>\n",
       "      <td>2017-12-05</td>\n",
       "      <td>Tuesday</td>\n",
       "      <td>Rainy</td>\n",
       "    </tr>\n",
       "    <tr>\n",
       "      <th>4</th>\n",
       "      <td>2017-12-05 22:47:56</td>\n",
       "      <td>USD</td>\n",
       "      <td>UberBLACK</td>\n",
       "      <td>8.24</td>\n",
       "      <td>1080</td>\n",
       "      <td>42.314857</td>\n",
       "      <td>-71.056782</td>\n",
       "      <td>$41-51</td>\n",
       "      <td>51.0</td>\n",
       "      <td>UberBLACK</td>\n",
       "      <td>41.0</td>\n",
       "      <td>6c84fd89-3f11-4782-9b50-97c468b19529</td>\n",
       "      <td>42.342588</td>\n",
       "      <td>-71.122463</td>\n",
       "      <td>22:47:56</td>\n",
       "      <td>2017-12-05</td>\n",
       "      <td>Tuesday</td>\n",
       "      <td>Rainy</td>\n",
       "    </tr>\n",
       "  </tbody>\n",
       "</table>\n",
       "</div>"
      ],
      "text/plain": [
       "            date_time currency_code display_name  distance  duration  \\\n",
       "0 2017-12-05 22:47:56           USD     uberPOOL      8.24      1080   \n",
       "1 2017-12-05 22:47:56           USD        uberX      8.24      1080   \n",
       "2 2017-12-05 22:47:56           USD      uberSUV      8.24      1080   \n",
       "3 2017-12-05 22:47:56           USD       uberXL      8.24      1080   \n",
       "4 2017-12-05 22:47:56           USD    UberBLACK      8.24      1080   \n",
       "\n",
       "   end_latitude  end_longitude estimate  high_estimate localized_display_name  \\\n",
       "0     42.314857     -71.056782    $8-11           12.0               uberPOOL   \n",
       "1     42.314857     -71.056782   $18-23           23.0                  uberX   \n",
       "2     42.314857     -71.056782   $50-63           63.0                uberSUV   \n",
       "3     42.314857     -71.056782   $28-35           35.0                 uberXL   \n",
       "4     42.314857     -71.056782   $41-51           51.0              UberBLACK   \n",
       "\n",
       "   low_estimate                            product_id  start_latitude  \\\n",
       "0           8.0  997acbb5-e102-41e1-b155-9df7de0a73f2       42.342588   \n",
       "1          18.0  55c66225-fbe7-4fd5-9072-eab1ece5e23e       42.342588   \n",
       "2          50.0  6d318bcc-22a3-4af6-bddd-b409bfce1546       42.342588   \n",
       "3          28.0  6f72dfc5-27f1-42e8-84db-ccc7a75f6969       42.342588   \n",
       "4          41.0  6c84fd89-3f11-4782-9b50-97c468b19529       42.342588   \n",
       "\n",
       "   start_longitude      time        date day_of_week Weather  \n",
       "0       -71.122463  22:47:56  2017-12-05     Tuesday   Rainy  \n",
       "1       -71.122463  22:47:56  2017-12-05     Tuesday   Rainy  \n",
       "2       -71.122463  22:47:56  2017-12-05     Tuesday   Rainy  \n",
       "3       -71.122463  22:47:56  2017-12-05     Tuesday   Rainy  \n",
       "4       -71.122463  22:47:56  2017-12-05     Tuesday   Rainy  "
      ]
     },
     "execution_count": 365,
     "metadata": {},
     "output_type": "execute_result"
    }
   ],
   "source": [
    "\n",
    "uber.head()"
   ]
  },
  {
   "cell_type": "code",
   "execution_count": 366,
   "metadata": {},
   "outputs": [
    {
     "data": {
      "text/plain": [
       "date_time                 datetime64[ns]\n",
       "currency_code                     object\n",
       "display_name                      object\n",
       "distance                         float64\n",
       "duration                           int64\n",
       "end_latitude                     float64\n",
       "end_longitude                    float64\n",
       "estimate                          object\n",
       "high_estimate                    float64\n",
       "localized_display_name            object\n",
       "low_estimate                     float64\n",
       "product_id                        object\n",
       "start_latitude                   float64\n",
       "start_longitude                  float64\n",
       "time                              object\n",
       "date                              object\n",
       "day_of_week                       object\n",
       "Weather                           object\n",
       "dtype: object"
      ]
     },
     "execution_count": 366,
     "metadata": {},
     "output_type": "execute_result"
    }
   ],
   "source": [
    "uber.dtypes # to determin type of column in table"
   ]
  },
  {
   "cell_type": "code",
   "execution_count": 367,
   "metadata": {},
   "outputs": [
    {
     "data": {
      "text/html": [
       "<div>\n",
       "<style>\n",
       "    .dataframe thead tr:only-child th {\n",
       "        text-align: right;\n",
       "    }\n",
       "\n",
       "    .dataframe thead th {\n",
       "        text-align: left;\n",
       "    }\n",
       "\n",
       "    .dataframe tbody tr th {\n",
       "        vertical-align: top;\n",
       "    }\n",
       "</style>\n",
       "<table border=\"1\" class=\"dataframe\">\n",
       "  <thead>\n",
       "    <tr style=\"text-align: right;\">\n",
       "      <th></th>\n",
       "      <th>date_time</th>\n",
       "      <th>currency_code</th>\n",
       "      <th>display_name</th>\n",
       "      <th>distance</th>\n",
       "      <th>duration</th>\n",
       "      <th>end_latitude</th>\n",
       "      <th>end_longitude</th>\n",
       "      <th>estimate</th>\n",
       "      <th>high_estimate</th>\n",
       "      <th>localized_display_name</th>\n",
       "      <th>low_estimate</th>\n",
       "      <th>product_id</th>\n",
       "      <th>start_latitude</th>\n",
       "      <th>start_longitude</th>\n",
       "      <th>time</th>\n",
       "      <th>date</th>\n",
       "      <th>day_of_week</th>\n",
       "      <th>Weather</th>\n",
       "    </tr>\n",
       "  </thead>\n",
       "  <tbody>\n",
       "    <tr>\n",
       "      <th>0</th>\n",
       "      <td>2017-12-05 22:47:56</td>\n",
       "      <td>USD</td>\n",
       "      <td>uberPOOL</td>\n",
       "      <td>8.24</td>\n",
       "      <td>1080</td>\n",
       "      <td>42.314857</td>\n",
       "      <td>-71.056782</td>\n",
       "      <td>$8-11</td>\n",
       "      <td>12.0</td>\n",
       "      <td>uberPOOL</td>\n",
       "      <td>8.0</td>\n",
       "      <td>997acbb5-e102-41e1-b155-9df7de0a73f2</td>\n",
       "      <td>42.342588</td>\n",
       "      <td>-71.122463</td>\n",
       "      <td>22:47:56</td>\n",
       "      <td>2017-12-05</td>\n",
       "      <td>Tuesday</td>\n",
       "      <td>Rainy</td>\n",
       "    </tr>\n",
       "    <tr>\n",
       "      <th>7</th>\n",
       "      <td>2017-12-05 22:47:56</td>\n",
       "      <td>USD</td>\n",
       "      <td>uberPOOL</td>\n",
       "      <td>8.24</td>\n",
       "      <td>1080</td>\n",
       "      <td>42.314857</td>\n",
       "      <td>-71.056782</td>\n",
       "      <td>$8-11</td>\n",
       "      <td>12.0</td>\n",
       "      <td>uberPOOL</td>\n",
       "      <td>8.0</td>\n",
       "      <td>997acbb5-e102-41e1-b155-9df7de0a73f2</td>\n",
       "      <td>42.342588</td>\n",
       "      <td>-71.122463</td>\n",
       "      <td>22:47:56</td>\n",
       "      <td>2017-12-05</td>\n",
       "      <td>Tuesday</td>\n",
       "      <td>Rainy</td>\n",
       "    </tr>\n",
       "    <tr>\n",
       "      <th>14</th>\n",
       "      <td>2017-12-05 22:48:51</td>\n",
       "      <td>USD</td>\n",
       "      <td>uberPOOL</td>\n",
       "      <td>6.18</td>\n",
       "      <td>1140</td>\n",
       "      <td>42.272678</td>\n",
       "      <td>-71.093765</td>\n",
       "      <td>$6-9</td>\n",
       "      <td>10.0</td>\n",
       "      <td>uberPOOL</td>\n",
       "      <td>6.0</td>\n",
       "      <td>997acbb5-e102-41e1-b155-9df7de0a73f2</td>\n",
       "      <td>42.342588</td>\n",
       "      <td>-71.122463</td>\n",
       "      <td>22:48:51</td>\n",
       "      <td>2017-12-05</td>\n",
       "      <td>Tuesday</td>\n",
       "      <td>Rainy</td>\n",
       "    </tr>\n",
       "    <tr>\n",
       "      <th>21</th>\n",
       "      <td>2017-12-05 22:48:51</td>\n",
       "      <td>USD</td>\n",
       "      <td>uberPOOL</td>\n",
       "      <td>6.18</td>\n",
       "      <td>1140</td>\n",
       "      <td>42.272678</td>\n",
       "      <td>-71.093765</td>\n",
       "      <td>$6-9</td>\n",
       "      <td>10.0</td>\n",
       "      <td>uberPOOL</td>\n",
       "      <td>6.0</td>\n",
       "      <td>997acbb5-e102-41e1-b155-9df7de0a73f2</td>\n",
       "      <td>42.342588</td>\n",
       "      <td>-71.122463</td>\n",
       "      <td>22:48:51</td>\n",
       "      <td>2017-12-05</td>\n",
       "      <td>Tuesday</td>\n",
       "      <td>Rainy</td>\n",
       "    </tr>\n",
       "    <tr>\n",
       "      <th>28</th>\n",
       "      <td>2017-12-05 22:51:50</td>\n",
       "      <td>USD</td>\n",
       "      <td>uberPOOL</td>\n",
       "      <td>8.53</td>\n",
       "      <td>1320</td>\n",
       "      <td>42.247948</td>\n",
       "      <td>-71.173050</td>\n",
       "      <td>$10-14</td>\n",
       "      <td>15.0</td>\n",
       "      <td>uberPOOL</td>\n",
       "      <td>10.0</td>\n",
       "      <td>997acbb5-e102-41e1-b155-9df7de0a73f2</td>\n",
       "      <td>42.342588</td>\n",
       "      <td>-71.122463</td>\n",
       "      <td>22:51:50</td>\n",
       "      <td>2017-12-05</td>\n",
       "      <td>Tuesday</td>\n",
       "      <td>Rainy</td>\n",
       "    </tr>\n",
       "  </tbody>\n",
       "</table>\n",
       "</div>"
      ],
      "text/plain": [
       "             date_time currency_code display_name  distance  duration  \\\n",
       "0  2017-12-05 22:47:56           USD     uberPOOL      8.24      1080   \n",
       "7  2017-12-05 22:47:56           USD     uberPOOL      8.24      1080   \n",
       "14 2017-12-05 22:48:51           USD     uberPOOL      6.18      1140   \n",
       "21 2017-12-05 22:48:51           USD     uberPOOL      6.18      1140   \n",
       "28 2017-12-05 22:51:50           USD     uberPOOL      8.53      1320   \n",
       "\n",
       "    end_latitude  end_longitude estimate  high_estimate  \\\n",
       "0      42.314857     -71.056782    $8-11           12.0   \n",
       "7      42.314857     -71.056782    $8-11           12.0   \n",
       "14     42.272678     -71.093765     $6-9           10.0   \n",
       "21     42.272678     -71.093765     $6-9           10.0   \n",
       "28     42.247948     -71.173050   $10-14           15.0   \n",
       "\n",
       "   localized_display_name  low_estimate                            product_id  \\\n",
       "0                uberPOOL           8.0  997acbb5-e102-41e1-b155-9df7de0a73f2   \n",
       "7                uberPOOL           8.0  997acbb5-e102-41e1-b155-9df7de0a73f2   \n",
       "14               uberPOOL           6.0  997acbb5-e102-41e1-b155-9df7de0a73f2   \n",
       "21               uberPOOL           6.0  997acbb5-e102-41e1-b155-9df7de0a73f2   \n",
       "28               uberPOOL          10.0  997acbb5-e102-41e1-b155-9df7de0a73f2   \n",
       "\n",
       "    start_latitude  start_longitude      time        date day_of_week Weather  \n",
       "0        42.342588       -71.122463  22:47:56  2017-12-05     Tuesday   Rainy  \n",
       "7        42.342588       -71.122463  22:47:56  2017-12-05     Tuesday   Rainy  \n",
       "14       42.342588       -71.122463  22:48:51  2017-12-05     Tuesday   Rainy  \n",
       "21       42.342588       -71.122463  22:48:51  2017-12-05     Tuesday   Rainy  \n",
       "28       42.342588       -71.122463  22:51:50  2017-12-05     Tuesday   Rainy  "
      ]
     },
     "execution_count": 367,
     "metadata": {},
     "output_type": "execute_result"
    }
   ],
   "source": [
    "#here we will separate the 6 different types of uber services into their own dataframes\n",
    "uberPOOL = uber[uber.display_name == 'uberPOOL'] # Filtering by uber ride type\n",
    "uberPOOL.head()"
   ]
  },
  {
   "cell_type": "code",
   "execution_count": 368,
   "metadata": {},
   "outputs": [
    {
     "data": {
      "text/html": [
       "<div>\n",
       "<style>\n",
       "    .dataframe thead tr:only-child th {\n",
       "        text-align: right;\n",
       "    }\n",
       "\n",
       "    .dataframe thead th {\n",
       "        text-align: left;\n",
       "    }\n",
       "\n",
       "    .dataframe tbody tr th {\n",
       "        vertical-align: top;\n",
       "    }\n",
       "</style>\n",
       "<table border=\"1\" class=\"dataframe\">\n",
       "  <thead>\n",
       "    <tr style=\"text-align: right;\">\n",
       "      <th></th>\n",
       "      <th>date_time</th>\n",
       "      <th>currency_code</th>\n",
       "      <th>display_name</th>\n",
       "      <th>distance</th>\n",
       "      <th>duration</th>\n",
       "      <th>end_latitude</th>\n",
       "      <th>end_longitude</th>\n",
       "      <th>estimate</th>\n",
       "      <th>high_estimate</th>\n",
       "      <th>localized_display_name</th>\n",
       "      <th>low_estimate</th>\n",
       "      <th>product_id</th>\n",
       "      <th>start_latitude</th>\n",
       "      <th>start_longitude</th>\n",
       "      <th>time</th>\n",
       "      <th>date</th>\n",
       "      <th>day_of_week</th>\n",
       "      <th>Weather</th>\n",
       "    </tr>\n",
       "  </thead>\n",
       "  <tbody>\n",
       "    <tr>\n",
       "      <th>0</th>\n",
       "      <td>2017-12-05 22:47:56</td>\n",
       "      <td>USD</td>\n",
       "      <td>uberPOOL</td>\n",
       "      <td>8.24</td>\n",
       "      <td>1080</td>\n",
       "      <td>42.314857</td>\n",
       "      <td>-71.056782</td>\n",
       "      <td>$8-11</td>\n",
       "      <td>12.0</td>\n",
       "      <td>uberPOOL</td>\n",
       "      <td>8.0</td>\n",
       "      <td>997acbb5-e102-41e1-b155-9df7de0a73f2</td>\n",
       "      <td>42.342588</td>\n",
       "      <td>-71.122463</td>\n",
       "      <td>22:47:56</td>\n",
       "      <td>2017-12-05</td>\n",
       "      <td>Tuesday</td>\n",
       "      <td>Rainy</td>\n",
       "    </tr>\n",
       "    <tr>\n",
       "      <th>14</th>\n",
       "      <td>2017-12-05 22:48:51</td>\n",
       "      <td>USD</td>\n",
       "      <td>uberPOOL</td>\n",
       "      <td>6.18</td>\n",
       "      <td>1140</td>\n",
       "      <td>42.272678</td>\n",
       "      <td>-71.093765</td>\n",
       "      <td>$6-9</td>\n",
       "      <td>10.0</td>\n",
       "      <td>uberPOOL</td>\n",
       "      <td>6.0</td>\n",
       "      <td>997acbb5-e102-41e1-b155-9df7de0a73f2</td>\n",
       "      <td>42.342588</td>\n",
       "      <td>-71.122463</td>\n",
       "      <td>22:48:51</td>\n",
       "      <td>2017-12-05</td>\n",
       "      <td>Tuesday</td>\n",
       "      <td>Rainy</td>\n",
       "    </tr>\n",
       "    <tr>\n",
       "      <th>28</th>\n",
       "      <td>2017-12-05 22:51:50</td>\n",
       "      <td>USD</td>\n",
       "      <td>uberPOOL</td>\n",
       "      <td>8.53</td>\n",
       "      <td>1320</td>\n",
       "      <td>42.247948</td>\n",
       "      <td>-71.173050</td>\n",
       "      <td>$10-14</td>\n",
       "      <td>15.0</td>\n",
       "      <td>uberPOOL</td>\n",
       "      <td>10.0</td>\n",
       "      <td>997acbb5-e102-41e1-b155-9df7de0a73f2</td>\n",
       "      <td>42.342588</td>\n",
       "      <td>-71.122463</td>\n",
       "      <td>22:51:50</td>\n",
       "      <td>2017-12-05</td>\n",
       "      <td>Tuesday</td>\n",
       "      <td>Rainy</td>\n",
       "    </tr>\n",
       "    <tr>\n",
       "      <th>42</th>\n",
       "      <td>2017-12-05 22:54:57</td>\n",
       "      <td>USD</td>\n",
       "      <td>uberPOOL</td>\n",
       "      <td>3.24</td>\n",
       "      <td>840</td>\n",
       "      <td>42.338443</td>\n",
       "      <td>-71.074548</td>\n",
       "      <td>$5-7</td>\n",
       "      <td>8.0</td>\n",
       "      <td>uberPOOL</td>\n",
       "      <td>5.0</td>\n",
       "      <td>997acbb5-e102-41e1-b155-9df7de0a73f2</td>\n",
       "      <td>42.342588</td>\n",
       "      <td>-71.122463</td>\n",
       "      <td>22:54:57</td>\n",
       "      <td>2017-12-05</td>\n",
       "      <td>Tuesday</td>\n",
       "      <td>Rainy</td>\n",
       "    </tr>\n",
       "    <tr>\n",
       "      <th>56</th>\n",
       "      <td>2017-12-05 22:57:49</td>\n",
       "      <td>USD</td>\n",
       "      <td>uberPOOL</td>\n",
       "      <td>4.14</td>\n",
       "      <td>720</td>\n",
       "      <td>42.360958</td>\n",
       "      <td>-71.065895</td>\n",
       "      <td>$7-10</td>\n",
       "      <td>11.0</td>\n",
       "      <td>uberPOOL</td>\n",
       "      <td>7.0</td>\n",
       "      <td>997acbb5-e102-41e1-b155-9df7de0a73f2</td>\n",
       "      <td>42.342588</td>\n",
       "      <td>-71.122463</td>\n",
       "      <td>22:57:49</td>\n",
       "      <td>2017-12-05</td>\n",
       "      <td>Tuesday</td>\n",
       "      <td>Rainy</td>\n",
       "    </tr>\n",
       "  </tbody>\n",
       "</table>\n",
       "</div>"
      ],
      "text/plain": [
       "             date_time currency_code display_name  distance  duration  \\\n",
       "0  2017-12-05 22:47:56           USD     uberPOOL      8.24      1080   \n",
       "14 2017-12-05 22:48:51           USD     uberPOOL      6.18      1140   \n",
       "28 2017-12-05 22:51:50           USD     uberPOOL      8.53      1320   \n",
       "42 2017-12-05 22:54:57           USD     uberPOOL      3.24       840   \n",
       "56 2017-12-05 22:57:49           USD     uberPOOL      4.14       720   \n",
       "\n",
       "    end_latitude  end_longitude estimate  high_estimate  \\\n",
       "0      42.314857     -71.056782    $8-11           12.0   \n",
       "14     42.272678     -71.093765     $6-9           10.0   \n",
       "28     42.247948     -71.173050   $10-14           15.0   \n",
       "42     42.338443     -71.074548     $5-7            8.0   \n",
       "56     42.360958     -71.065895    $7-10           11.0   \n",
       "\n",
       "   localized_display_name  low_estimate                            product_id  \\\n",
       "0                uberPOOL           8.0  997acbb5-e102-41e1-b155-9df7de0a73f2   \n",
       "14               uberPOOL           6.0  997acbb5-e102-41e1-b155-9df7de0a73f2   \n",
       "28               uberPOOL          10.0  997acbb5-e102-41e1-b155-9df7de0a73f2   \n",
       "42               uberPOOL           5.0  997acbb5-e102-41e1-b155-9df7de0a73f2   \n",
       "56               uberPOOL           7.0  997acbb5-e102-41e1-b155-9df7de0a73f2   \n",
       "\n",
       "    start_latitude  start_longitude      time        date day_of_week Weather  \n",
       "0        42.342588       -71.122463  22:47:56  2017-12-05     Tuesday   Rainy  \n",
       "14       42.342588       -71.122463  22:48:51  2017-12-05     Tuesday   Rainy  \n",
       "28       42.342588       -71.122463  22:51:50  2017-12-05     Tuesday   Rainy  \n",
       "42       42.342588       -71.122463  22:54:57  2017-12-05     Tuesday   Rainy  \n",
       "56       42.342588       -71.122463  22:57:49  2017-12-05     Tuesday   Rainy  "
      ]
     },
     "execution_count": 368,
     "metadata": {},
     "output_type": "execute_result"
    }
   ],
   "source": [
    "#remove duplicated datetimeindex\n",
    "uberPOOL = uberPOOL[~uberPOOL.date_time.duplicated(keep = 'first')] \n",
    "uberPOOL.head()"
   ]
  },
  {
   "cell_type": "code",
   "execution_count": 369,
   "metadata": {},
   "outputs": [
    {
     "data": {
      "image/png": "[encoded data removed]",
      "text/plain": [
       "<matplotlib.figure.Figure at 0x2a3628aa0f0>"
      ]
     },
     "metadata": {},
     "output_type": "display_data"
    }
   ],
   "source": [
    "import numpy as np # low estimate trend based on week day\n",
    "uber_by_day = uberPOOL[[\"day_of_week\",\"low_estimate\"]].groupby(\"day_of_week\").aggregate(np.sum)\n",
    "uber_by_day.plot();"
   ]
  },
  {
   "cell_type": "code",
   "execution_count": 370,
   "metadata": {},
   "outputs": [
    {
     "data": {
      "image/png": "[encoded data removed]",
      "text/plain": [
       "<matplotlib.figure.Figure at 0x2a36e41f518>"
      ]
     },
     "metadata": {},
     "output_type": "display_data"
    }
   ],
   "source": [
    "import numpy as np #Duration trend based on weekday\n",
    "uber_by_day = uberPOOL[[\"day_of_week\",\"duration\"]].groupby(\"day_of_week\").aggregate(np.sum)\n",
    "uber_by_day.plot();"
   ]
  },
  {
   "cell_type": "code",
   "execution_count": 371,
   "metadata": {},
   "outputs": [
    {
     "data": {
      "image/png": "[encoded data removed]",
      "text/plain": [
       "<matplotlib.figure.Figure at 0x2a36db25e10>"
      ]
     },
     "metadata": {},
     "output_type": "display_data"
    }
   ],
   "source": [
    "import numpy as np #low estimate trend based on weather\n",
    "uber_by_weather = uberPOOL[[\"Weather\",\"low_estimate\"]].groupby(\"Weather\").aggregate(np.sum)\n",
    "uber_by_weather.plot();"
   ]
  },
  {
   "cell_type": "code",
   "execution_count": 372,
   "metadata": {},
   "outputs": [
    {
     "data": {
      "image/png": "[encoded data removed]",
      "text/plain": [
       "<matplotlib.figure.Figure at 0x2a36e519470>"
      ]
     },
     "metadata": {},
     "output_type": "display_data"
    }
   ],
   "source": [
    "import numpy as np #High estimate trend based on weather\n",
    "uber_by_weather = uberPOOL[[\"Weather\",\"high_estimate\"]].groupby(\"Weather\").aggregate(np.sum)\n",
    "uber_by_weather.plot();"
   ]
  },
  {
   "cell_type": "code",
   "execution_count": 373,
   "metadata": {},
   "outputs": [
    {
     "data": {
      "image/png": "[encoded data removed]",
      "text/plain": [
       "<matplotlib.figure.Figure at 0x2a3665f0470>"
      ]
     },
     "metadata": {},
     "output_type": "display_data"
    }
   ],
   "source": [
    "import numpy as np #high estimate trend based on week day\n",
    "uber_by_day = uberPOOL[[\"day_of_week\",\"high_estimate\"]].groupby(\"day_of_week\").aggregate(np.sum)\n",
    "uber_by_day.plot();"
   ]
  },
  {
   "cell_type": "code",
   "execution_count": 374,
   "metadata": {},
   "outputs": [
    {
     "data": {
      "image/png": "[encoded data removed]",
      "text/plain": [
       "<matplotlib.figure.Figure at 0x2a3679abb00>"
      ]
     },
     "metadata": {},
     "output_type": "display_data"
    }
   ],
   "source": [
    "import numpy as np #distance trend based on weekday\n",
    "uber_by_day = uberPOOL[[\"day_of_week\",\"distance\"]].groupby(\"day_of_week\").aggregate(np.sum) # to find the day on which distance travelled is the most\n",
    "uber_by_day.plot();"
   ]
  },
  {
   "cell_type": "code",
   "execution_count": 375,
   "metadata": {
    "collapsed": true
   },
   "outputs": [],
   "source": [
    "# Dropping columns of least significance for further analysis\n",
    "uber.drop(['currency_code', 'estimate', 'localized_display_name', 'product_id', 'time', 'date', 'start_latitude', 'start_longitude'  ], axis =1, inplace = True) # Dropping cells as data is insignificant"
   ]
  },
  {
   "cell_type": "code",
   "execution_count": 376,
   "metadata": {},
   "outputs": [
    {
     "data": {
      "text/plain": [
       "date_time        datetime64[ns]\n",
       "display_name             object\n",
       "distance                float64\n",
       "duration                  int64\n",
       "end_latitude            float64\n",
       "end_longitude           float64\n",
       "high_estimate           float64\n",
       "low_estimate            float64\n",
       "day_of_week              object\n",
       "Weather                  object\n",
       "dtype: object"
      ]
     },
     "execution_count": 376,
     "metadata": {},
     "output_type": "execute_result"
    }
   ],
   "source": [
    "uber.dtypes # data types check"
   ]
  },
  {
   "cell_type": "code",
   "execution_count": 377,
   "metadata": {
    "collapsed": true
   },
   "outputs": [],
   "source": [
    "#import numpy as np\n",
    "#import pandas as pd\n",
    "#import holoviews as hv\n",
    "\n",
    "#%matplotlib inline\n",
    "\n",
    "#hv.extension('bokeh', 'matplotlib', width=\"100\")\n",
    "#%opts Curve [width=600 height=250 tools=['hover'] ] {+framewise} VLine (color=\"black\")\n",
    "#%opts Bars  [width=800 height=400 tools=['hover'] group_index=1 legend_position='top_left' xrotation=90]\n",
    "#hv.extension('bokeh')"
   ]
  },
  {
   "cell_type": "code",
   "execution_count": 378,
   "metadata": {},
   "outputs": [
    {
     "data": {
      "text/plain": [
       "date_time        43896\n",
       "display_name     43896\n",
       "distance         43896\n",
       "duration         43896\n",
       "end_latitude     43896\n",
       "end_longitude    43896\n",
       "high_estimate    43896\n",
       "low_estimate     43896\n",
       "day_of_week      43896\n",
       "Weather          43896\n",
       "dtype: int64"
      ]
     },
     "execution_count": 378,
     "metadata": {},
     "output_type": "execute_result"
    }
   ],
   "source": [
    "uber.count() # to check if null values are present"
   ]
  },
  {
   "cell_type": "code",
   "execution_count": 379,
   "metadata": {},
   "outputs": [
    {
     "name": "stdout",
     "output_type": "stream",
     "text": [
      "0\n",
      "51210\n"
     ]
    }
   ],
   "source": [
    "print(min(uber.index)) # checkin table indexes\n",
    "print(max(uber.index))"
   ]
  },
  {
   "cell_type": "code",
   "execution_count": 380,
   "metadata": {},
   "outputs": [
    {
     "data": {
      "text/plain": [
       "<matplotlib.axes._subplots.AxesSubplot at 0x2a362391630>"
      ]
     },
     "execution_count": 380,
     "metadata": {},
     "output_type": "execute_result"
    },
    {
     "data": {
      "image/png": "[encoded data removed]",
      "text/plain": [
       "<matplotlib.figure.Figure at 0x2a35f3c8320>"
      ]
     },
     "metadata": {},
     "output_type": "display_data"
    }
   ],
   "source": [
    "uber.plot()"
   ]
  },
  {
   "cell_type": "code",
   "execution_count": 381,
   "metadata": {
    "collapsed": true
   },
   "outputs": [],
   "source": [
    "days = {'Monday':0 ,'Tuesday':1,'Wednesday':2,'Thursday':3,'Friday':4, 'Saturday':5, 'Sunday':6}\n",
    "\n",
    "uber['day_of_week'] = uber['day_of_week'].apply(lambda x: days[x])\n",
    "#Assigning weights to days of the weeek"
   ]
  },
  {
   "cell_type": "code",
   "execution_count": 382,
   "metadata": {},
   "outputs": [
    {
     "data": {
      "text/html": [
       "<div>\n",
       "<style>\n",
       "    .dataframe thead tr:only-child th {\n",
       "        text-align: right;\n",
       "    }\n",
       "\n",
       "    .dataframe thead th {\n",
       "        text-align: left;\n",
       "    }\n",
       "\n",
       "    .dataframe tbody tr th {\n",
       "        vertical-align: top;\n",
       "    }\n",
       "</style>\n",
       "<table border=\"1\" class=\"dataframe\">\n",
       "  <thead>\n",
       "    <tr style=\"text-align: right;\">\n",
       "      <th></th>\n",
       "      <th>date_time</th>\n",
       "      <th>display_name</th>\n",
       "      <th>distance</th>\n",
       "      <th>duration</th>\n",
       "      <th>end_latitude</th>\n",
       "      <th>end_longitude</th>\n",
       "      <th>high_estimate</th>\n",
       "      <th>low_estimate</th>\n",
       "      <th>day_of_week</th>\n",
       "      <th>Weather</th>\n",
       "    </tr>\n",
       "  </thead>\n",
       "  <tbody>\n",
       "    <tr>\n",
       "      <th>0</th>\n",
       "      <td>2017-12-05 22:47:56</td>\n",
       "      <td>uberPOOL</td>\n",
       "      <td>8.24</td>\n",
       "      <td>1080</td>\n",
       "      <td>42.314857</td>\n",
       "      <td>-71.056782</td>\n",
       "      <td>12.0</td>\n",
       "      <td>8.0</td>\n",
       "      <td>1</td>\n",
       "      <td>Rainy</td>\n",
       "    </tr>\n",
       "    <tr>\n",
       "      <th>1</th>\n",
       "      <td>2017-12-05 22:47:56</td>\n",
       "      <td>uberX</td>\n",
       "      <td>8.24</td>\n",
       "      <td>1080</td>\n",
       "      <td>42.314857</td>\n",
       "      <td>-71.056782</td>\n",
       "      <td>23.0</td>\n",
       "      <td>18.0</td>\n",
       "      <td>1</td>\n",
       "      <td>Rainy</td>\n",
       "    </tr>\n",
       "    <tr>\n",
       "      <th>2</th>\n",
       "      <td>2017-12-05 22:47:56</td>\n",
       "      <td>uberSUV</td>\n",
       "      <td>8.24</td>\n",
       "      <td>1080</td>\n",
       "      <td>42.314857</td>\n",
       "      <td>-71.056782</td>\n",
       "      <td>63.0</td>\n",
       "      <td>50.0</td>\n",
       "      <td>1</td>\n",
       "      <td>Rainy</td>\n",
       "    </tr>\n",
       "    <tr>\n",
       "      <th>3</th>\n",
       "      <td>2017-12-05 22:47:56</td>\n",
       "      <td>uberXL</td>\n",
       "      <td>8.24</td>\n",
       "      <td>1080</td>\n",
       "      <td>42.314857</td>\n",
       "      <td>-71.056782</td>\n",
       "      <td>35.0</td>\n",
       "      <td>28.0</td>\n",
       "      <td>1</td>\n",
       "      <td>Rainy</td>\n",
       "    </tr>\n",
       "    <tr>\n",
       "      <th>4</th>\n",
       "      <td>2017-12-05 22:47:56</td>\n",
       "      <td>UberBLACK</td>\n",
       "      <td>8.24</td>\n",
       "      <td>1080</td>\n",
       "      <td>42.314857</td>\n",
       "      <td>-71.056782</td>\n",
       "      <td>51.0</td>\n",
       "      <td>41.0</td>\n",
       "      <td>1</td>\n",
       "      <td>Rainy</td>\n",
       "    </tr>\n",
       "  </tbody>\n",
       "</table>\n",
       "</div>"
      ],
      "text/plain": [
       "            date_time display_name  distance  duration  end_latitude  \\\n",
       "0 2017-12-05 22:47:56     uberPOOL      8.24      1080     42.314857   \n",
       "1 2017-12-05 22:47:56        uberX      8.24      1080     42.314857   \n",
       "2 2017-12-05 22:47:56      uberSUV      8.24      1080     42.314857   \n",
       "3 2017-12-05 22:47:56       uberXL      8.24      1080     42.314857   \n",
       "4 2017-12-05 22:47:56    UberBLACK      8.24      1080     42.314857   \n",
       "\n",
       "   end_longitude  high_estimate  low_estimate  day_of_week Weather  \n",
       "0     -71.056782           12.0           8.0            1   Rainy  \n",
       "1     -71.056782           23.0          18.0            1   Rainy  \n",
       "2     -71.056782           63.0          50.0            1   Rainy  \n",
       "3     -71.056782           35.0          28.0            1   Rainy  \n",
       "4     -71.056782           51.0          41.0            1   Rainy  "
      ]
     },
     "execution_count": 382,
     "metadata": {},
     "output_type": "execute_result"
    }
   ],
   "source": [
    "uber.head() # display dataframe"
   ]
  },
  {
   "cell_type": "code",
   "execution_count": 383,
   "metadata": {
    "collapsed": true
   },
   "outputs": [],
   "source": [
    "#days = {'uberWAV':1 ,'uberXL':2,'uberPOOL':3,'uberX':4,'UberBLACK':5, 'uberSUV':6}\n",
    "\n",
    "#uber['display_name'] = uber['display_name'].apply(lambda x: days[x])"
   ]
  },
  {
   "cell_type": "code",
   "execution_count": 384,
   "metadata": {
    "collapsed": true
   },
   "outputs": [],
   "source": [
    "climate = {'Snowy':1 ,'Rainy':2,'Sunny':3,'Cloudy':4} # Number based on ascending order of the number of rides in a particular weather\n",
    "\n",
    "uber['Weather'] = uber['Weather'].apply(lambda x: climate[x])"
   ]
  },
  {
   "cell_type": "code",
   "execution_count": 385,
   "metadata": {},
   "outputs": [
    {
     "data": {
      "text/html": [
       "<div>\n",
       "<style>\n",
       "    .dataframe thead tr:only-child th {\n",
       "        text-align: right;\n",
       "    }\n",
       "\n",
       "    .dataframe thead th {\n",
       "        text-align: left;\n",
       "    }\n",
       "\n",
       "    .dataframe tbody tr th {\n",
       "        vertical-align: top;\n",
       "    }\n",
       "</style>\n",
       "<table border=\"1\" class=\"dataframe\">\n",
       "  <thead>\n",
       "    <tr style=\"text-align: right;\">\n",
       "      <th></th>\n",
       "      <th>date_time</th>\n",
       "      <th>display_name</th>\n",
       "      <th>distance</th>\n",
       "      <th>duration</th>\n",
       "      <th>end_latitude</th>\n",
       "      <th>end_longitude</th>\n",
       "      <th>high_estimate</th>\n",
       "      <th>low_estimate</th>\n",
       "      <th>day_of_week</th>\n",
       "      <th>Weather</th>\n",
       "    </tr>\n",
       "  </thead>\n",
       "  <tbody>\n",
       "    <tr>\n",
       "      <th>0</th>\n",
       "      <td>2017-12-05 22:47:56</td>\n",
       "      <td>uberPOOL</td>\n",
       "      <td>8.24</td>\n",
       "      <td>1080</td>\n",
       "      <td>42.314857</td>\n",
       "      <td>-71.056782</td>\n",
       "      <td>12.0</td>\n",
       "      <td>8.0</td>\n",
       "      <td>1</td>\n",
       "      <td>2</td>\n",
       "    </tr>\n",
       "    <tr>\n",
       "      <th>1</th>\n",
       "      <td>2017-12-05 22:47:56</td>\n",
       "      <td>uberX</td>\n",
       "      <td>8.24</td>\n",
       "      <td>1080</td>\n",
       "      <td>42.314857</td>\n",
       "      <td>-71.056782</td>\n",
       "      <td>23.0</td>\n",
       "      <td>18.0</td>\n",
       "      <td>1</td>\n",
       "      <td>2</td>\n",
       "    </tr>\n",
       "    <tr>\n",
       "      <th>2</th>\n",
       "      <td>2017-12-05 22:47:56</td>\n",
       "      <td>uberSUV</td>\n",
       "      <td>8.24</td>\n",
       "      <td>1080</td>\n",
       "      <td>42.314857</td>\n",
       "      <td>-71.056782</td>\n",
       "      <td>63.0</td>\n",
       "      <td>50.0</td>\n",
       "      <td>1</td>\n",
       "      <td>2</td>\n",
       "    </tr>\n",
       "    <tr>\n",
       "      <th>3</th>\n",
       "      <td>2017-12-05 22:47:56</td>\n",
       "      <td>uberXL</td>\n",
       "      <td>8.24</td>\n",
       "      <td>1080</td>\n",
       "      <td>42.314857</td>\n",
       "      <td>-71.056782</td>\n",
       "      <td>35.0</td>\n",
       "      <td>28.0</td>\n",
       "      <td>1</td>\n",
       "      <td>2</td>\n",
       "    </tr>\n",
       "    <tr>\n",
       "      <th>4</th>\n",
       "      <td>2017-12-05 22:47:56</td>\n",
       "      <td>UberBLACK</td>\n",
       "      <td>8.24</td>\n",
       "      <td>1080</td>\n",
       "      <td>42.314857</td>\n",
       "      <td>-71.056782</td>\n",
       "      <td>51.0</td>\n",
       "      <td>41.0</td>\n",
       "      <td>1</td>\n",
       "      <td>2</td>\n",
       "    </tr>\n",
       "  </tbody>\n",
       "</table>\n",
       "</div>"
      ],
      "text/plain": [
       "            date_time display_name  distance  duration  end_latitude  \\\n",
       "0 2017-12-05 22:47:56     uberPOOL      8.24      1080     42.314857   \n",
       "1 2017-12-05 22:47:56        uberX      8.24      1080     42.314857   \n",
       "2 2017-12-05 22:47:56      uberSUV      8.24      1080     42.314857   \n",
       "3 2017-12-05 22:47:56       uberXL      8.24      1080     42.314857   \n",
       "4 2017-12-05 22:47:56    UberBLACK      8.24      1080     42.314857   \n",
       "\n",
       "   end_longitude  high_estimate  low_estimate  day_of_week  Weather  \n",
       "0     -71.056782           12.0           8.0            1        2  \n",
       "1     -71.056782           23.0          18.0            1        2  \n",
       "2     -71.056782           63.0          50.0            1        2  \n",
       "3     -71.056782           35.0          28.0            1        2  \n",
       "4     -71.056782           51.0          41.0            1        2  "
      ]
     },
     "execution_count": 385,
     "metadata": {},
     "output_type": "execute_result"
    }
   ],
   "source": [
    "uber.head()"
   ]
  },
  {
   "cell_type": "code",
   "execution_count": 386,
   "metadata": {},
   "outputs": [
    {
     "data": {
      "text/plain": [
       "date_time        datetime64[ns]\n",
       "display_name             object\n",
       "distance                float64\n",
       "duration                  int64\n",
       "end_latitude            float64\n",
       "end_longitude           float64\n",
       "high_estimate           float64\n",
       "low_estimate            float64\n",
       "day_of_week               int64\n",
       "Weather                   int64\n",
       "dtype: object"
      ]
     },
     "execution_count": 386,
     "metadata": {},
     "output_type": "execute_result"
    }
   ],
   "source": [
    "uber.dtypes"
   ]
  },
  {
   "cell_type": "code",
   "execution_count": 387,
   "metadata": {},
   "outputs": [
    {
     "data": {
      "text/html": [
       "<div>\n",
       "<style>\n",
       "    .dataframe thead tr:only-child th {\n",
       "        text-align: right;\n",
       "    }\n",
       "\n",
       "    .dataframe thead th {\n",
       "        text-align: left;\n",
       "    }\n",
       "\n",
       "    .dataframe tbody tr th {\n",
       "        vertical-align: top;\n",
       "    }\n",
       "</style>\n",
       "<table border=\"1\" class=\"dataframe\">\n",
       "  <thead>\n",
       "    <tr style=\"text-align: right;\">\n",
       "      <th></th>\n",
       "      <th>date_time</th>\n",
       "      <th>display_name</th>\n",
       "      <th>distance</th>\n",
       "      <th>duration</th>\n",
       "      <th>end_latitude</th>\n",
       "      <th>end_longitude</th>\n",
       "      <th>high_estimate</th>\n",
       "      <th>low_estimate</th>\n",
       "      <th>day_of_week</th>\n",
       "      <th>Weather</th>\n",
       "    </tr>\n",
       "  </thead>\n",
       "  <tbody>\n",
       "    <tr>\n",
       "      <th>0</th>\n",
       "      <td>2017-12-05 22:47:56</td>\n",
       "      <td>uberPOOL</td>\n",
       "      <td>8.24</td>\n",
       "      <td>1080</td>\n",
       "      <td>42.314857</td>\n",
       "      <td>-71.056782</td>\n",
       "      <td>12.0</td>\n",
       "      <td>8.0</td>\n",
       "      <td>1</td>\n",
       "      <td>2</td>\n",
       "    </tr>\n",
       "    <tr>\n",
       "      <th>7</th>\n",
       "      <td>2017-12-05 22:47:56</td>\n",
       "      <td>uberPOOL</td>\n",
       "      <td>8.24</td>\n",
       "      <td>1080</td>\n",
       "      <td>42.314857</td>\n",
       "      <td>-71.056782</td>\n",
       "      <td>12.0</td>\n",
       "      <td>8.0</td>\n",
       "      <td>1</td>\n",
       "      <td>2</td>\n",
       "    </tr>\n",
       "    <tr>\n",
       "      <th>14</th>\n",
       "      <td>2017-12-05 22:48:51</td>\n",
       "      <td>uberPOOL</td>\n",
       "      <td>6.18</td>\n",
       "      <td>1140</td>\n",
       "      <td>42.272678</td>\n",
       "      <td>-71.093765</td>\n",
       "      <td>10.0</td>\n",
       "      <td>6.0</td>\n",
       "      <td>1</td>\n",
       "      <td>2</td>\n",
       "    </tr>\n",
       "    <tr>\n",
       "      <th>21</th>\n",
       "      <td>2017-12-05 22:48:51</td>\n",
       "      <td>uberPOOL</td>\n",
       "      <td>6.18</td>\n",
       "      <td>1140</td>\n",
       "      <td>42.272678</td>\n",
       "      <td>-71.093765</td>\n",
       "      <td>10.0</td>\n",
       "      <td>6.0</td>\n",
       "      <td>1</td>\n",
       "      <td>2</td>\n",
       "    </tr>\n",
       "    <tr>\n",
       "      <th>28</th>\n",
       "      <td>2017-12-05 22:51:50</td>\n",
       "      <td>uberPOOL</td>\n",
       "      <td>8.53</td>\n",
       "      <td>1320</td>\n",
       "      <td>42.247948</td>\n",
       "      <td>-71.173050</td>\n",
       "      <td>15.0</td>\n",
       "      <td>10.0</td>\n",
       "      <td>1</td>\n",
       "      <td>2</td>\n",
       "    </tr>\n",
       "  </tbody>\n",
       "</table>\n",
       "</div>"
      ],
      "text/plain": [
       "             date_time display_name  distance  duration  end_latitude  \\\n",
       "0  2017-12-05 22:47:56     uberPOOL      8.24      1080     42.314857   \n",
       "7  2017-12-05 22:47:56     uberPOOL      8.24      1080     42.314857   \n",
       "14 2017-12-05 22:48:51     uberPOOL      6.18      1140     42.272678   \n",
       "21 2017-12-05 22:48:51     uberPOOL      6.18      1140     42.272678   \n",
       "28 2017-12-05 22:51:50     uberPOOL      8.53      1320     42.247948   \n",
       "\n",
       "    end_longitude  high_estimate  low_estimate  day_of_week  Weather  \n",
       "0      -71.056782           12.0           8.0            1        2  \n",
       "7      -71.056782           12.0           8.0            1        2  \n",
       "14     -71.093765           10.0           6.0            1        2  \n",
       "21     -71.093765           10.0           6.0            1        2  \n",
       "28     -71.173050           15.0          10.0            1        2  "
      ]
     },
     "execution_count": 387,
     "metadata": {},
     "output_type": "execute_result"
    }
   ],
   "source": [
    "#here we will separate the 6 different types of uber services into their own dataframes\n",
    "uberPOOL = uber[uber.display_name == 'uberPOOL']\n",
    "uberPOOL.head()"
   ]
  },
  {
   "cell_type": "code",
   "execution_count": 388,
   "metadata": {},
   "outputs": [
    {
     "data": {
      "text/html": [
       "<div>\n",
       "<style>\n",
       "    .dataframe thead tr:only-child th {\n",
       "        text-align: right;\n",
       "    }\n",
       "\n",
       "    .dataframe thead th {\n",
       "        text-align: left;\n",
       "    }\n",
       "\n",
       "    .dataframe tbody tr th {\n",
       "        vertical-align: top;\n",
       "    }\n",
       "</style>\n",
       "<table border=\"1\" class=\"dataframe\">\n",
       "  <thead>\n",
       "    <tr style=\"text-align: right;\">\n",
       "      <th></th>\n",
       "      <th>date_time</th>\n",
       "      <th>display_name</th>\n",
       "      <th>distance</th>\n",
       "      <th>duration</th>\n",
       "      <th>end_latitude</th>\n",
       "      <th>end_longitude</th>\n",
       "      <th>high_estimate</th>\n",
       "      <th>low_estimate</th>\n",
       "      <th>day_of_week</th>\n",
       "      <th>Weather</th>\n",
       "    </tr>\n",
       "  </thead>\n",
       "  <tbody>\n",
       "    <tr>\n",
       "      <th>0</th>\n",
       "      <td>2017-12-05 22:47:56</td>\n",
       "      <td>uberPOOL</td>\n",
       "      <td>8.24</td>\n",
       "      <td>1080</td>\n",
       "      <td>42.314857</td>\n",
       "      <td>-71.056782</td>\n",
       "      <td>12.0</td>\n",
       "      <td>8.0</td>\n",
       "      <td>1</td>\n",
       "      <td>2</td>\n",
       "    </tr>\n",
       "    <tr>\n",
       "      <th>14</th>\n",
       "      <td>2017-12-05 22:48:51</td>\n",
       "      <td>uberPOOL</td>\n",
       "      <td>6.18</td>\n",
       "      <td>1140</td>\n",
       "      <td>42.272678</td>\n",
       "      <td>-71.093765</td>\n",
       "      <td>10.0</td>\n",
       "      <td>6.0</td>\n",
       "      <td>1</td>\n",
       "      <td>2</td>\n",
       "    </tr>\n",
       "    <tr>\n",
       "      <th>28</th>\n",
       "      <td>2017-12-05 22:51:50</td>\n",
       "      <td>uberPOOL</td>\n",
       "      <td>8.53</td>\n",
       "      <td>1320</td>\n",
       "      <td>42.247948</td>\n",
       "      <td>-71.173050</td>\n",
       "      <td>15.0</td>\n",
       "      <td>10.0</td>\n",
       "      <td>1</td>\n",
       "      <td>2</td>\n",
       "    </tr>\n",
       "    <tr>\n",
       "      <th>42</th>\n",
       "      <td>2017-12-05 22:54:57</td>\n",
       "      <td>uberPOOL</td>\n",
       "      <td>3.24</td>\n",
       "      <td>840</td>\n",
       "      <td>42.338443</td>\n",
       "      <td>-71.074548</td>\n",
       "      <td>8.0</td>\n",
       "      <td>5.0</td>\n",
       "      <td>1</td>\n",
       "      <td>2</td>\n",
       "    </tr>\n",
       "    <tr>\n",
       "      <th>56</th>\n",
       "      <td>2017-12-05 22:57:49</td>\n",
       "      <td>uberPOOL</td>\n",
       "      <td>4.14</td>\n",
       "      <td>720</td>\n",
       "      <td>42.360958</td>\n",
       "      <td>-71.065895</td>\n",
       "      <td>11.0</td>\n",
       "      <td>7.0</td>\n",
       "      <td>1</td>\n",
       "      <td>2</td>\n",
       "    </tr>\n",
       "  </tbody>\n",
       "</table>\n",
       "</div>"
      ],
      "text/plain": [
       "             date_time display_name  distance  duration  end_latitude  \\\n",
       "0  2017-12-05 22:47:56     uberPOOL      8.24      1080     42.314857   \n",
       "14 2017-12-05 22:48:51     uberPOOL      6.18      1140     42.272678   \n",
       "28 2017-12-05 22:51:50     uberPOOL      8.53      1320     42.247948   \n",
       "42 2017-12-05 22:54:57     uberPOOL      3.24       840     42.338443   \n",
       "56 2017-12-05 22:57:49     uberPOOL      4.14       720     42.360958   \n",
       "\n",
       "    end_longitude  high_estimate  low_estimate  day_of_week  Weather  \n",
       "0      -71.056782           12.0           8.0            1        2  \n",
       "14     -71.093765           10.0           6.0            1        2  \n",
       "28     -71.173050           15.0          10.0            1        2  \n",
       "42     -71.074548            8.0           5.0            1        2  \n",
       "56     -71.065895           11.0           7.0            1        2  "
      ]
     },
     "execution_count": 388,
     "metadata": {},
     "output_type": "execute_result"
    }
   ],
   "source": [
    "#remove duplicated datetimeindex\n",
    "uberPOOL = uberPOOL[~uberPOOL.date_time.duplicated(keep = 'first')]\n",
    "uberPOOL.head()"
   ]
  },
  {
   "cell_type": "code",
   "execution_count": 389,
   "metadata": {},
   "outputs": [
    {
     "data": {
      "text/html": [
       "<div>\n",
       "<style>\n",
       "    .dataframe thead tr:only-child th {\n",
       "        text-align: right;\n",
       "    }\n",
       "\n",
       "    .dataframe thead th {\n",
       "        text-align: left;\n",
       "    }\n",
       "\n",
       "    .dataframe tbody tr th {\n",
       "        vertical-align: top;\n",
       "    }\n",
       "</style>\n",
       "<table border=\"1\" class=\"dataframe\">\n",
       "  <thead>\n",
       "    <tr style=\"text-align: right;\">\n",
       "      <th></th>\n",
       "      <th>date_time</th>\n",
       "      <th>display_name</th>\n",
       "      <th>distance</th>\n",
       "      <th>duration</th>\n",
       "      <th>end_latitude</th>\n",
       "      <th>end_longitude</th>\n",
       "      <th>high_estimate</th>\n",
       "      <th>low_estimate</th>\n",
       "      <th>day_of_week</th>\n",
       "      <th>Weather</th>\n",
       "    </tr>\n",
       "  </thead>\n",
       "  <tbody>\n",
       "    <tr>\n",
       "      <th>51142</th>\n",
       "      <td>2017-12-13 15:27:19</td>\n",
       "      <td>uberPOOL</td>\n",
       "      <td>1.94</td>\n",
       "      <td>600</td>\n",
       "      <td>42.346358</td>\n",
       "      <td>-71.097615</td>\n",
       "      <td>11.0</td>\n",
       "      <td>7.0</td>\n",
       "      <td>2</td>\n",
       "      <td>3</td>\n",
       "    </tr>\n",
       "    <tr>\n",
       "      <th>51156</th>\n",
       "      <td>2017-12-13 15:30:19</td>\n",
       "      <td>uberPOOL</td>\n",
       "      <td>4.57</td>\n",
       "      <td>1620</td>\n",
       "      <td>42.358536</td>\n",
       "      <td>-71.060788</td>\n",
       "      <td>18.0</td>\n",
       "      <td>13.0</td>\n",
       "      <td>2</td>\n",
       "      <td>3</td>\n",
       "    </tr>\n",
       "    <tr>\n",
       "      <th>51170</th>\n",
       "      <td>2017-12-13 15:33:24</td>\n",
       "      <td>uberPOOL</td>\n",
       "      <td>1.94</td>\n",
       "      <td>660</td>\n",
       "      <td>42.346358</td>\n",
       "      <td>-71.097615</td>\n",
       "      <td>12.0</td>\n",
       "      <td>8.0</td>\n",
       "      <td>2</td>\n",
       "      <td>3</td>\n",
       "    </tr>\n",
       "    <tr>\n",
       "      <th>51184</th>\n",
       "      <td>2017-12-13 15:36:21</td>\n",
       "      <td>uberPOOL</td>\n",
       "      <td>6.09</td>\n",
       "      <td>1440</td>\n",
       "      <td>42.350274</td>\n",
       "      <td>-71.051305</td>\n",
       "      <td>17.0</td>\n",
       "      <td>13.0</td>\n",
       "      <td>2</td>\n",
       "      <td>3</td>\n",
       "    </tr>\n",
       "    <tr>\n",
       "      <th>51198</th>\n",
       "      <td>2017-12-13 15:39:19</td>\n",
       "      <td>uberPOOL</td>\n",
       "      <td>3.20</td>\n",
       "      <td>900</td>\n",
       "      <td>42.322207</td>\n",
       "      <td>-71.170310</td>\n",
       "      <td>19.0</td>\n",
       "      <td>14.0</td>\n",
       "      <td>2</td>\n",
       "      <td>3</td>\n",
       "    </tr>\n",
       "  </tbody>\n",
       "</table>\n",
       "</div>"
      ],
      "text/plain": [
       "                date_time display_name  distance  duration  end_latitude  \\\n",
       "51142 2017-12-13 15:27:19     uberPOOL      1.94       600     42.346358   \n",
       "51156 2017-12-13 15:30:19     uberPOOL      4.57      1620     42.358536   \n",
       "51170 2017-12-13 15:33:24     uberPOOL      1.94       660     42.346358   \n",
       "51184 2017-12-13 15:36:21     uberPOOL      6.09      1440     42.350274   \n",
       "51198 2017-12-13 15:39:19     uberPOOL      3.20       900     42.322207   \n",
       "\n",
       "       end_longitude  high_estimate  low_estimate  day_of_week  Weather  \n",
       "51142     -71.097615           11.0           7.0            2        3  \n",
       "51156     -71.060788           18.0          13.0            2        3  \n",
       "51170     -71.097615           12.0           8.0            2        3  \n",
       "51184     -71.051305           17.0          13.0            2        3  \n",
       "51198     -71.170310           19.0          14.0            2        3  "
      ]
     },
     "execution_count": 389,
     "metadata": {},
     "output_type": "execute_result"
    }
   ],
   "source": [
    "# Checking if duplicates are removed\n",
    "uberPOOL.tail()"
   ]
  },
  {
   "cell_type": "code",
   "execution_count": 390,
   "metadata": {},
   "outputs": [
    {
     "data": {
      "text/plain": [
       "date_time        3658\n",
       "display_name     3658\n",
       "distance         3658\n",
       "duration         3658\n",
       "end_latitude     3658\n",
       "end_longitude    3658\n",
       "high_estimate    3658\n",
       "low_estimate     3658\n",
       "day_of_week      3658\n",
       "Weather          3658\n",
       "dtype: int64"
      ]
     },
     "execution_count": 390,
     "metadata": {},
     "output_type": "execute_result"
    }
   ],
   "source": [
    "#Counting total records\n",
    "uberPOOL.count()"
   ]
  },
  {
   "cell_type": "code",
   "execution_count": 391,
   "metadata": {},
   "outputs": [
    {
     "data": {
      "text/plain": [
       "<matplotlib.axes._subplots.AxesSubplot at 0x2a3753dcb00>"
      ]
     },
     "execution_count": 391,
     "metadata": {},
     "output_type": "execute_result"
    },
    {
     "data": {
      "image/png": "[encoded data removed]",
      "text/plain": [
       "<matplotlib.figure.Figure at 0x2a3753c5898>"
      ]
     },
     "metadata": {},
     "output_type": "display_data"
    }
   ],
   "source": [
    "uberPOOL.plot() # plotting dataframe"
   ]
  },
  {
   "cell_type": "code",
   "execution_count": 392,
   "metadata": {
    "collapsed": true
   },
   "outputs": [],
   "source": [
    "#hv.Curve(uber_by_weather)"
   ]
  },
  {
   "cell_type": "code",
   "execution_count": 393,
   "metadata": {},
   "outputs": [
    {
     "data": {
      "text/plain": [
       "16.630945872061236"
      ]
     },
     "execution_count": 393,
     "metadata": {},
     "output_type": "execute_result"
    }
   ],
   "source": [
    "uberPOOL['high_estimate'].mean() # Calculate mean of high range"
   ]
  },
  {
   "cell_type": "code",
   "execution_count": 394,
   "metadata": {},
   "outputs": [
    {
     "data": {
      "text/plain": [
       "41.83751078131857"
      ]
     },
     "execution_count": 394,
     "metadata": {},
     "output_type": "execute_result"
    }
   ],
   "source": [
    "uberPOOL['high_estimate'].var() # Calculate variance"
   ]
  },
  {
   "cell_type": "code",
   "execution_count": 395,
   "metadata": {},
   "outputs": [
    {
     "data": {
      "text/plain": [
       "6.46819223441284"
      ]
     },
     "execution_count": 395,
     "metadata": {},
     "output_type": "execute_result"
    }
   ],
   "source": [
    "uberPOOL['high_estimate'].std() # Calculate Standard deviation"
   ]
  },
  {
   "cell_type": "code",
   "execution_count": 396,
   "metadata": {
    "collapsed": true
   },
   "outputs": [],
   "source": [
    "uberPOOL.drop(['display_name', 'date_time'], axis =1, inplace = True) # Dropping cells as data is insignificant"
   ]
  },
  {
   "cell_type": "code",
   "execution_count": 397,
   "metadata": {},
   "outputs": [
    {
     "data": {
      "text/plain": [
       "<matplotlib.axes._subplots.AxesSubplot at 0x2a3655b0ef0>"
      ]
     },
     "execution_count": 397,
     "metadata": {},
     "output_type": "execute_result"
    },
    {
     "data": {
      "image/png": "[encoded data removed]",
      "text/plain": [
       "<matplotlib.figure.Figure at 0x2a36d941240>"
      ]
     },
     "metadata": {},
     "output_type": "display_data"
    }
   ],
   "source": [
    "sns.boxplot(data=uberPOOL, orient=\"h\") # to check for outliers"
   ]
  },
  {
   "cell_type": "code",
   "execution_count": 398,
   "metadata": {
    "collapsed": true
   },
   "outputs": [],
   "source": [
    "uberPOOL['high_estimate'] = uberPOOL['high_estimate'].apply(lambda x: \"HH\" if x>= uberPOOL['high_estimate'].mean() else \"HL\") #Converting high estimate as HH for prices greater than mean and HL for prices less than mean for analysis"
   ]
  },
  {
   "cell_type": "code",
   "execution_count": 399,
   "metadata": {},
   "outputs": [
    {
     "data": {
      "text/html": [
       "<div>\n",
       "<style>\n",
       "    .dataframe thead tr:only-child th {\n",
       "        text-align: right;\n",
       "    }\n",
       "\n",
       "    .dataframe thead th {\n",
       "        text-align: left;\n",
       "    }\n",
       "\n",
       "    .dataframe tbody tr th {\n",
       "        vertical-align: top;\n",
       "    }\n",
       "</style>\n",
       "<table border=\"1\" class=\"dataframe\">\n",
       "  <thead>\n",
       "    <tr style=\"text-align: right;\">\n",
       "      <th></th>\n",
       "      <th>distance</th>\n",
       "      <th>duration</th>\n",
       "      <th>end_latitude</th>\n",
       "      <th>end_longitude</th>\n",
       "      <th>high_estimate</th>\n",
       "      <th>low_estimate</th>\n",
       "      <th>day_of_week</th>\n",
       "      <th>Weather</th>\n",
       "    </tr>\n",
       "  </thead>\n",
       "  <tbody>\n",
       "    <tr>\n",
       "      <th>0</th>\n",
       "      <td>8.24</td>\n",
       "      <td>1080</td>\n",
       "      <td>42.314857</td>\n",
       "      <td>-71.056782</td>\n",
       "      <td>HL</td>\n",
       "      <td>8.0</td>\n",
       "      <td>1</td>\n",
       "      <td>2</td>\n",
       "    </tr>\n",
       "    <tr>\n",
       "      <th>14</th>\n",
       "      <td>6.18</td>\n",
       "      <td>1140</td>\n",
       "      <td>42.272678</td>\n",
       "      <td>-71.093765</td>\n",
       "      <td>HL</td>\n",
       "      <td>6.0</td>\n",
       "      <td>1</td>\n",
       "      <td>2</td>\n",
       "    </tr>\n",
       "    <tr>\n",
       "      <th>28</th>\n",
       "      <td>8.53</td>\n",
       "      <td>1320</td>\n",
       "      <td>42.247948</td>\n",
       "      <td>-71.173050</td>\n",
       "      <td>HL</td>\n",
       "      <td>10.0</td>\n",
       "      <td>1</td>\n",
       "      <td>2</td>\n",
       "    </tr>\n",
       "    <tr>\n",
       "      <th>42</th>\n",
       "      <td>3.24</td>\n",
       "      <td>840</td>\n",
       "      <td>42.338443</td>\n",
       "      <td>-71.074548</td>\n",
       "      <td>HL</td>\n",
       "      <td>5.0</td>\n",
       "      <td>1</td>\n",
       "      <td>2</td>\n",
       "    </tr>\n",
       "    <tr>\n",
       "      <th>56</th>\n",
       "      <td>4.14</td>\n",
       "      <td>720</td>\n",
       "      <td>42.360958</td>\n",
       "      <td>-71.065895</td>\n",
       "      <td>HL</td>\n",
       "      <td>7.0</td>\n",
       "      <td>1</td>\n",
       "      <td>2</td>\n",
       "    </tr>\n",
       "  </tbody>\n",
       "</table>\n",
       "</div>"
      ],
      "text/plain": [
       "    distance  duration  end_latitude  end_longitude high_estimate  \\\n",
       "0       8.24      1080     42.314857     -71.056782            HL   \n",
       "14      6.18      1140     42.272678     -71.093765            HL   \n",
       "28      8.53      1320     42.247948     -71.173050            HL   \n",
       "42      3.24       840     42.338443     -71.074548            HL   \n",
       "56      4.14       720     42.360958     -71.065895            HL   \n",
       "\n",
       "    low_estimate  day_of_week  Weather  \n",
       "0            8.0            1        2  \n",
       "14           6.0            1        2  \n",
       "28          10.0            1        2  \n",
       "42           5.0            1        2  \n",
       "56           7.0            1        2  "
      ]
     },
     "execution_count": 399,
     "metadata": {},
     "output_type": "execute_result"
    }
   ],
   "source": [
    "uberPOOL.head() # displaying data"
   ]
  },
  {
   "cell_type": "code",
   "execution_count": 400,
   "metadata": {},
   "outputs": [
    {
     "data": {
      "text/html": [
       "<div>\n",
       "<style>\n",
       "    .dataframe thead tr:only-child th {\n",
       "        text-align: right;\n",
       "    }\n",
       "\n",
       "    .dataframe thead th {\n",
       "        text-align: left;\n",
       "    }\n",
       "\n",
       "    .dataframe tbody tr th {\n",
       "        vertical-align: top;\n",
       "    }\n",
       "</style>\n",
       "<table border=\"1\" class=\"dataframe\">\n",
       "  <thead>\n",
       "    <tr style=\"text-align: right;\">\n",
       "      <th></th>\n",
       "      <th>distance</th>\n",
       "      <th>duration</th>\n",
       "      <th>end_latitude</th>\n",
       "      <th>end_longitude</th>\n",
       "      <th>low_estimate</th>\n",
       "      <th>day_of_week</th>\n",
       "      <th>Weather</th>\n",
       "    </tr>\n",
       "    <tr>\n",
       "      <th>high_estimate</th>\n",
       "      <th></th>\n",
       "      <th></th>\n",
       "      <th></th>\n",
       "      <th></th>\n",
       "      <th></th>\n",
       "      <th></th>\n",
       "      <th></th>\n",
       "    </tr>\n",
       "  </thead>\n",
       "  <tbody>\n",
       "    <tr>\n",
       "      <th>HH</th>\n",
       "      <td>1497</td>\n",
       "      <td>1497</td>\n",
       "      <td>1497</td>\n",
       "      <td>1497</td>\n",
       "      <td>1497</td>\n",
       "      <td>1497</td>\n",
       "      <td>1497</td>\n",
       "    </tr>\n",
       "    <tr>\n",
       "      <th>HL</th>\n",
       "      <td>2161</td>\n",
       "      <td>2161</td>\n",
       "      <td>2161</td>\n",
       "      <td>2161</td>\n",
       "      <td>2161</td>\n",
       "      <td>2161</td>\n",
       "      <td>2161</td>\n",
       "    </tr>\n",
       "  </tbody>\n",
       "</table>\n",
       "</div>"
      ],
      "text/plain": [
       "               distance  duration  end_latitude  end_longitude  low_estimate  \\\n",
       "high_estimate                                                                  \n",
       "HH                 1497      1497          1497           1497          1497   \n",
       "HL                 2161      2161          2161           2161          2161   \n",
       "\n",
       "               day_of_week  Weather  \n",
       "high_estimate                        \n",
       "HH                    1497     1497  \n",
       "HL                    2161     2161  "
      ]
     },
     "execution_count": 400,
     "metadata": {},
     "output_type": "execute_result"
    }
   ],
   "source": [
    "uberPOOL.groupby('high_estimate').count() # Counting the total number of records"
   ]
  },
  {
   "cell_type": "code",
   "execution_count": 401,
   "metadata": {},
   "outputs": [
    {
     "data": {
      "text/html": [
       "<div>\n",
       "<style>\n",
       "    .dataframe thead tr:only-child th {\n",
       "        text-align: right;\n",
       "    }\n",
       "\n",
       "    .dataframe thead th {\n",
       "        text-align: left;\n",
       "    }\n",
       "\n",
       "    .dataframe tbody tr th {\n",
       "        vertical-align: top;\n",
       "    }\n",
       "</style>\n",
       "<table border=\"1\" class=\"dataframe\">\n",
       "  <thead>\n",
       "    <tr style=\"text-align: right;\">\n",
       "      <th></th>\n",
       "      <th>distance</th>\n",
       "      <th>duration</th>\n",
       "      <th>end_latitude</th>\n",
       "      <th>end_longitude</th>\n",
       "      <th>low_estimate</th>\n",
       "      <th>day_of_week</th>\n",
       "      <th>Weather</th>\n",
       "    </tr>\n",
       "  </thead>\n",
       "  <tbody>\n",
       "    <tr>\n",
       "      <th>count</th>\n",
       "      <td>3658.000000</td>\n",
       "      <td>3658.000000</td>\n",
       "      <td>3658.000000</td>\n",
       "      <td>3658.000000</td>\n",
       "      <td>3658.000000</td>\n",
       "      <td>3658.000000</td>\n",
       "      <td>3658.000000</td>\n",
       "    </tr>\n",
       "    <tr>\n",
       "      <th>mean</th>\n",
       "      <td>5.265282</td>\n",
       "      <td>1039.043193</td>\n",
       "      <td>42.339442</td>\n",
       "      <td>-71.076939</td>\n",
       "      <td>11.885730</td>\n",
       "      <td>2.895845</td>\n",
       "      <td>2.995353</td>\n",
       "    </tr>\n",
       "    <tr>\n",
       "      <th>std</th>\n",
       "      <td>2.761660</td>\n",
       "      <td>391.295588</td>\n",
       "      <td>0.034898</td>\n",
       "      <td>0.037666</td>\n",
       "      <td>5.299203</td>\n",
       "      <td>1.930238</td>\n",
       "      <td>1.021363</td>\n",
       "    </tr>\n",
       "    <tr>\n",
       "      <th>min</th>\n",
       "      <td>1.290000</td>\n",
       "      <td>180.000000</td>\n",
       "      <td>42.247948</td>\n",
       "      <td>-71.173050</td>\n",
       "      <td>4.000000</td>\n",
       "      <td>0.000000</td>\n",
       "      <td>1.000000</td>\n",
       "    </tr>\n",
       "    <tr>\n",
       "      <th>25%</th>\n",
       "      <td>3.142500</td>\n",
       "      <td>780.000000</td>\n",
       "      <td>42.322207</td>\n",
       "      <td>-71.093765</td>\n",
       "      <td>8.000000</td>\n",
       "      <td>1.000000</td>\n",
       "      <td>2.000000</td>\n",
       "    </tr>\n",
       "    <tr>\n",
       "      <th>50%</th>\n",
       "      <td>4.695000</td>\n",
       "      <td>960.000000</td>\n",
       "      <td>42.348773</td>\n",
       "      <td>-71.074474</td>\n",
       "      <td>11.000000</td>\n",
       "      <td>3.000000</td>\n",
       "      <td>3.000000</td>\n",
       "    </tr>\n",
       "    <tr>\n",
       "      <th>75%</th>\n",
       "      <td>6.860000</td>\n",
       "      <td>1260.000000</td>\n",
       "      <td>42.360958</td>\n",
       "      <td>-71.057072</td>\n",
       "      <td>14.000000</td>\n",
       "      <td>5.000000</td>\n",
       "      <td>4.000000</td>\n",
       "    </tr>\n",
       "    <tr>\n",
       "      <th>max</th>\n",
       "      <td>14.530000</td>\n",
       "      <td>2880.000000</td>\n",
       "      <td>42.423240</td>\n",
       "      <td>-70.986913</td>\n",
       "      <td>49.000000</td>\n",
       "      <td>6.000000</td>\n",
       "      <td>4.000000</td>\n",
       "    </tr>\n",
       "  </tbody>\n",
       "</table>\n",
       "</div>"
      ],
      "text/plain": [
       "          distance     duration  end_latitude  end_longitude  low_estimate  \\\n",
       "count  3658.000000  3658.000000   3658.000000    3658.000000   3658.000000   \n",
       "mean      5.265282  1039.043193     42.339442     -71.076939     11.885730   \n",
       "std       2.761660   391.295588      0.034898       0.037666      5.299203   \n",
       "min       1.290000   180.000000     42.247948     -71.173050      4.000000   \n",
       "25%       3.142500   780.000000     42.322207     -71.093765      8.000000   \n",
       "50%       4.695000   960.000000     42.348773     -71.074474     11.000000   \n",
       "75%       6.860000  1260.000000     42.360958     -71.057072     14.000000   \n",
       "max      14.530000  2880.000000     42.423240     -70.986913     49.000000   \n",
       "\n",
       "       day_of_week      Weather  \n",
       "count  3658.000000  3658.000000  \n",
       "mean      2.895845     2.995353  \n",
       "std       1.930238     1.021363  \n",
       "min       0.000000     1.000000  \n",
       "25%       1.000000     2.000000  \n",
       "50%       3.000000     3.000000  \n",
       "75%       5.000000     4.000000  \n",
       "max       6.000000     4.000000  "
      ]
     },
     "execution_count": 401,
     "metadata": {},
     "output_type": "execute_result"
    }
   ],
   "source": [
    "uberPOOL.describe() # Describing columns"
   ]
  },
  {
   "cell_type": "code",
   "execution_count": 402,
   "metadata": {
    "collapsed": true
   },
   "outputs": [],
   "source": [
    "def scaled_df(df):\n",
    "    scaled = pd.DataFrame()\n",
    "    for item in df:\n",
    "        if item in df.select_dtypes(include=[np.float]):\n",
    "            scaled[item] = ((df[item] - df[item].min()) / \n",
    "            (df[item].max() - df[item].min()))\n",
    "        else: \n",
    "            scaled[item] = df[item]\n",
    "    return scaled\n",
    "uberPOOL_scaled = scaled_df(uberPOOL)\n",
    "# Scaling to remove outliers"
   ]
  },
  {
   "cell_type": "code",
   "execution_count": 403,
   "metadata": {},
   "outputs": [
    {
     "data": {
      "text/plain": [
       "<matplotlib.axes._subplots.AxesSubplot at 0x2a3750e2278>"
      ]
     },
     "execution_count": 403,
     "metadata": {},
     "output_type": "execute_result"
    },
    {
     "data": {
      "image/png": "[encoded data removed]",
      "text/plain": [
       "<matplotlib.figure.Figure at 0x2a365940630>"
      ]
     },
     "metadata": {},
     "output_type": "display_data"
    }
   ],
   "source": [
    "sns.boxplot(data=uberPOOL_scaled, orient=\"h\")"
   ]
  },
  {
   "cell_type": "code",
   "execution_count": 404,
   "metadata": {},
   "outputs": [
    {
     "data": {
      "text/plain": [
       "distance         float64\n",
       "duration           int64\n",
       "end_latitude     float64\n",
       "end_longitude    float64\n",
       "high_estimate     object\n",
       "low_estimate     float64\n",
       "day_of_week        int64\n",
       "Weather            int64\n",
       "dtype: object"
      ]
     },
     "execution_count": 404,
     "metadata": {},
     "output_type": "execute_result"
    }
   ],
   "source": [
    "uberPOOL_scaled.dtypes"
   ]
  },
  {
   "cell_type": "code",
   "execution_count": 405,
   "metadata": {
    "collapsed": true
   },
   "outputs": [],
   "source": [
    "predictor_names = ['distance', 'duration', 'low_estimate', 'Weather', 'day_of_week', 'end_latitude', 'end_longitude']\n",
    "# Defining factors affecting the ride"
   ]
  },
  {
   "cell_type": "code",
   "execution_count": 406,
   "metadata": {},
   "outputs": [
    {
     "data": {
      "text/plain": [
       "distance         float64\n",
       "duration           int64\n",
       "end_latitude     float64\n",
       "end_longitude    float64\n",
       "high_estimate     object\n",
       "low_estimate     float64\n",
       "day_of_week        int64\n",
       "Weather            int64\n",
       "dtype: object"
      ]
     },
     "execution_count": 406,
     "metadata": {},
     "output_type": "execute_result"
    }
   ],
   "source": [
    "uberPOOL_scaled.dtypes"
   ]
  },
  {
   "cell_type": "code",
   "execution_count": 407,
   "metadata": {
    "collapsed": true
   },
   "outputs": [],
   "source": [
    "# Defining the input and output varibles\n",
    "X = uberPOOL_scaled[predictor_names]\n",
    "\n",
    "#setting target\n",
    "y = uberPOOL_scaled['high_estimate']"
   ]
  },
  {
   "cell_type": "code",
   "execution_count": 408,
   "metadata": {
    "collapsed": true
   },
   "outputs": [],
   "source": [
    "\n",
    "#dividing data to have a training and a testing set\n",
    "X_train, X_test, y_train, y_test = train_test_split(X, y, test_size= .4, random_state=0)"
   ]
  },
  {
   "cell_type": "code",
   "execution_count": 409,
   "metadata": {
    "collapsed": true
   },
   "outputs": [],
   "source": [
    "from sklearn import svm # importing library for support vector machines"
   ]
  },
  {
   "cell_type": "code",
   "execution_count": 410,
   "metadata": {},
   "outputs": [
    {
     "name": "stdout",
     "output_type": "stream",
     "text": [
      "KfoldCrossVal mean score using SVM is 0.709192559772\n",
      "Accuracy score using SVM is 0.801912568306\n"
     ]
    }
   ],
   "source": [
    "#setting rbfKernel svm classifier\n",
    "\n",
    "rbfKernel = svm.SVC(kernel='rbf', gamma=0.7, C=1.0)\n",
    "\n",
    "print(\"KfoldCrossVal mean score using SVM is %s\" %cross_val_score(rbfKernel,X,y,cv=10).mean())\n",
    "#SVM metrics\n",
    "sm = rbfKernel.fit(X_train, y_train)\n",
    "y_pred = sm.predict(X_test)\n",
    "print(\"Accuracy score using SVM is %s\" %metrics.accuracy_score(y_test, y_pred))"
   ]
  },
  {
   "cell_type": "code",
   "execution_count": 411,
   "metadata": {
    "collapsed": true
   },
   "outputs": [],
   "source": [
    "from sklearn.metrics import confusion_matrix # Analysis on the model"
   ]
  },
  {
   "cell_type": "code",
   "execution_count": 412,
   "metadata": {},
   "outputs": [
    {
     "data": {
      "text/plain": [
       "(433, 172, 118, 741)"
      ]
     },
     "execution_count": 412,
     "metadata": {},
     "output_type": "execute_result"
    }
   ],
   "source": [
    "True_Negative, False_Positive, False_Negative, True_Positive=confusion_matrix(y_test, y_pred).ravel()\n",
    "(True_Negative, False_Positive, False_Negative, True_Positive)"
   ]
  },
  {
   "cell_type": "code",
   "execution_count": 413,
   "metadata": {},
   "outputs": [
    {
     "data": {
      "text/plain": [
       "1464"
      ]
     },
     "execution_count": 413,
     "metadata": {},
     "output_type": "execute_result"
    }
   ],
   "source": [
    "total = True_Negative + False_Positive + False_Negative + True_Positive\n",
    "total"
   ]
  },
  {
   "cell_type": "code",
   "execution_count": 414,
   "metadata": {},
   "outputs": [
    {
     "name": "stdout",
     "output_type": "stream",
     "text": [
      "misclassificationRate: 172.080601093\n",
      "precision: 0.81161007667\n",
      "truePositiveRate :  0.86263096624\n",
      "falsePositiveRate :  0.284297520661\n",
      "Specificity :  0.715702479339\n",
      "Prevalence :  0.506147540984\n"
     ]
    }
   ],
   "source": [
    "misclassificationRate = False_Positive + False_Negative/ total #Analysis of results\n",
    "print(\"misclassificationRate:\", misclassificationRate)\n",
    "precision = True_Positive/( False_Positive + True_Positive)\n",
    "print(\"precision:\", precision)\n",
    "truePositiveRate = True_Positive / (True_Positive+False_Negative)\n",
    "print(\"truePositiveRate : \" , truePositiveRate)\n",
    "falsePositiveRate = False_Positive / (True_Negative+False_Positive)\n",
    "print(\"falsePositiveRate : \", falsePositiveRate)\n",
    "Specificity = True_Negative / (True_Negative+False_Positive)\n",
    "print(\"Specificity : \", Specificity)\n",
    "Prevalence = True_Positive / total\n",
    "print(\"Prevalence : \", Prevalence)\n"
   ]
  },
  {
   "cell_type": "code",
   "execution_count": 415,
   "metadata": {
    "collapsed": true
   },
   "outputs": [],
   "source": [
    "from sklearn.metrics import classification_report"
   ]
  },
  {
   "cell_type": "code",
   "execution_count": 416,
   "metadata": {},
   "outputs": [
    {
     "name": "stdout",
     "output_type": "stream",
     "text": [
      "             precision    recall  f1-score   support\n",
      "\n",
      "         HH       0.79      0.72      0.75       605\n",
      "         HL       0.81      0.86      0.84       859\n",
      "\n",
      "avg / total       0.80      0.80      0.80      1464\n",
      "\n"
     ]
    }
   ],
   "source": [
    "report = classification_report(y_test, y_pred)\n",
    "print(report)"
   ]
  },
  {
   "cell_type": "code",
   "execution_count": 417,
   "metadata": {},
   "outputs": [
    {
     "name": "stdout",
     "output_type": "stream",
     "text": [
      "Optimal K is 1\n"
     ]
    }
   ],
   "source": [
    "knn_k = []\n",
    "for i in range(0,33):  # try up to k=33\n",
    "    if (i % 2 != 0): # Use only odd k \n",
    "        knn_k.append(i)\n",
    "\n",
    "cross_vals = []\n",
    "for k in knn_k:\n",
    "    knn = KNeighborsClassifier(n_neighbors=k)\n",
    "    scores = cross_val_score(knn,\n",
    "                             X_train, \n",
    "                             y_train, \n",
    "                             cv = 10, \n",
    "                             scoring='accuracy')\n",
    "    cross_vals.append(scores.mean())\n",
    "\n",
    "MSE = [1 - x for x in cross_vals]\n",
    "optimal_k = knn_k[MSE.index(min(MSE))]\n",
    "print(\"Optimal K is {0}\".format(optimal_k))"
   ]
  },
  {
   "cell_type": "code",
   "execution_count": 418,
   "metadata": {},
   "outputs": [
    {
     "name": "stdout",
     "output_type": "stream",
     "text": [
      "Accuracy score using kNN is 0.803961748634\n"
     ]
    }
   ],
   "source": [
    "\n",
    "# setting kNN classifier\n",
    "knn = KNeighborsClassifier(n_neighbors=13)\n",
    "\n",
    "# kNN cross validation\n",
    "\n",
    "#print(\"KfoldCrossVal mean score using kNN is %s\" %cross_val_score(knn,X,y,cv=10).mean())\n",
    "\n",
    "# kNN metrics\n",
    "kNNm = knn.fit(X_train, y_train)\n",
    "\n",
    "y_pred = kNNm.predict(X_test)\n",
    "print(\"Accuracy score using kNN is %s\" %metrics.accuracy_score(y_test, y_pred))"
   ]
  },
  {
   "cell_type": "code",
   "execution_count": 419,
   "metadata": {},
   "outputs": [
    {
     "data": {
      "text/plain": [
       "(428, 177, 110, 749)"
      ]
     },
     "execution_count": 419,
     "metadata": {},
     "output_type": "execute_result"
    }
   ],
   "source": [
    "True_Negative, False_Positive, False_Negative, True_Positive=confusion_matrix(y_test, y_pred).ravel()\n",
    "(True_Negative, False_Positive, False_Negative, True_Positive)"
   ]
  },
  {
   "cell_type": "code",
   "execution_count": 420,
   "metadata": {},
   "outputs": [
    {
     "name": "stdout",
     "output_type": "stream",
     "text": [
      "             precision    recall  f1-score   support\n",
      "\n",
      "         HH       0.80      0.71      0.75       605\n",
      "         HL       0.81      0.87      0.84       859\n",
      "\n",
      "avg / total       0.80      0.80      0.80      1464\n",
      "\n"
     ]
    }
   ],
   "source": [
    "report = classification_report(y_test, y_pred)\n",
    "print(report)"
   ]
  },
  {
   "cell_type": "code",
   "execution_count": 421,
   "metadata": {},
   "outputs": [
    {
     "data": {
      "text/plain": [
       "1464"
      ]
     },
     "execution_count": 421,
     "metadata": {},
     "output_type": "execute_result"
    }
   ],
   "source": [
    "total = True_Negative + False_Positive + False_Negative + True_Positive\n",
    "total"
   ]
  },
  {
   "cell_type": "code",
   "execution_count": 422,
   "metadata": {},
   "outputs": [
    {
     "name": "stdout",
     "output_type": "stream",
     "text": [
      "misclassificationRate: 177.075136612\n",
      "precision: 0.808855291577\n",
      "truePositiveRate :  0.871944121071\n",
      "falsePositiveRate :  0.292561983471\n",
      "Specificity :  0.707438016529\n",
      "Prevalence :  0.511612021858\n"
     ]
    }
   ],
   "source": [
    "misclassificationRate = False_Positive + False_Negative/ total  #Analysis of results\n",
    "print(\"misclassificationRate:\", misclassificationRate)\n",
    "precision = True_Positive/( False_Positive + True_Positive)\n",
    "print(\"precision:\", precision)\n",
    "truePositiveRate = True_Positive / (True_Positive+False_Negative)\n",
    "print(\"truePositiveRate : \" , truePositiveRate)\n",
    "falsePositiveRate = False_Positive / (True_Negative+False_Positive)\n",
    "print(\"falsePositiveRate : \", falsePositiveRate)\n",
    "Specificity = True_Negative / (True_Negative+False_Positive)\n",
    "print(\"Specificity : \", Specificity)\n",
    "Prevalence = True_Positive / total\n",
    "print(\"Prevalence : \", Prevalence)"
   ]
  },
  {
   "cell_type": "code",
   "execution_count": 423,
   "metadata": {},
   "outputs": [],
   "source": [
    "\n",
    "from sklearn.naive_bayes import MultinomialNB, GaussianNB\n"
   ]
  },
  {
   "cell_type": "code",
   "execution_count": 424,
   "metadata": {},
   "outputs": [
    {
     "name": "stdout",
     "output_type": "stream",
     "text": [
      "0.739754098361\n"
     ]
    }
   ],
   "source": [
    "# testing accuracy of Multinomial Naive Bayes\n",
    "mnb = MultinomialNB()\n",
    "mnb.fit(X_train, y_train)\n",
    "y_pred_class = mnb.predict(X_test)\n",
    "print (metrics.accuracy_score(y_test, y_pred_class))"
   ]
  },
  {
   "cell_type": "code",
   "execution_count": 425,
   "metadata": {},
   "outputs": [
    {
     "data": {
      "text/plain": [
       "(327, 278, 103, 756)"
      ]
     },
     "execution_count": 425,
     "metadata": {},
     "output_type": "execute_result"
    }
   ],
   "source": [
    "True_Negative, False_Positive, False_Negative, True_Positive=confusion_matrix(y_test, y_pred_class).ravel()\n",
    "(True_Negative, False_Positive, False_Negative, True_Positive)"
   ]
  },
  {
   "cell_type": "code",
   "execution_count": 426,
   "metadata": {},
   "outputs": [
    {
     "data": {
      "text/plain": [
       "1464"
      ]
     },
     "execution_count": 426,
     "metadata": {},
     "output_type": "execute_result"
    }
   ],
   "source": [
    "total = True_Negative + False_Positive + False_Negative + True_Positive\n",
    "total"
   ]
  },
  {
   "cell_type": "code",
   "execution_count": 427,
   "metadata": {},
   "outputs": [
    {
     "name": "stdout",
     "output_type": "stream",
     "text": [
      "misclassificationRate: 278.070355191\n",
      "precision: 0.731141199226\n",
      "truePositiveRate :  0.880093131548\n",
      "falsePositiveRate :  0.459504132231\n",
      "Specificity :  0.540495867769\n",
      "Prevalence :  0.516393442623\n"
     ]
    }
   ],
   "source": [
    "misclassificationRate = False_Positive + False_Negative/ total  #Analysis of results\n",
    "print(\"misclassificationRate:\", misclassificationRate)\n",
    "precision = True_Positive/( False_Positive + True_Positive)\n",
    "print(\"precision:\", precision)\n",
    "truePositiveRate = True_Positive / (True_Positive+False_Negative)\n",
    "print(\"truePositiveRate : \" , truePositiveRate)\n",
    "falsePositiveRate = False_Positive / (True_Negative+False_Positive)\n",
    "print(\"falsePositiveRate : \", falsePositiveRate)\n",
    "Specificity = True_Negative / (True_Negative+False_Positive)\n",
    "print(\"Specificity : \", Specificity)\n",
    "Prevalence = True_Positive / total\n",
    "print(\"Prevalence : \", Prevalence)"
   ]
  },
  {
   "cell_type": "code",
   "execution_count": 428,
   "metadata": {},
   "outputs": [
    {
     "name": "stdout",
     "output_type": "stream",
     "text": [
      "             precision    recall  f1-score   support\n",
      "\n",
      "         HH       0.76      0.54      0.63       605\n",
      "         HL       0.73      0.88      0.80       859\n",
      "\n",
      "avg / total       0.74      0.74      0.73      1464\n",
      "\n"
     ]
    }
   ],
   "source": [
    "report = classification_report(y_test, y_pred_class)\n",
    "print(report)"
   ]
  },
  {
   "cell_type": "code",
   "execution_count": 429,
   "metadata": {},
   "outputs": [
    {
     "name": "stdout",
     "output_type": "stream",
     "text": [
      "0.899590163934\n"
     ]
    }
   ],
   "source": [
    "# testing accuracy of Gaussian Naive Bayes\n",
    "gnb = GaussianNB()\n",
    "gnb.fit(X_train, y_train)\n",
    "y_pred_class_gnb = gnb.predict(X_test)\n",
    "print (metrics.accuracy_score(y_test, y_pred_class_gnb))"
   ]
  },
  {
   "cell_type": "code",
   "execution_count": 430,
   "metadata": {},
   "outputs": [
    {
     "data": {
      "text/plain": [
       "(516, 89, 58, 801)"
      ]
     },
     "execution_count": 430,
     "metadata": {},
     "output_type": "execute_result"
    }
   ],
   "source": [
    "True_Negative, False_Positive, False_Negative, True_Positive=confusion_matrix(y_test, y_pred_class_gnb).ravel()\n",
    "(True_Negative, False_Positive, False_Negative, True_Positive)"
   ]
  },
  {
   "cell_type": "code",
   "execution_count": 431,
   "metadata": {},
   "outputs": [
    {
     "data": {
      "text/plain": [
       "1464"
      ]
     },
     "execution_count": 431,
     "metadata": {},
     "output_type": "execute_result"
    }
   ],
   "source": [
    "total = True_Negative + False_Positive + False_Negative + True_Positive\n",
    "total"
   ]
  },
  {
   "cell_type": "code",
   "execution_count": 432,
   "metadata": {},
   "outputs": [
    {
     "name": "stdout",
     "output_type": "stream",
     "text": [
      "misclassificationRate: 89.0396174863\n",
      "precision: 0.9\n",
      "truePositiveRate :  0.932479627474\n",
      "falsePositiveRate :  0.147107438017\n",
      "Specificity :  0.852892561983\n",
      "Prevalence :  0.547131147541\n"
     ]
    }
   ],
   "source": [
    "misclassificationRate = False_Positive + False_Negative/ total  #Analysis of results\n",
    "print(\"misclassificationRate:\", misclassificationRate)\n",
    "precision = True_Positive/( False_Positive + True_Positive)\n",
    "print(\"precision:\", precision)\n",
    "truePositiveRate = True_Positive / (True_Positive+False_Negative)\n",
    "print(\"truePositiveRate : \" , truePositiveRate)\n",
    "falsePositiveRate = False_Positive / (True_Negative+False_Positive)\n",
    "print(\"falsePositiveRate : \", falsePositiveRate)\n",
    "Specificity = True_Negative / (True_Negative+False_Positive)\n",
    "print(\"Specificity : \", Specificity)\n",
    "Prevalence = True_Positive / total\n",
    "print(\"Prevalence : \", Prevalence)"
   ]
  },
  {
   "cell_type": "code",
   "execution_count": 433,
   "metadata": {},
   "outputs": [
    {
     "name": "stdout",
     "output_type": "stream",
     "text": [
      "             precision    recall  f1-score   support\n",
      "\n",
      "         HH       0.90      0.85      0.88       605\n",
      "         HL       0.90      0.93      0.92       859\n",
      "\n",
      "avg / total       0.90      0.90      0.90      1464\n",
      "\n"
     ]
    }
   ],
   "source": [
    "report = classification_report(y_test, y_pred_class_gnb)\n",
    "print(report)"
   ]
  }
 ],
 "metadata": {
  "kernelspec": {
   "display_name": "Python 3",
   "language": "python",
   "name": "python3"
  },
  "language_info": {
   "codemirror_mode": {
    "name": "ipython",
    "version": 3
   },
   "file_extension": ".py",
   "mimetype": "text/x-python",
   "name": "python",
   "nbconvert_exporter": "python",
   "pygments_lexer": "ipython3",
   "version": "3.5.4"
  }
 },
 "nbformat": 4,
 "nbformat_minor": 2
}
